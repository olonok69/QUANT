{
 "cells": [
  {
   "cell_type": "markdown",
   "metadata": {},
   "source": [
    "### <span style=\"color:brown\">Notebook Instructions</span>\n",
    "\n",
    "- <i>  <span style=\"color:#FFFF00; background:#00C000\"> <b> Please download the notebook available as downloads in the next unit. </b> It will not run in the browser.</i>\n",
    "- <i>  Assuming, you have Anaconda or some Python environment installed on your system, <span style=\"color:#FFFF00; background:#00C000\"> <b> you need to install Keras library. </b>. </i>\n",
    "- <i> <span style=\"color:#00C000\"> DNN models are very heavy and it is possible that your code will take time to run. Be patient and try again if required. Keep your CPU free of other burdens during the time of run! </i>\n",
    "\n",
    "\n",
    "\n",
    "#### When running this model on your system, please convert the cells in RawNBConvert format type to Code type, using the dropdown for cell type option present in the menu bar.####"
   ]
  },
  {
   "cell_type": "markdown",
   "metadata": {},
   "source": [
    "### <span style=\"color:brown\">Data Pre- Processing</span>"
   ]
  },
  {
   "cell_type": "markdown",
   "metadata": {},
   "source": [
    "In this block of code we have downalaoded the data and scaled it, just as we did in the DNN model."
   ]
  },
  {
   "cell_type": "code",
   "execution_count": 1,
   "metadata": {},
   "outputs": [
    {
     "name": "stderr",
     "output_type": "stream",
     "text": [
      "C:\\Users\\udish\\Anaconda3\\envs\\py35\\lib\\site-packages\\sklearn\\utils\\validation.py:475: DataConversionWarning: Data with input dtype int64 was converted to float64 by MinMaxScaler.\n",
      "  warnings.warn(msg, DataConversionWarning)\n"
     ]
    },
    {
     "data": {
      "text/html": [
       "<div>\n",
       "<style scoped>\n",
       "    .dataframe tbody tr th:only-of-type {\n",
       "        vertical-align: middle;\n",
       "    }\n",
       "\n",
       "    .dataframe tbody tr th {\n",
       "        vertical-align: top;\n",
       "    }\n",
       "\n",
       "    .dataframe thead th {\n",
       "        text-align: right;\n",
       "    }\n",
       "</style>\n",
       "<table border=\"1\" class=\"dataframe\">\n",
       "  <thead>\n",
       "    <tr style=\"text-align: right;\">\n",
       "      <th></th>\n",
       "      <th>Symbol</th>\n",
       "      <th>Series</th>\n",
       "      <th>Prev Close</th>\n",
       "      <th>Open</th>\n",
       "      <th>High</th>\n",
       "      <th>Low</th>\n",
       "      <th>Last</th>\n",
       "      <th>Close</th>\n",
       "      <th>VWAP</th>\n",
       "      <th>Volume</th>\n",
       "      <th>Turnover</th>\n",
       "      <th>Trades</th>\n",
       "      <th>Deliverable Volume</th>\n",
       "      <th>%Deliverble</th>\n",
       "    </tr>\n",
       "    <tr>\n",
       "      <th>Date</th>\n",
       "      <th></th>\n",
       "      <th></th>\n",
       "      <th></th>\n",
       "      <th></th>\n",
       "      <th></th>\n",
       "      <th></th>\n",
       "      <th></th>\n",
       "      <th></th>\n",
       "      <th></th>\n",
       "      <th></th>\n",
       "      <th></th>\n",
       "      <th></th>\n",
       "      <th></th>\n",
       "      <th></th>\n",
       "    </tr>\n",
       "  </thead>\n",
       "  <tbody>\n",
       "    <tr>\n",
       "      <th>2018-06-28</th>\n",
       "      <td>SBIN</td>\n",
       "      <td>EQ</td>\n",
       "      <td>261.70</td>\n",
       "      <td>0.552327</td>\n",
       "      <td>0.560207</td>\n",
       "      <td>0.529180</td>\n",
       "      <td>257.6</td>\n",
       "      <td>0.535582</td>\n",
       "      <td>258.17</td>\n",
       "      <td>0.074010</td>\n",
       "      <td>5.511936e+14</td>\n",
       "      <td>123640</td>\n",
       "      <td>6890828</td>\n",
       "      <td>0.3228</td>\n",
       "    </tr>\n",
       "    <tr>\n",
       "      <th>2018-06-29</th>\n",
       "      <td>SBIN</td>\n",
       "      <td>EQ</td>\n",
       "      <td>257.00</td>\n",
       "      <td>0.541738</td>\n",
       "      <td>0.567348</td>\n",
       "      <td>0.541492</td>\n",
       "      <td>259.2</td>\n",
       "      <td>0.547156</td>\n",
       "      <td>260.91</td>\n",
       "      <td>0.054421</td>\n",
       "      <td>4.238479e+14</td>\n",
       "      <td>158728</td>\n",
       "      <td>5951231</td>\n",
       "      <td>0.3663</td>\n",
       "    </tr>\n",
       "    <tr>\n",
       "      <th>2018-07-02</th>\n",
       "      <td>SBIN</td>\n",
       "      <td>EQ</td>\n",
       "      <td>259.35</td>\n",
       "      <td>0.545186</td>\n",
       "      <td>0.558976</td>\n",
       "      <td>0.520808</td>\n",
       "      <td>260.0</td>\n",
       "      <td>0.544693</td>\n",
       "      <td>257.62</td>\n",
       "      <td>0.076108</td>\n",
       "      <td>5.641044e+14</td>\n",
       "      <td>125980</td>\n",
       "      <td>6374311</td>\n",
       "      <td>0.2911</td>\n",
       "    </tr>\n",
       "    <tr>\n",
       "      <th>2018-07-03</th>\n",
       "      <td>SBIN</td>\n",
       "      <td>EQ</td>\n",
       "      <td>258.85</td>\n",
       "      <td>0.548387</td>\n",
       "      <td>0.554789</td>\n",
       "      <td>0.532627</td>\n",
       "      <td>258.0</td>\n",
       "      <td>0.538045</td>\n",
       "      <td>258.07</td>\n",
       "      <td>0.053862</td>\n",
       "      <td>4.154624e+14</td>\n",
       "      <td>92458</td>\n",
       "      <td>4679539</td>\n",
       "      <td>0.2907</td>\n",
       "    </tr>\n",
       "    <tr>\n",
       "      <th>2018-07-04</th>\n",
       "      <td>SBIN</td>\n",
       "      <td>EQ</td>\n",
       "      <td>257.50</td>\n",
       "      <td>0.529426</td>\n",
       "      <td>0.542231</td>\n",
       "      <td>0.523270</td>\n",
       "      <td>257.4</td>\n",
       "      <td>0.537799</td>\n",
       "      <td>256.66</td>\n",
       "      <td>0.046602</td>\n",
       "      <td>3.646328e+14</td>\n",
       "      <td>100359</td>\n",
       "      <td>3726446</td>\n",
       "      <td>0.2623</td>\n",
       "    </tr>\n",
       "  </tbody>\n",
       "</table>\n",
       "</div>"
      ],
      "text/plain": [
       "           Symbol Series  Prev Close      Open      High       Low   Last  \\\n",
       "Date                                                                        \n",
       "2018-06-28   SBIN     EQ      261.70  0.552327  0.560207  0.529180  257.6   \n",
       "2018-06-29   SBIN     EQ      257.00  0.541738  0.567348  0.541492  259.2   \n",
       "2018-07-02   SBIN     EQ      259.35  0.545186  0.558976  0.520808  260.0   \n",
       "2018-07-03   SBIN     EQ      258.85  0.548387  0.554789  0.532627  258.0   \n",
       "2018-07-04   SBIN     EQ      257.50  0.529426  0.542231  0.523270  257.4   \n",
       "\n",
       "               Close    VWAP    Volume      Turnover  Trades  \\\n",
       "Date                                                           \n",
       "2018-06-28  0.535582  258.17  0.074010  5.511936e+14  123640   \n",
       "2018-06-29  0.547156  260.91  0.054421  4.238479e+14  158728   \n",
       "2018-07-02  0.544693  257.62  0.076108  5.641044e+14  125980   \n",
       "2018-07-03  0.538045  258.07  0.053862  4.154624e+14   92458   \n",
       "2018-07-04  0.537799  256.66  0.046602  3.646328e+14  100359   \n",
       "\n",
       "            Deliverable Volume  %Deliverble  \n",
       "Date                                         \n",
       "2018-06-28             6890828       0.3228  \n",
       "2018-06-29             5951231       0.3663  \n",
       "2018-07-02             6374311       0.2911  \n",
       "2018-07-03             4679539       0.2907  \n",
       "2018-07-04             3726446       0.2623  "
      ]
     },
     "execution_count": 1,
     "metadata": {},
     "output_type": "execute_result"
    }
   ],
   "source": [
    "from nsepy import get_history\n",
    "from datetime import date\n",
    "import numpy as np\n",
    "import matplotlib.pyplot as plt\n",
    "from sklearn.preprocessing import MinMaxScaler\n",
    "import pandas as pd\n",
    "\n",
    "start = date(2015,1,1)\n",
    "end= date.today()\n",
    "\n",
    "data = get_history(symbol=\"SBIN\", start=start, end=end)\n",
    "\n",
    "max_=data[['Open','High','Low','Close']].max().max()\n",
    "min_=data[['Open','High','Low','Close']].min().min()\n",
    "\n",
    "scl=MinMaxScaler()\n",
    "\n",
    "X1=(data[['Open','High','Low','Close']]-min_)/(max_-min_)\n",
    "X2=scl.fit_transform(data[['Volume']].values.reshape(-1,1))\n",
    "X1=np.array(X1)\n",
    "\n",
    "data=data.assign(Open=X1[:,0])\n",
    "data=data.assign(High=X1[:,1])\n",
    "data=data.assign(Low=X1[:,2])\n",
    "data=data.assign(Close=X1[:,3])\n",
    "data=data.assign(Volume=X2[:,0])\n",
    "data.tail()"
   ]
  },
  {
   "cell_type": "markdown",
   "metadata": {},
   "source": [
    "You can see that the OHLCV values have been updated"
   ]
  },
  {
   "cell_type": "markdown",
   "metadata": {},
   "source": [
    "### <span style=\"color:brown\"> Creating the input and target features"
   ]
  },
  {
   "cell_type": "markdown",
   "metadata": {},
   "source": [
    "Now,we will create a feature data set called  <font color =red>X</font> which will be used to create the input for the LSTM model.<br> \n",
    "\n",
    "Next, we create a dataset called <font color =red>y</font> which will contain the future close values.<br>\n",
    "\n",
    "The model will train to predict these values future close prices."
   ]
  },
  {
   "cell_type": "code",
   "execution_count": 2,
   "metadata": {},
   "outputs": [],
   "source": [
    "X=data[['Open','High','Low','Close','Volume']]\n",
    "y=data.Last.shift(-1)"
   ]
  },
  {
   "cell_type": "markdown",
   "metadata": {},
   "source": [
    "In this example, we have taken a timestep of 1 day to create the input data. This is very less compared to the 20 days data that we gave as input for the RNN. But you will be able to see that the LSTM is able to produce similar, if not better results, when compared to the RNN."
   ]
  },
  {
   "cell_type": "code",
   "execution_count": 3,
   "metadata": {},
   "outputs": [],
   "source": [
    "timestep=1\n",
    "X_list=[]\n",
    "y_list=[]\n",
    "for i in range(timestep,len(X)):\n",
    "    X_list.append(np.array(X.iloc[i-timestep:i]))\n",
    "    y_list.append(y.iloc[i:i+timestep].values)"
   ]
  },
  {
   "cell_type": "code",
   "execution_count": 4,
   "metadata": {},
   "outputs": [],
   "source": [
    "test_size=60\n",
    "X_train=np.array(X_list[:-test_size])\n",
    "y_train=np.expand_dims(np.array(y_list[:-test_size]),axis=2)\n",
    "X_test=np.array(X_list[-test_size:])\n",
    "y_test=np.expand_dims(np.array(y_list[-test_size:]),axis=2)"
   ]
  },
  {
   "cell_type": "markdown",
   "metadata": {},
   "source": [
    "### <span style=\"color:brown\">Creating an LSTM model"
   ]
  },
  {
   "cell_type": "markdown",
   "metadata": {},
   "source": [
    "First we import the necessary modules for the model from the keras library"
   ]
  },
  {
   "cell_type": "markdown",
   "metadata": {},
   "source": [
    "In this model, I have added a dropout layer with a 80% drop ratio. If you choose a model that it is not very deep then the chances of over-fitting are very less and you may not need a dropout layer. "
   ]
  },
  {
   "cell_type": "code",
   "execution_count": 5,
   "metadata": {},
   "outputs": [
    {
     "name": "stderr",
     "output_type": "stream",
     "text": [
      "Using TensorFlow backend.\n"
     ]
    }
   ],
   "source": [
    "from keras.layers import LSTM\n",
    "from keras.models import Sequential\n",
    "from keras.layers import Dropout\n",
    "from keras.layers import Dense\n",
    "from keras.callbacks import ModelCheckpoint\n",
    "# Please note that the number of neurons used in LSTM model is lesser than those in the RNN model\n",
    "neurons=200\n",
    "act='tanh'\n",
    "dropout_ratio=0.80"
   ]
  },
  {
   "cell_type": "markdown",
   "metadata": {},
   "source": [
    "Let us begin to build the model, as you might recall the first layer will always be a sequential one. Followed by an LSTM in this case, as we want to test a simple LSTM model to check the accuracy.\n",
    "\n",
    "After this, I have added a few Dense layers (fully connected Neural Network) along with the dropout layers.\n",
    "\n",
    "As the depth of the model increases, the model's ability to create complex features also increases. But, this often results in overfitting."
   ]
  },
  {
   "cell_type": "code",
   "execution_count": 7,
   "metadata": {
    "scrolled": true
   },
   "outputs": [],
   "source": [
    "model=Sequential()\n",
    "model.add(LSTM(4,input_shape=(X_train.shape[1],X_train.shape[2]),return_sequences=True))\n",
    "model.add(Dense(neurons,activation=act))\n",
    "model.add(Dropout(dropout_ratio))\n",
    "model.add(Dense(neurons*2,activation=act))\n",
    "model.add(Dropout(dropout_ratio))\n",
    "model.add(Dense(neurons*3,activation=act))\n",
    "model.add(Dropout(dropout_ratio))\n",
    "model.add(Dense(neurons*4,activation=act))\n",
    "model.add(Dropout(dropout_ratio))\n",
    "model.add(Dense(neurons*5,activation=act))\n",
    "model.add(Dropout(dropout_ratio))\n",
    "model.add(Dense(1))\n",
    "model.compile(loss='mean_squared_error', optimizer='adam', metrics = ['mse'])"
   ]
  },
  {
   "cell_type": "markdown",
   "metadata": {},
   "source": [
    "### <span style=\"color:brown\"> Saving and loading the model"
   ]
  },
  {
   "cell_type": "markdown",
   "metadata": {},
   "source": [
    "In Keras, we can save the best weights of the model by creating a checkpoint during the training of the model. To create a checkpoint, we specify the metric that needs to be monitored and saved accordingly. In this example, I have passed the validation set loss as the monitoring parameter, and specified the mode of saving as 'auto'. This means that the model will save the weights of the network whenever a now low value for the validation loss is generated. \n",
    "\n",
    "I have specified the file path as LSTM-weights-best.hdf5 to save the weights of the model.\n",
    "\n",
    "The verbose=1 parameter defines how much information about every batch training needs to be printed\n",
    "\n",
    "#### We strongly encourage you to change all the parameters discussed above to create your own models and test them out.\n",
    "\n",
    "Also, please be reasonable in specifying the depth and number of neurons in a model, else you may not get a result in reasonable time."
   ]
  },
  {
   "cell_type": "code",
   "execution_count": 8,
   "metadata": {},
   "outputs": [],
   "source": [
    "filepath=\"LSTM-weights-best.hdf5\"\n",
    "checkpoint = ModelCheckpoint(filepath, monitor='val_loss', verbose=1, save_best_only=True, mode='auto')"
   ]
  },
  {
   "cell_type": "markdown",
   "metadata": {},
   "source": [
    "Now let us visualize our model."
   ]
  },
  {
   "cell_type": "code",
   "execution_count": 9,
   "metadata": {},
   "outputs": [
    {
     "name": "stdout",
     "output_type": "stream",
     "text": [
      "_________________________________________________________________\n",
      "Layer (type)                 Output Shape              Param #   \n",
      "=================================================================\n",
      "lstm_2 (LSTM)                (None, 1, 4)              160       \n",
      "_________________________________________________________________\n",
      "dense_7 (Dense)              (None, 1, 200)            1000      \n",
      "_________________________________________________________________\n",
      "dropout_6 (Dropout)          (None, 1, 200)            0         \n",
      "_________________________________________________________________\n",
      "dense_8 (Dense)              (None, 1, 400)            80400     \n",
      "_________________________________________________________________\n",
      "dropout_7 (Dropout)          (None, 1, 400)            0         \n",
      "_________________________________________________________________\n",
      "dense_9 (Dense)              (None, 1, 600)            240600    \n",
      "_________________________________________________________________\n",
      "dropout_8 (Dropout)          (None, 1, 600)            0         \n",
      "_________________________________________________________________\n",
      "dense_10 (Dense)             (None, 1, 800)            480800    \n",
      "_________________________________________________________________\n",
      "dropout_9 (Dropout)          (None, 1, 800)            0         \n",
      "_________________________________________________________________\n",
      "dense_11 (Dense)             (None, 1, 1000)           801000    \n",
      "_________________________________________________________________\n",
      "dropout_10 (Dropout)         (None, 1, 1000)           0         \n",
      "_________________________________________________________________\n",
      "dense_12 (Dense)             (None, 1, 1)              1001      \n",
      "=================================================================\n",
      "Total params: 1,604,961\n",
      "Trainable params: 1,604,961\n",
      "Non-trainable params: 0\n",
      "_________________________________________________________________\n"
     ]
    }
   ],
   "source": [
    "model.summary()"
   ]
  },
  {
   "cell_type": "markdown",
   "metadata": {},
   "source": [
    "Now, its time to train the model.\n",
    "\n",
    "While training the model we have to specify the size of the batch, this indicates to the model how many train samples it should take in a single batch while training.\n",
    "\n",
    "The validation split randomly splits the train data to verify the performance of the model on untrained data.\n",
    "\n",
    "Epochs are the number of runs the model needs to make for the convergence of train and validation losses."
   ]
  },
  {
   "cell_type": "raw",
   "metadata": {
    "scrolled": true
   },
   "source": [
    "model.fit(X_train, y_train, epochs=100, batch_size=1, verbose=1, validation_split=0.2,callbacks=[checkpoint])"
   ]
  },
  {
   "cell_type": "markdown",
   "metadata": {},
   "source": [
    "Once we have generated the best weigths and saved them using the callback feature, we would want our final model to have this best weigths fitted before making the predictions on the test data. So, we load these weights using the load_weights function."
   ]
  },
  {
   "cell_type": "code",
   "execution_count": 11,
   "metadata": {},
   "outputs": [],
   "source": [
    "model.load_weights(\"LSTM-weights-best.hdf5\")"
   ]
  },
  {
   "cell_type": "markdown",
   "metadata": {},
   "source": [
    "### <span style=\"color:brown\"> Predicting the Close Prices"
   ]
  },
  {
   "cell_type": "markdown",
   "metadata": {},
   "source": [
    "Now, we will create a list that would hold the LSTM model's predicitons on the test data.\n",
    "\n",
    "After this, we create a dataframe called performance that contains the actual close values and the predictied close values to analyze the predictions"
   ]
  },
  {
   "cell_type": "code",
   "execution_count": 12,
   "metadata": {},
   "outputs": [],
   "source": [
    "predict_close=[]\n",
    "predict_close = list(model.predict(X_test))\n"
   ]
  },
  {
   "cell_type": "code",
   "execution_count": 13,
   "metadata": {
    "scrolled": true
   },
   "outputs": [
    {
     "data": {
      "text/plain": [
       "[260.89175,\n",
       " 259.57935,\n",
       " 257.7258,\n",
       " 256.92847,\n",
       " 252.82968,\n",
       " 253.34018,\n",
       " 251.45157,\n",
       " 248.81161,\n",
       " 244.01123,\n",
       " 242.94954,\n",
       " 242.57903,\n",
       " 241.62683,\n",
       " 241.30423,\n",
       " 242.13867,\n",
       " 248.72386,\n",
       " 243.84131,\n",
       " 242.58057,\n",
       " 243.39839,\n",
       " 244.50658,\n",
       " 252.80367,\n",
       " 251.11128,\n",
       " 250.96132,\n",
       " 250.71394,\n",
       " 254.9384,\n",
       " 254.74693,\n",
       " 245.24763,\n",
       " 243.78178,\n",
       " 242.60141,\n",
       " 244.26086,\n",
       " 257.42343,\n",
       " 263.95618,\n",
       " 264.26196,\n",
       " 264.1762,\n",
       " 266.0474,\n",
       " 264.2389,\n",
       " 261.70462,\n",
       " 266.47986,\n",
       " 264.53387,\n",
       " 262.8593,\n",
       " 260.83463,\n",
       " 263.32874,\n",
       " 267.76126,\n",
       " 266.2981,\n",
       " 275.7344,\n",
       " 285.19666,\n",
       " 289.6656,\n",
       " 288.22852,\n",
       " 286.1432,\n",
       " 282.55096,\n",
       " 273.8876,\n",
       " 270.89966,\n",
       " 268.16837,\n",
       " 266.78845,\n",
       " 266.28647,\n",
       " 264.57275,\n",
       " 262.82233,\n",
       " 259.51086,\n",
       " 259.52234,\n",
       " 259.11053,\n",
       " 259.14658]"
      ]
     },
     "execution_count": 13,
     "metadata": {},
     "output_type": "execute_result"
    }
   ],
   "source": [
    "predicted_close=[]\n",
    "for i in range(len(y_test)):\n",
    "    predicted_close.append((predict_close[i][0][0]))\n",
    "predicted_close"
   ]
  },
  {
   "cell_type": "code",
   "execution_count": 14,
   "metadata": {
    "scrolled": true
   },
   "outputs": [
    {
     "data": {
      "text/plain": [
       "[253.9,\n",
       " 250.8,\n",
       " 249.0,\n",
       " 248.15,\n",
       " 247.0,\n",
       " 246.7,\n",
       " 241.85,\n",
       " 242.4,\n",
       " 240.7,\n",
       " 237.5,\n",
       " 233.25,\n",
       " 243.2,\n",
       " 246.05,\n",
       " 241.2,\n",
       " 241.6,\n",
       " 241.75,\n",
       " 247.2,\n",
       " 250.3,\n",
       " 248.1,\n",
       " 247.1,\n",
       " 250.8,\n",
       " 252.4,\n",
       " 246.55,\n",
       " 242.9,\n",
       " 242.55,\n",
       " 239.6,\n",
       " 244.5,\n",
       " 255.7,\n",
       " 263.45,\n",
       " 268.8,\n",
       " 267.0,\n",
       " 271.95,\n",
       " 263.65,\n",
       " 266.95,\n",
       " 270.0,\n",
       " 267.0,\n",
       " 263.2,\n",
       " 263.25,\n",
       " 270.25,\n",
       " 269.55,\n",
       " 273.0,\n",
       " 273.6,\n",
       " 284.0,\n",
       " 287.3,\n",
       " 282.85,\n",
       " 277.85,\n",
       " 276.6,\n",
       " 272.5,\n",
       " 273.2,\n",
       " 268.8,\n",
       " 273.0,\n",
       " 268.5,\n",
       " 267.0,\n",
       " 261.05,\n",
       " 257.6,\n",
       " 259.2,\n",
       " 260.0,\n",
       " 258.0,\n",
       " 257.4,\n",
       " nan]"
      ]
     },
     "execution_count": 14,
     "metadata": {},
     "output_type": "execute_result"
    }
   ],
   "source": [
    "actual_close=[]\n",
    "for i in range(len(y_test)):\n",
    "    actual_close.append((y_test[i][0][0]))\n",
    "actual_close"
   ]
  },
  {
   "cell_type": "code",
   "execution_count": 15,
   "metadata": {},
   "outputs": [],
   "source": [
    "performance=pd.DataFrame([list(predicted_close),list(actual_close)])"
   ]
  },
  {
   "cell_type": "code",
   "execution_count": 16,
   "metadata": {},
   "outputs": [],
   "source": [
    "performance=performance.T"
   ]
  },
  {
   "cell_type": "code",
   "execution_count": 17,
   "metadata": {},
   "outputs": [],
   "source": [
    "performance.columns=['Predicted','Actual']\n",
    "Spread=performance.Actual-performance.Predicted\n"
   ]
  },
  {
   "cell_type": "code",
   "execution_count": 18,
   "metadata": {},
   "outputs": [
    {
     "data": {
      "text/html": [
       "<div>\n",
       "<style scoped>\n",
       "    .dataframe tbody tr th:only-of-type {\n",
       "        vertical-align: middle;\n",
       "    }\n",
       "\n",
       "    .dataframe tbody tr th {\n",
       "        vertical-align: top;\n",
       "    }\n",
       "\n",
       "    .dataframe thead th {\n",
       "        text-align: right;\n",
       "    }\n",
       "</style>\n",
       "<table border=\"1\" class=\"dataframe\">\n",
       "  <thead>\n",
       "    <tr style=\"text-align: right;\">\n",
       "      <th></th>\n",
       "      <th>Predicted</th>\n",
       "      <th>Actual</th>\n",
       "    </tr>\n",
       "  </thead>\n",
       "  <tbody>\n",
       "    <tr>\n",
       "      <th>55</th>\n",
       "      <td>262.822327</td>\n",
       "      <td>259.2</td>\n",
       "    </tr>\n",
       "    <tr>\n",
       "      <th>56</th>\n",
       "      <td>259.510864</td>\n",
       "      <td>260.0</td>\n",
       "    </tr>\n",
       "    <tr>\n",
       "      <th>57</th>\n",
       "      <td>259.522339</td>\n",
       "      <td>258.0</td>\n",
       "    </tr>\n",
       "    <tr>\n",
       "      <th>58</th>\n",
       "      <td>259.110535</td>\n",
       "      <td>257.4</td>\n",
       "    </tr>\n",
       "    <tr>\n",
       "      <th>59</th>\n",
       "      <td>259.146576</td>\n",
       "      <td>NaN</td>\n",
       "    </tr>\n",
       "  </tbody>\n",
       "</table>\n",
       "</div>"
      ],
      "text/plain": [
       "     Predicted  Actual\n",
       "55  262.822327   259.2\n",
       "56  259.510864   260.0\n",
       "57  259.522339   258.0\n",
       "58  259.110535   257.4\n",
       "59  259.146576     NaN"
      ]
     },
     "execution_count": 18,
     "metadata": {},
     "output_type": "execute_result"
    }
   ],
   "source": [
    "performance.tail()"
   ]
  },
  {
   "cell_type": "markdown",
   "metadata": {},
   "source": [
    "Now we will plot and see how the spread between the Actual and Predicted prices behaves. If the spread is mean reverting, then we can use this knowledge to create good entry and exit points for already exiting trades, or we enter new positions. "
   ]
  },
  {
   "cell_type": "code",
   "execution_count": 19,
   "metadata": {},
   "outputs": [
    {
     "data": {
      "image/png": "[encoded data removed]",
      "text/plain": [
       "<Figure size 1080x504 with 1 Axes>"
      ]
     },
     "metadata": {},
     "output_type": "display_data"
    }
   ],
   "source": [
    "# Here s stands for the standard deviation range for the spread, beyond which we will consider the entry and exit positions\n",
    "# Feel free to change this s value to generate different signals\n",
    "s=2\n",
    "plt.figure(figsize=(15,7))\n",
    "plt.plot(Spread)\n",
    "plt.plot(Spread.expanding().mean()+s*Spread.expanding().std(),c='g')\n",
    "plt.plot(Spread.expanding().mean()-s*Spread.expanding().std(),c='r')\n",
    "plt.ylabel('Spread')\n",
    "plt.xlabel('Test Data')\n",
    "plt.show()"
   ]
  },
  {
   "cell_type": "markdown",
   "metadata": {},
   "source": [
    "### <span style=\"color:brown\"> Visualizing and comparing the performance"
   ]
  },
  {
   "cell_type": "markdown",
   "metadata": {},
   "source": [
    "Now, let us plot the predicted and actual values of the close prices."
   ]
  },
  {
   "cell_type": "markdown",
   "metadata": {},
   "source": [
    "In this strategy, we have generated a buy signal everytime the spread value has gone below the lower standard deviation line.\n",
    "Conversely, we have generated a sell signal everytime the spread value has gone above the upper standard deviation line."
   ]
  },
  {
   "cell_type": "markdown",
   "metadata": {},
   "source": [
    "####  Please note: We have given a simple mean reverting model that could be used for paper trading. This just a toy example, and not meant for real trading. To build a robust Mean Reverting model, we need to perform thorough satistical analysis such as Augmented Dicky Fuller test and calcualte the half life of the strategy using the Ornstein-Uhlenbeck test to know the ideal holding time period for a trade. We have covered these in detail in the Mean Reversion Trading Strategies by Dr. E. P. Chan."
   ]
  },
  {
   "cell_type": "code",
   "execution_count": 20,
   "metadata": {
    "scrolled": false
   },
   "outputs": [
    {
     "data": {
      "image/png": "[encoded data removed]",
      "text/plain": [
       "<Figure size 1080x504 with 1 Axes>"
      ]
     },
     "metadata": {},
     "output_type": "display_data"
    }
   ],
   "source": [
    "plt.figure(figsize=(15,7))\n",
    "# Plot the predicted and actual prices for comparison\n",
    "plt.plot(performance.Predicted.iloc[:-1],c='y')\n",
    "plt.plot(performance.Actual,c='b')\n",
    "# Plot the sell signlas wherever the Spread is above the upper standard deviation band\n",
    "plt.scatter(performance.Actual[(Spread>Spread.expanding().mean()+s*Spread.expanding().std())].index,\n",
    "            performance.Actual[(Spread>Spread.expanding().mean()+s*Spread.expanding().std())],c='r',s=50)\n",
    "# Plot the buy signlas wherever the Spread is below the lower standard deviation band\n",
    "plt.scatter(performance.Actual[(Spread<Spread.expanding().mean()-s*Spread.expanding().std())].index,\n",
    "            performance.Actual[(Spread<Spread.expanding().mean()-s*Spread.expanding().std())],c='g',s=50)\n",
    "plt.legend(['Predicted_Close','Actual_Close','Over Bought','Over Sold'])\n",
    "plt.ylabel('SBI Price')\n",
    "plt.xlabel('Test Data')\n",
    "plt.show()\n"
   ]
  },
  {
   "cell_type": "markdown",
   "metadata": {},
   "source": [
    "### Conculsion"
   ]
  },
  {
   "cell_type": "markdown",
   "metadata": {
    "collapsed": true
   },
   "source": [
    "We can see from the above graph that whenever the sell signals are generated, the market has either turned sideways/ neutral, or  shown a sharp reversal. To learn how to confirm mean reversion and how to use such signals, please refer to the course on Mean Reversion Strategies by Dr.E .P. Chan. In the next section, we will learn how to create a DNN archietecture automatically and fine tune the hyper-parameters to create the best model. Till then, we hope that you will explore more."
   ]
  }
 ],
 "metadata": {
  "anaconda-cloud": {},
  "kernelspec": {
   "display_name": "Python 3",
   "language": "python",
   "name": "python3"
  },
  "language_info": {
   "codemirror_mode": {
    "name": "ipython",
    "version": 3
   },
   "file_extension": ".py",
   "mimetype": "text/x-python",
   "name": "python",
   "nbconvert_exporter": "python",
   "pygments_lexer": "ipython3",
   "version": "3.5.5"
  }
 },
 "nbformat": 4,
 "nbformat_minor": 1
}
