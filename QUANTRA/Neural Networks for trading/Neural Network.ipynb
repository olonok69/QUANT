{
 "cells": [
  {
   "cell_type": "markdown",
   "metadata": {},
   "source": [
    "# Notebook Instructions\n",
    "<i>You can run the notebook document sequentially (one cell at a time) by pressing <b> shift + enter</b>. While a cell is running, a [*] will display on the left. When it has been run, a number will display indicating the order in which it was run in the notebook [8].</i>\n",
    "\n",
    "<i>Enter edit mode by pressing <b>`Enter`</b> or using the mouse to click on a cell's editor area. Edit mode is indicated by a green cell border and a prompt showing in the editor area.</i>"
   ]
  },
  {
   "cell_type": "markdown",
   "metadata": {},
   "source": [
    "## Neural Network\n",
    "\n",
    "In this notebook, we will use sklearn's MLPClassifier to create a trading strategy using the neural network. We will\n",
    "follow the below steps.\n",
    "\n",
    "1. Import the data\n",
    "2. Define predictors and target variables\n",
    "3. Split the data into train and test dataset\n",
    "4. Scale the data\n",
    "5. Create a neural network using the train data\n",
    "6. Analyze the performance"
   ]
  },
  {
   "cell_type": "markdown",
   "metadata": {},
   "source": [
    "### Import the data\n",
    "\n",
    "We import the data of Boeing Co (ticker: BA) from the csv file."
   ]
  },
  {
   "cell_type": "code",
   "execution_count": 1,
   "metadata": {},
   "outputs": [
    {
     "data": {
      "text/html": [
       "<div>\n",
       "<style scoped>\n",
       "    .dataframe tbody tr th:only-of-type {\n",
       "        vertical-align: middle;\n",
       "    }\n",
       "\n",
       "    .dataframe tbody tr th {\n",
       "        vertical-align: top;\n",
       "    }\n",
       "\n",
       "    .dataframe thead th {\n",
       "        text-align: right;\n",
       "    }\n",
       "</style>\n",
       "<table border=\"1\" class=\"dataframe\">\n",
       "  <thead>\n",
       "    <tr style=\"text-align: right;\">\n",
       "      <th></th>\n",
       "      <th>Open</th>\n",
       "      <th>High</th>\n",
       "      <th>Low</th>\n",
       "      <th>Close</th>\n",
       "      <th>Volume</th>\n",
       "      <th>Dividend</th>\n",
       "      <th>Split</th>\n",
       "      <th>Adj_Open</th>\n",
       "      <th>Adj_High</th>\n",
       "      <th>Adj_Low</th>\n",
       "      <th>Adj_Close</th>\n",
       "      <th>Adj_Volume</th>\n",
       "    </tr>\n",
       "    <tr>\n",
       "      <th>Date</th>\n",
       "      <th></th>\n",
       "      <th></th>\n",
       "      <th></th>\n",
       "      <th></th>\n",
       "      <th></th>\n",
       "      <th></th>\n",
       "      <th></th>\n",
       "      <th></th>\n",
       "      <th></th>\n",
       "      <th></th>\n",
       "      <th></th>\n",
       "      <th></th>\n",
       "    </tr>\n",
       "  </thead>\n",
       "  <tbody>\n",
       "    <tr>\n",
       "      <th>2018-04-11</th>\n",
       "      <td>331.60</td>\n",
       "      <td>337.57</td>\n",
       "      <td>326.31</td>\n",
       "      <td>327.36</td>\n",
       "      <td>4566253.0</td>\n",
       "      <td>0.0</td>\n",
       "      <td>1.0</td>\n",
       "      <td>329.960125</td>\n",
       "      <td>335.900601</td>\n",
       "      <td>324.696286</td>\n",
       "      <td>325.741093</td>\n",
       "      <td>4566253.0</td>\n",
       "    </tr>\n",
       "    <tr>\n",
       "      <th>2018-04-12</th>\n",
       "      <td>331.98</td>\n",
       "      <td>338.35</td>\n",
       "      <td>330.46</td>\n",
       "      <td>337.48</td>\n",
       "      <td>4318083.0</td>\n",
       "      <td>0.0</td>\n",
       "      <td>1.0</td>\n",
       "      <td>330.338246</td>\n",
       "      <td>336.676744</td>\n",
       "      <td>328.825763</td>\n",
       "      <td>335.811046</td>\n",
       "      <td>4318083.0</td>\n",
       "    </tr>\n",
       "    <tr>\n",
       "      <th>2018-04-13</th>\n",
       "      <td>338.99</td>\n",
       "      <td>339.67</td>\n",
       "      <td>326.60</td>\n",
       "      <td>329.28</td>\n",
       "      <td>4730972.0</td>\n",
       "      <td>0.0</td>\n",
       "      <td>1.0</td>\n",
       "      <td>337.313579</td>\n",
       "      <td>337.990216</td>\n",
       "      <td>324.984852</td>\n",
       "      <td>327.651598</td>\n",
       "      <td>4730972.0</td>\n",
       "    </tr>\n",
       "  </tbody>\n",
       "</table>\n",
       "</div>"
      ],
      "text/plain": [
       "              Open    High     Low   Close     Volume  Dividend  Split  \\\n",
       "Date                                                                     \n",
       "2018-04-11  331.60  337.57  326.31  327.36  4566253.0       0.0    1.0   \n",
       "2018-04-12  331.98  338.35  330.46  337.48  4318083.0       0.0    1.0   \n",
       "2018-04-13  338.99  339.67  326.60  329.28  4730972.0       0.0    1.0   \n",
       "\n",
       "              Adj_Open    Adj_High     Adj_Low   Adj_Close  Adj_Volume  \n",
       "Date                                                                    \n",
       "2018-04-11  329.960125  335.900601  324.696286  325.741093   4566253.0  \n",
       "2018-04-12  330.338246  336.676744  328.825763  335.811046   4318083.0  \n",
       "2018-04-13  337.313579  337.990216  324.984852  327.651598   4730972.0  "
      ]
     },
     "execution_count": 1,
     "metadata": {},
     "output_type": "execute_result"
    }
   ],
   "source": [
    "import pandas as pd\n",
    "data = pd.read_csv('BA.csv',index_col=0)\n",
    "data.index = pd.to_datetime(data.index)\n",
    "data.tail(3)"
   ]
  },
  {
   "cell_type": "markdown",
   "metadata": {},
   "source": [
    "### Define predictor variables and a target variable\n",
    "\n",
    "We define a list of predictors as listed below \n",
    "1. ret1 is the one-day returns, \n",
    "2. ret5 is the five-day returns, \n",
    "3. std5 is the five-day standard deviation, \n",
    "4. volume_by_adv20 is the volume divided by the 20-days average of daily volume and \n",
    "5. price differences (High - Low) and (Open - Close). <BR>\n",
    "\n",
    "Syntax:\n",
    "1. <font color='blue'>pct_change()</font> computes the percentage change from the immediately previous row by default.\n",
    "2. <font color='blue'>rolling_sum(dataframe.column_name, window=n)</font> computes the sum of previous n rows.\n",
    "3. <font color='blue'>rolling_std(dataframe.column_name, window=n)</font> computes the standard deviation of previous n rows."
   ]
  },
  {
   "cell_type": "code",
   "execution_count": 2,
   "metadata": {
    "collapsed": true
   },
   "outputs": [],
   "source": [
    "# Returns\n",
    "data['ret1'] = data['Adj_Close'].pct_change()\n",
    "data['ret5'] = pd.rolling_sum(data.ret1, 5)\n",
    "\n",
    "# Standard Deviation\n",
    "data['std5'] = pd.rolling_std(data.ret1, 5)\n",
    "\n",
    "# Volume by ADV20\n",
    "data['volume_by_adv20'] = data.Adj_Volume/pd.rolling_mean(data.Adj_Volume,20)\n",
    "\n",
    "# High - low\n",
    "data['H-L'] = data['Adj_High'] - data['Adj_Low']\n",
    "\n",
    "# Open - Close\n",
    "data['O-C'] = data['Adj_Close'] - data['Adj_Open']"
   ]
  },
  {
   "cell_type": "markdown",
   "metadata": {},
   "source": [
    "We define the target variable which is the future one-day returns. <BR>\n",
    "\n",
    "Syntax:\n",
    "<font color='blue'>shift(periods=n)</font> shifts the values by n period(s). If the value of n is negative then, it shifts the values backward and vice-versa."
   ]
  },
  {
   "cell_type": "code",
   "execution_count": 3,
   "metadata": {
    "collapsed": true
   },
   "outputs": [],
   "source": [
    "# Future returns\n",
    "data['retFut1'] = data.ret1.shift(-1)"
   ]
  },
  {
   "cell_type": "markdown",
   "metadata": {},
   "source": [
    "We drop the NaN values and store the predictor variables in X and target variable in y. The target variable is \n",
    "- 1.0 if the one-day future returns are positive and \n",
    "- 0 if the returns are negative or zero."
   ]
  },
  {
   "cell_type": "code",
   "execution_count": 4,
   "metadata": {
    "collapsed": true
   },
   "outputs": [],
   "source": [
    "# Define predictor variables (X) and a target variable (y)\n",
    "data = data.dropna()\n",
    "predictor_list = ['H-L','O-C','ret5', 'std5','volume_by_adv20']\n",
    "X = data[predictor_list]\n",
    "\n",
    "import numpy as np\n",
    "y = np.where(data.retFut1 > 0.0, 1.0, 0)"
   ]
  },
  {
   "cell_type": "markdown",
   "metadata": {},
   "source": [
    "### Split the data into train and test dataset\n",
    "\n",
    "This step is required to verify if the neural network we will create is any good. We will split the dataset into two parts, first 80% of the dataset will be used to create the model and the remaining 20% will be used as a test dataset."
   ]
  },
  {
   "cell_type": "code",
   "execution_count": 5,
   "metadata": {
    "collapsed": true
   },
   "outputs": [],
   "source": [
    "# Split the data into train and test dataset\n",
    "from sklearn.model_selection import train_test_split\n",
    "\n",
    "train_length = int(len(data)*0.80)\n",
    "\n",
    "X_train = X[:train_length] \n",
    "X_test =  X[train_length:]\n",
    "\n",
    "y_train = y[:train_length]\n",
    "y_test = y[train_length:]    "
   ]
  },
  {
   "cell_type": "markdown",
   "metadata": {},
   "source": [
    "Often, there is a regime change in time series data, so that a model trained on data randomly selected through the dataset will outperform a model trained on data selected from an earlier part of the data, but the latter will be more realistic. Also, if we are forced to select from an earlier part of the data, there is no way to ensure that the statistics of the train and test set are the same (i.e. equal % of classes in each), but that again is realistic. In trading applications, we normally don't have truly stationary statistics, and a ML strategy needs to be robust enough to withstand that."
   ]
  },
  {
   "cell_type": "markdown",
   "metadata": {},
   "source": [
    "### Scale the data\n",
    "\n",
    "In this step, we standardize the features stored in X using sklearn's StandardScaler function. The machine learning model might behave in unexpected fashion if the individual predictors are not standardized.\n",
    "\n",
    "The StandardScaler function standardizes the predictors by removing the mean and scaling to unit variance."
   ]
  },
  {
   "cell_type": "code",
   "execution_count": 6,
   "metadata": {
    "collapsed": true
   },
   "outputs": [],
   "source": [
    "from sklearn.preprocessing import StandardScaler\n",
    "scaler = StandardScaler()\n",
    "\n",
    "# Create the scaler model using train data\n",
    "scaler.fit(X_train)\n",
    "\n",
    "# Transform the training and test data using the scaler model created above\n",
    "X_train = scaler.transform(X_train)\n",
    "X_test = scaler.transform(X_test)"
   ]
  },
  {
   "cell_type": "markdown",
   "metadata": {},
   "source": [
    "## Create a neural network model\n",
    "\n",
    "The MLPClassifier function from the sklearn.neural_network package is used to create a neural network model. The MLPClassifier takes following as input parameter\n",
    "1. <b>activation:</b> The activation function such as logistic regression can be used to define the output from the neurons.\n",
    "2. <b>hidden_layer_sizes:</b> A tuple to specify the number of hidden layers and number of neurons in each of the hidden layers. For example, the tuple (2,5) indicates two hidden layers with 2 neurons in the first layer and 5 neurons in the second layer.\n",
    "3. <b>random_state:</b> It is used to initialize the weights and bias.\n",
    "4. <b>solver:</b> A function such as stochastic gradient descent is used to optimize the weights during backpropagation. 'sgd' is specified to indicate 'stochastic gradient descent'. For the full list of functions type help(MLPClassifier)."
   ]
  },
  {
   "cell_type": "code",
   "execution_count": 7,
   "metadata": {
    "collapsed": true
   },
   "outputs": [],
   "source": [
    "# Import the MLPClassifier\n",
    "from sklearn.neural_network import MLPClassifier\n",
    "# Uncomment below line to see details of MLPClassifier\n",
    "# help(MLPClassifier)"
   ]
  },
  {
   "cell_type": "code",
   "execution_count": 8,
   "metadata": {
    "collapsed": true
   },
   "outputs": [],
   "source": [
    "# seed is initialized to 42\n",
    "seed = 42\n",
    "# Create the MLPClassifier model\n",
    "mlp = MLPClassifier(activation='logistic', hidden_layer_sizes=(5), random_state=seed, solver='sgd')"
   ]
  },
  {
   "cell_type": "markdown",
   "metadata": {},
   "source": [
    "### Training the model\n",
    "\n",
    "The fit function is used to train the model using the train dataset which is stored in X_train and y_train. The parameters to the fit function are the predictor variables and target variable."
   ]
  },
  {
   "cell_type": "code",
   "execution_count": 9,
   "metadata": {},
   "outputs": [
    {
     "data": {
      "text/plain": [
       "MLPClassifier(activation='logistic', alpha=0.0001, batch_size='auto',\n",
       "       beta_1=0.9, beta_2=0.999, early_stopping=False, epsilon=1e-08,\n",
       "       hidden_layer_sizes=5, learning_rate='constant',\n",
       "       learning_rate_init=0.001, max_iter=200, momentum=0.9,\n",
       "       nesterovs_momentum=True, power_t=0.5, random_state=42, shuffle=True,\n",
       "       solver='sgd', tol=0.0001, validation_fraction=0.1, verbose=False,\n",
       "       warm_start=False)"
      ]
     },
     "execution_count": 9,
     "metadata": {},
     "output_type": "execute_result"
    }
   ],
   "source": [
    "# Fit the model on train dataset\n",
    "mlp.fit(X_train, y_train)"
   ]
  },
  {
   "cell_type": "code",
   "execution_count": 10,
   "metadata": {
    "collapsed": true
   },
   "outputs": [],
   "source": [
    "# Uncomment below line to see details of MLPClassifier\n",
    "# help(MLPClassifier)"
   ]
  },
  {
   "cell_type": "markdown",
   "metadata": {},
   "source": [
    "## Predict using the neural network\n",
    "\n",
    "We define a trading rule based on the predicted value from the neural network. If the predicted value is positive then we buy (+1) the stock and otherwise, we don't buy the stock. This signal is stored in predicted_signal. The strategy returns are generated by multiplying the future one-day returns by the predicted signal and stored in the strategy_returns_nn. "
   ]
  },
  {
   "cell_type": "code",
   "execution_count": 11,
   "metadata": {},
   "outputs": [
    {
     "data": {
      "text/html": [
       "<div>\n",
       "<style scoped>\n",
       "    .dataframe tbody tr th:only-of-type {\n",
       "        vertical-align: middle;\n",
       "    }\n",
       "\n",
       "    .dataframe tbody tr th {\n",
       "        vertical-align: top;\n",
       "    }\n",
       "\n",
       "    .dataframe thead th {\n",
       "        text-align: right;\n",
       "    }\n",
       "</style>\n",
       "<table border=\"1\" class=\"dataframe\">\n",
       "  <thead>\n",
       "    <tr style=\"text-align: right;\">\n",
       "      <th></th>\n",
       "      <th>Open</th>\n",
       "      <th>High</th>\n",
       "      <th>Low</th>\n",
       "      <th>Close</th>\n",
       "      <th>Volume</th>\n",
       "      <th>Dividend</th>\n",
       "      <th>Split</th>\n",
       "      <th>Adj_Open</th>\n",
       "      <th>Adj_High</th>\n",
       "      <th>Adj_Low</th>\n",
       "      <th>...</th>\n",
       "      <th>Adj_Volume</th>\n",
       "      <th>ret1</th>\n",
       "      <th>ret5</th>\n",
       "      <th>std5</th>\n",
       "      <th>volume_by_adv20</th>\n",
       "      <th>H-L</th>\n",
       "      <th>O-C</th>\n",
       "      <th>retFut1</th>\n",
       "      <th>predicted_signal</th>\n",
       "      <th>strategy_returns_nn</th>\n",
       "    </tr>\n",
       "    <tr>\n",
       "      <th>Date</th>\n",
       "      <th></th>\n",
       "      <th></th>\n",
       "      <th></th>\n",
       "      <th></th>\n",
       "      <th></th>\n",
       "      <th></th>\n",
       "      <th></th>\n",
       "      <th></th>\n",
       "      <th></th>\n",
       "      <th></th>\n",
       "      <th></th>\n",
       "      <th></th>\n",
       "      <th></th>\n",
       "      <th></th>\n",
       "      <th></th>\n",
       "      <th></th>\n",
       "      <th></th>\n",
       "      <th></th>\n",
       "      <th></th>\n",
       "      <th></th>\n",
       "      <th></th>\n",
       "    </tr>\n",
       "  </thead>\n",
       "  <tbody>\n",
       "    <tr>\n",
       "      <th>2018-04-10</th>\n",
       "      <td>331.35</td>\n",
       "      <td>336.69</td>\n",
       "      <td>329.55</td>\n",
       "      <td>334.83</td>\n",
       "      <td>5616231.0</td>\n",
       "      <td>0.0</td>\n",
       "      <td>1.0</td>\n",
       "      <td>329.711361</td>\n",
       "      <td>335.024953</td>\n",
       "      <td>327.920263</td>\n",
       "      <td>...</td>\n",
       "      <td>5616231.0</td>\n",
       "      <td>0.038297</td>\n",
       "      <td>0.013723</td>\n",
       "      <td>0.028899</td>\n",
       "      <td>0.873983</td>\n",
       "      <td>7.104690</td>\n",
       "      <td>3.462790</td>\n",
       "      <td>-0.022310</td>\n",
       "      <td>0.0</td>\n",
       "      <td>-0.0</td>\n",
       "    </tr>\n",
       "    <tr>\n",
       "      <th>2018-04-11</th>\n",
       "      <td>331.60</td>\n",
       "      <td>337.57</td>\n",
       "      <td>326.31</td>\n",
       "      <td>327.36</td>\n",
       "      <td>4566253.0</td>\n",
       "      <td>0.0</td>\n",
       "      <td>1.0</td>\n",
       "      <td>329.960125</td>\n",
       "      <td>335.900601</td>\n",
       "      <td>324.696286</td>\n",
       "      <td>...</td>\n",
       "      <td>4566253.0</td>\n",
       "      <td>-0.022310</td>\n",
       "      <td>0.001631</td>\n",
       "      <td>0.030704</td>\n",
       "      <td>0.715461</td>\n",
       "      <td>11.204315</td>\n",
       "      <td>-4.219032</td>\n",
       "      <td>0.030914</td>\n",
       "      <td>0.0</td>\n",
       "      <td>0.0</td>\n",
       "    </tr>\n",
       "    <tr>\n",
       "      <th>2018-04-12</th>\n",
       "      <td>331.98</td>\n",
       "      <td>338.35</td>\n",
       "      <td>330.46</td>\n",
       "      <td>337.48</td>\n",
       "      <td>4318083.0</td>\n",
       "      <td>0.0</td>\n",
       "      <td>1.0</td>\n",
       "      <td>330.338246</td>\n",
       "      <td>336.676744</td>\n",
       "      <td>328.825763</td>\n",
       "      <td>...</td>\n",
       "      <td>4318083.0</td>\n",
       "      <td>0.030914</td>\n",
       "      <td>0.005181</td>\n",
       "      <td>0.031516</td>\n",
       "      <td>0.726307</td>\n",
       "      <td>7.850981</td>\n",
       "      <td>5.472801</td>\n",
       "      <td>-0.024298</td>\n",
       "      <td>0.0</td>\n",
       "      <td>-0.0</td>\n",
       "    </tr>\n",
       "  </tbody>\n",
       "</table>\n",
       "<p>3 rows × 21 columns</p>\n",
       "</div>"
      ],
      "text/plain": [
       "              Open    High     Low   Close     Volume  Dividend  Split  \\\n",
       "Date                                                                     \n",
       "2018-04-10  331.35  336.69  329.55  334.83  5616231.0       0.0    1.0   \n",
       "2018-04-11  331.60  337.57  326.31  327.36  4566253.0       0.0    1.0   \n",
       "2018-04-12  331.98  338.35  330.46  337.48  4318083.0       0.0    1.0   \n",
       "\n",
       "              Adj_Open    Adj_High     Adj_Low         ...           \\\n",
       "Date                                                   ...            \n",
       "2018-04-10  329.711361  335.024953  327.920263         ...            \n",
       "2018-04-11  329.960125  335.900601  324.696286         ...            \n",
       "2018-04-12  330.338246  336.676744  328.825763         ...            \n",
       "\n",
       "            Adj_Volume      ret1      ret5      std5  volume_by_adv20  \\\n",
       "Date                                                                    \n",
       "2018-04-10   5616231.0  0.038297  0.013723  0.028899         0.873983   \n",
       "2018-04-11   4566253.0 -0.022310  0.001631  0.030704         0.715461   \n",
       "2018-04-12   4318083.0  0.030914  0.005181  0.031516         0.726307   \n",
       "\n",
       "                  H-L       O-C   retFut1  predicted_signal  \\\n",
       "Date                                                          \n",
       "2018-04-10   7.104690  3.462790 -0.022310               0.0   \n",
       "2018-04-11  11.204315 -4.219032  0.030914               0.0   \n",
       "2018-04-12   7.850981  5.472801 -0.024298               0.0   \n",
       "\n",
       "            strategy_returns_nn  \n",
       "Date                             \n",
       "2018-04-10                 -0.0  \n",
       "2018-04-11                  0.0  \n",
       "2018-04-12                 -0.0  \n",
       "\n",
       "[3 rows x 21 columns]"
      ]
     },
     "execution_count": 11,
     "metadata": {},
     "output_type": "execute_result"
    }
   ],
   "source": [
    "data['predicted_signal'] = mlp.predict(X)\n",
    "data['strategy_returns_nn'] = data.retFut1 * data.predicted_signal\n",
    "data.tail(3)"
   ]
  },
  {
   "cell_type": "markdown",
   "metadata": {},
   "source": [
    "## Performance of the neural network"
   ]
  },
  {
   "cell_type": "markdown",
   "metadata": {},
   "source": [
    "### Sharpe Ratio\n",
    "\n",
    "The Sharpe ratio is calculated as follows:\n",
    "\n",
    "<img src=\"https://d2a032ejo53cab.cloudfront.net/Glossary/R2TAJa6K/Sharpe-1.jpg\"></img>\n",
    "\n",
    "Where\n",
    "- N is the number of trading days in a year\n",
    "- Rf is the risk-free rate\n",
    "- Std dev is the standard deviation\n",
    "\n",
    "Sharpe ratio represents how good the strategy performance is for the risk (standard deviation) taken to achieve it. The higher the Sharpe ratio the better is the strategy. Generally, a Sharpe ratio of greater than 1.5 is preferred."
   ]
  },
  {
   "cell_type": "code",
   "execution_count": 12,
   "metadata": {
    "collapsed": true
   },
   "outputs": [],
   "source": [
    "# The below function returns the Sharpe ratio for the excess returns (Strategy returns - Risk free rate) passed to it.\n",
    "def annualized_sharpe_ratio(returns, N=252):\n",
    "    return np.sqrt(N) * returns.mean() / returns.std()"
   ]
  },
  {
   "cell_type": "markdown",
   "metadata": {},
   "source": [
    "We calculate the Sharpe ratio for the strategy in train and test dataset. The risk-free rate is assumed to be 5% p.a."
   ]
  },
  {
   "cell_type": "code",
   "execution_count": 13,
   "metadata": {
    "collapsed": true
   },
   "outputs": [],
   "source": [
    "# Sharpe ratio\n",
    "# Train dataset\n",
    "data['excess_daily_strategy_return'] = data.strategy_returns_nn - 0.05/252\n",
    "sharpe_train_nn = annualized_sharpe_ratio(data.excess_daily_strategy_return.iloc[:train_length])\n",
    "# Test dataset\n",
    "sharpe_test_nn = annualized_sharpe_ratio(data.excess_daily_strategy_return.iloc[train_length:])"
   ]
  },
  {
   "cell_type": "markdown",
   "metadata": {},
   "source": [
    "### Strategy CAGR\n",
    "CAGR represents the compounded annual returns of the strategy. The strategy CAGR is computed as follows:\n",
    "\n",
    "<i>(Cumulative returns + 1)^(252/number of days) - 1</i>\n",
    "\n",
    "where cumulative returns are the total strategy returns and number of days represent the total trading days."
   ]
  },
  {
   "cell_type": "code",
   "execution_count": 14,
   "metadata": {
    "collapsed": true
   },
   "outputs": [],
   "source": [
    "def CAGR(returns):\n",
    "    cumulative_returns = returns.cumsum().iloc[-1]   \n",
    "    period_in_days = len(returns)\n",
    "    return 100*((cumulative_returns+1)**(252.0/period_in_days)-1)"
   ]
  },
  {
   "cell_type": "markdown",
   "metadata": {},
   "source": [
    "We compute the strategy CAGR in train and test dataset."
   ]
  },
  {
   "cell_type": "code",
   "execution_count": 15,
   "metadata": {
    "collapsed": true
   },
   "outputs": [],
   "source": [
    "# CAGR\n",
    "# Train dataset\n",
    "ret_train_nn = CAGR(data.strategy_returns_nn.iloc[:train_length])\n",
    "# Test dataset\n",
    "ret_test_nn = CAGR(data.strategy_returns_nn.iloc[train_length:])"
   ]
  },
  {
   "cell_type": "markdown",
   "metadata": {},
   "source": [
    "#### Plot cumulative returns in train dataset"
   ]
  },
  {
   "cell_type": "code",
   "execution_count": 16,
   "metadata": {
    "collapsed": true
   },
   "outputs": [],
   "source": [
    "import matplotlib.pyplot as plt\n",
    "import seaborn"
   ]
  },
  {
   "cell_type": "code",
   "execution_count": 17,
   "metadata": {},
   "outputs": [
    {
     "data": {
      "image/png": "[encoded data removed]",
      "text/plain": [
       "<matplotlib.figure.Figure at 0xeb2c438>"
      ]
     },
     "metadata": {},
     "output_type": "display_data"
    }
   ],
   "source": [
    "# Plot the cumulative returns for neural network in train dataset\n",
    "data.strategy_returns_nn[:train_length].cumsum().plot()\n",
    "\n",
    "# Show the legend\n",
    "plt.legend()\n",
    "\n",
    "# Show the graph\n",
    "plt.show()"
   ]
  },
  {
   "cell_type": "markdown",
   "metadata": {},
   "source": [
    "#### Plot cumulative returns in test dataset"
   ]
  },
  {
   "cell_type": "code",
   "execution_count": 18,
   "metadata": {},
   "outputs": [
    {
     "data": {
      "image/png": "[encoded data removed]",
      "text/plain": [
       "<matplotlib.figure.Figure at 0x15416c50>"
      ]
     },
     "metadata": {},
     "output_type": "display_data"
    }
   ],
   "source": [
    "# Plot the cumulative returns for neural network in test dataset\n",
    "data.strategy_returns_nn[train_length:].cumsum().plot()\n",
    "\n",
    "# Show the legend\n",
    "plt.legend()\n",
    "\n",
    "# Show the graph\n",
    "plt.show()"
   ]
  },
  {
   "cell_type": "markdown",
   "metadata": {},
   "source": [
    "#### Strategy Results"
   ]
  },
  {
   "cell_type": "code",
   "execution_count": 19,
   "metadata": {},
   "outputs": [
    {
     "name": "stdout",
     "output_type": "stream",
     "text": [
      "|              |    Train |      Test |\n",
      "|--------------+----------+-----------|\n",
      "| CAGR         | 10.6044  | 10.9185   |\n",
      "| Sharpe Ratio |  0.44056 |  0.711128 |\n"
     ]
    }
   ],
   "source": [
    "from tabulate import tabulate\n",
    "\n",
    "print tabulate(\n",
    "        [             \n",
    "            ['CAGR', ret_train_nn, ret_test_nn],\n",
    "            ['Sharpe Ratio', sharpe_train_nn, sharpe_test_nn],\n",
    "        ], \n",
    "        headers=['Train', 'Test'], \n",
    "    tablefmt='orgtbl')"
   ]
  },
  {
   "cell_type": "markdown",
   "metadata": {},
   "source": [
    "#### Accuracy of the neural network classifier\n",
    "\n",
    "The classification_report function from sklearn.metrics package is used to analyze the performance of the neural network. The classification_report takes as input the actual output and the predicted output."
   ]
  },
  {
   "cell_type": "code",
   "execution_count": 20,
   "metadata": {},
   "outputs": [
    {
     "name": "stdout",
     "output_type": "stream",
     "text": [
      "             precision    recall  f1-score   support\n",
      "\n",
      "        0.0       0.46      0.51      0.49       216\n",
      "        1.0       0.62      0.57      0.59       298\n",
      "\n",
      "avg / total       0.55      0.55      0.55       514\n",
      "\n"
     ]
    }
   ],
   "source": [
    "from sklearn.metrics import classification_report\n",
    "print(classification_report(y_test,mlp.predict(X_test)))"
   ]
  },
  {
   "cell_type": "markdown",
   "metadata": {},
   "source": [
    "The output of classification report\n",
    "1. <B>Precision</B>: tp / (tp + fp) \n",
    "<BR>where tp is the number of true positives and fp the number of false positives. The precision is intuitively the ability of the classifier not to label as positive a sample that is negative.\n",
    "2. <B>Recall</B>: tp / (tp + fn) \n",
    "<BR> where tp is the number of true positives and fn the number of false negatives. The recall is intuitively the ability of the classifier to find all the positive samples.\n",
    "3. <B>F1-score</B>: It can be interpreted as a weighted harmonic mean of the precision and recall, The F1-score reaches its best value at 1 and worst score at 0. \n",
    "5. <B>Support</B>: It is the number of occurrences of each class in y_true."
   ]
  },
  {
   "cell_type": "markdown",
   "metadata": {},
   "source": [
    "In this notebook, we created a very simple neural network. Coming up next, a short quiz and interactive exercise on neural network and in next section, a trading strategy using a deep neural network. Keep learning!"
   ]
  }
 ],
 "metadata": {
  "kernelspec": {
   "display_name": "Python 2",
   "language": "python",
   "name": "python2"
  },
  "language_info": {
   "codemirror_mode": {
    "name": "ipython",
    "version": 2
   },
   "file_extension": ".py",
   "mimetype": "text/x-python",
   "name": "python",
   "nbconvert_exporter": "python",
   "pygments_lexer": "ipython2",
   "version": "2.7.13"
  }
 },
 "nbformat": 4,
 "nbformat_minor": 1
}
