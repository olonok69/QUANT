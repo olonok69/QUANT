{
 "cells": [
  {
   "cell_type": "markdown",
   "metadata": {},
   "source": [
    "### <span style=\"color:brown\">Notebook Instructions</span>\n",
    "\n",
    "- <i>  <span style=\"color:#FFFF00; background:#00C000\"> <b> Please download the notebook available as downloads in the next unit. </b> It will not run in the browser.</i>\n",
    "- <i>  Assuming, you have Anaconda or some Python environment installed on your system, <span style=\"color:#FFFF00; background:#00C000\"> <b> you need to install Keras library. </b>. </i>\n",
    "- <i> <span style=\"color:#00C000\"> RNN models are very heavy and it is possible that your code will take time to run. Be patient and try again if required. Keep your CPU free of other burdens during the time of run! </i>\n"
   ]
  },
  {
   "cell_type": "markdown",
   "metadata": {},
   "source": [
    "### <span style=\"color:brown\">Data Pre- Processing</span>"
   ]
  },
  {
   "cell_type": "markdown",
   "metadata": {},
   "source": [
    "In this block of code we have downalaoded the data and scaled it, just as we did in the DNN model."
   ]
  },
  {
   "cell_type": "code",
   "execution_count": 60,
   "metadata": {},
   "outputs": [
    {
     "name": "stderr",
     "output_type": "stream",
     "text": [
      "C:\\Users\\udish\\Anaconda3\\envs\\py35\\lib\\site-packages\\sklearn\\utils\\validation.py:475: DataConversionWarning: Data with input dtype int64 was converted to float64 by MinMaxScaler.\n",
      "  warnings.warn(msg, DataConversionWarning)\n"
     ]
    },
    {
     "data": {
      "text/html": [
       "<div>\n",
       "<style scoped>\n",
       "    .dataframe tbody tr th:only-of-type {\n",
       "        vertical-align: middle;\n",
       "    }\n",
       "\n",
       "    .dataframe tbody tr th {\n",
       "        vertical-align: top;\n",
       "    }\n",
       "\n",
       "    .dataframe thead th {\n",
       "        text-align: right;\n",
       "    }\n",
       "</style>\n",
       "<table border=\"1\" class=\"dataframe\">\n",
       "  <thead>\n",
       "    <tr style=\"text-align: right;\">\n",
       "      <th></th>\n",
       "      <th>Symbol</th>\n",
       "      <th>Series</th>\n",
       "      <th>Prev Close</th>\n",
       "      <th>Open</th>\n",
       "      <th>High</th>\n",
       "      <th>Low</th>\n",
       "      <th>Last</th>\n",
       "      <th>Close</th>\n",
       "      <th>VWAP</th>\n",
       "      <th>Volume</th>\n",
       "      <th>Turnover</th>\n",
       "      <th>Trades</th>\n",
       "      <th>Deliverable Volume</th>\n",
       "      <th>%Deliverble</th>\n",
       "    </tr>\n",
       "    <tr>\n",
       "      <th>Date</th>\n",
       "      <th></th>\n",
       "      <th></th>\n",
       "      <th></th>\n",
       "      <th></th>\n",
       "      <th></th>\n",
       "      <th></th>\n",
       "      <th></th>\n",
       "      <th></th>\n",
       "      <th></th>\n",
       "      <th></th>\n",
       "      <th></th>\n",
       "      <th></th>\n",
       "      <th></th>\n",
       "      <th></th>\n",
       "    </tr>\n",
       "  </thead>\n",
       "  <tbody>\n",
       "    <tr>\n",
       "      <th>2018-06-27</th>\n",
       "      <td>SBIN</td>\n",
       "      <td>EQ</td>\n",
       "      <td>267.40</td>\n",
       "      <td>0.586555</td>\n",
       "      <td>0.586555</td>\n",
       "      <td>0.555282</td>\n",
       "      <td>261.05</td>\n",
       "      <td>0.558729</td>\n",
       "      <td>263.58</td>\n",
       "      <td>0.054548</td>\n",
       "      <td>4.290454e+14</td>\n",
       "      <td>96681</td>\n",
       "      <td>5061636</td>\n",
       "      <td>0.3110</td>\n",
       "    </tr>\n",
       "    <tr>\n",
       "      <th>2018-06-28</th>\n",
       "      <td>SBIN</td>\n",
       "      <td>EQ</td>\n",
       "      <td>261.70</td>\n",
       "      <td>0.552327</td>\n",
       "      <td>0.560207</td>\n",
       "      <td>0.529180</td>\n",
       "      <td>257.60</td>\n",
       "      <td>0.535582</td>\n",
       "      <td>258.17</td>\n",
       "      <td>0.074010</td>\n",
       "      <td>5.511936e+14</td>\n",
       "      <td>123640</td>\n",
       "      <td>6890828</td>\n",
       "      <td>0.3228</td>\n",
       "    </tr>\n",
       "    <tr>\n",
       "      <th>2018-06-29</th>\n",
       "      <td>SBIN</td>\n",
       "      <td>EQ</td>\n",
       "      <td>257.00</td>\n",
       "      <td>0.541738</td>\n",
       "      <td>0.567348</td>\n",
       "      <td>0.541492</td>\n",
       "      <td>259.20</td>\n",
       "      <td>0.547156</td>\n",
       "      <td>260.91</td>\n",
       "      <td>0.054421</td>\n",
       "      <td>4.238479e+14</td>\n",
       "      <td>158728</td>\n",
       "      <td>5951231</td>\n",
       "      <td>0.3663</td>\n",
       "    </tr>\n",
       "    <tr>\n",
       "      <th>2018-07-02</th>\n",
       "      <td>SBIN</td>\n",
       "      <td>EQ</td>\n",
       "      <td>259.35</td>\n",
       "      <td>0.545186</td>\n",
       "      <td>0.558976</td>\n",
       "      <td>0.520808</td>\n",
       "      <td>260.00</td>\n",
       "      <td>0.544693</td>\n",
       "      <td>257.62</td>\n",
       "      <td>0.076108</td>\n",
       "      <td>5.641044e+14</td>\n",
       "      <td>125980</td>\n",
       "      <td>6374311</td>\n",
       "      <td>0.2911</td>\n",
       "    </tr>\n",
       "    <tr>\n",
       "      <th>2018-07-03</th>\n",
       "      <td>SBIN</td>\n",
       "      <td>EQ</td>\n",
       "      <td>258.85</td>\n",
       "      <td>0.548387</td>\n",
       "      <td>0.554789</td>\n",
       "      <td>0.532627</td>\n",
       "      <td>258.00</td>\n",
       "      <td>0.538045</td>\n",
       "      <td>258.07</td>\n",
       "      <td>0.053862</td>\n",
       "      <td>4.154624e+14</td>\n",
       "      <td>92458</td>\n",
       "      <td>4679539</td>\n",
       "      <td>0.2907</td>\n",
       "    </tr>\n",
       "  </tbody>\n",
       "</table>\n",
       "</div>"
      ],
      "text/plain": [
       "           Symbol Series  Prev Close      Open      High       Low    Last  \\\n",
       "Date                                                                         \n",
       "2018-06-27   SBIN     EQ      267.40  0.586555  0.586555  0.555282  261.05   \n",
       "2018-06-28   SBIN     EQ      261.70  0.552327  0.560207  0.529180  257.60   \n",
       "2018-06-29   SBIN     EQ      257.00  0.541738  0.567348  0.541492  259.20   \n",
       "2018-07-02   SBIN     EQ      259.35  0.545186  0.558976  0.520808  260.00   \n",
       "2018-07-03   SBIN     EQ      258.85  0.548387  0.554789  0.532627  258.00   \n",
       "\n",
       "               Close    VWAP    Volume      Turnover  Trades  \\\n",
       "Date                                                           \n",
       "2018-06-27  0.558729  263.58  0.054548  4.290454e+14   96681   \n",
       "2018-06-28  0.535582  258.17  0.074010  5.511936e+14  123640   \n",
       "2018-06-29  0.547156  260.91  0.054421  4.238479e+14  158728   \n",
       "2018-07-02  0.544693  257.62  0.076108  5.641044e+14  125980   \n",
       "2018-07-03  0.538045  258.07  0.053862  4.154624e+14   92458   \n",
       "\n",
       "            Deliverable Volume  %Deliverble  \n",
       "Date                                         \n",
       "2018-06-27             5061636       0.3110  \n",
       "2018-06-28             6890828       0.3228  \n",
       "2018-06-29             5951231       0.3663  \n",
       "2018-07-02             6374311       0.2911  \n",
       "2018-07-03             4679539       0.2907  "
      ]
     },
     "execution_count": 60,
     "metadata": {},
     "output_type": "execute_result"
    }
   ],
   "source": [
    "from nsepy import get_history\n",
    "from datetime import date\n",
    "import numpy as np\n",
    "import matplotlib.pyplot as plt\n",
    "from sklearn.preprocessing import MinMaxScaler\n",
    "import pandas as pd\n",
    "\n",
    "start = date(2015,1,1)\n",
    "end= date.today()\n",
    "\n",
    "data = get_history(symbol=\"SBIN\", start=start, end=end)\n",
    "\n",
    "max_=data[['Open','High','Low','Close']].max().max()\n",
    "min_=data[['Open','High','Low','Close']].min().min()\n",
    "\n",
    "scl=MinMaxScaler()\n",
    "\n",
    "X1=(data[['Open','High','Low','Close']]-min_)/(max_-min_)\n",
    "X2=scl.fit_transform(data[['Volume']].values.reshape(-1,1))\n",
    "X1=np.array(X1)\n",
    "\n",
    "data=data.assign(Open=X1[:,0])\n",
    "data=data.assign(High=X1[:,1])\n",
    "data=data.assign(Low=X1[:,2])\n",
    "data=data.assign(Close=X1[:,3])\n",
    "data=data.assign(Volume=X2[:,0])\n",
    "data.tail()"
   ]
  },
  {
   "cell_type": "markdown",
   "metadata": {},
   "source": [
    "### <span style=\"color:brown\"> Creating the input and target features"
   ]
  },
  {
   "cell_type": "markdown",
   "metadata": {},
   "source": [
    "Now,we will create a feature data set called  <font color =red>X</font> which will be used to create the input for the RNN model.<br> \n",
    "\n",
    "Next, we create a dataset called <font color =red>y</font> which will contain the future close values.<br>\n",
    "\n",
    "The model will train to predict these values future close prices."
   ]
  },
  {
   "cell_type": "code",
   "execution_count": 61,
   "metadata": {},
   "outputs": [],
   "source": [
    "X=data[['Open','High','Low','Close','Volume']]\n",
    "y=data.Last.shift(-1)"
   ]
  },
  {
   "cell_type": "markdown",
   "metadata": {},
   "source": [
    "In this example, I have taken a timestep of 20 days to create the input data. By doing this, we will feed the past 20-days of data at every time step to the RNN. We can change the target data to predict the next 5 days, by changing the code to contain y_list.append(y.iloc[i:i+5]), then you can predict a sequence of 5 days data."
   ]
  },
  {
   "cell_type": "code",
   "execution_count": 62,
   "metadata": {},
   "outputs": [],
   "source": [
    "timestep=20\n",
    "X_list=[]\n",
    "y_list=[]\n",
    "for i in range(timestep,len(X)):\n",
    "    X_list.append(np.array(X.iloc[i-timestep:i]))\n",
    "    y_list.append(y.iloc[i])"
   ]
  },
  {
   "cell_type": "code",
   "execution_count": 63,
   "metadata": {},
   "outputs": [],
   "source": [
    "test_size=60\n",
    "X_train=np.array(X_list)[:-test_size]\n",
    "y_train=np.array(y_list)[:-test_size]\n",
    "X_test=np.array(X_list)[-test_size:]\n",
    "y_test=np.array(y_list)[-test_size:]"
   ]
  },
  {
   "cell_type": "code",
   "execution_count": 64,
   "metadata": {},
   "outputs": [
    {
     "data": {
      "text/plain": [
       "(789, 20, 5)"
      ]
     },
     "execution_count": 64,
     "metadata": {},
     "output_type": "execute_result"
    }
   ],
   "source": [
    "X_train.shape"
   ]
  },
  {
   "cell_type": "markdown",
   "metadata": {},
   "source": [
    "As, you can see the X_train dataset contains data with OHLCV (5 columns) data, with each of them containing the past 20 days of this data."
   ]
  },
  {
   "cell_type": "markdown",
   "metadata": {},
   "source": [
    "### <span style=\"color:brown\"> Creating an RNN model"
   ]
  },
  {
   "cell_type": "markdown",
   "metadata": {},
   "source": [
    "First we import the necessary modules for the model from the keras library"
   ]
  },
  {
   "cell_type": "code",
   "execution_count": 65,
   "metadata": {},
   "outputs": [],
   "source": [
    "from keras.layers import SimpleRNN\n",
    "from keras.models import Sequential\n",
    "from keras.layers import Dropout\n",
    "from keras.layers import Dense\n",
    "from keras.callbacks import ModelCheckpoint"
   ]
  },
  {
   "cell_type": "markdown",
   "metadata": {},
   "source": [
    "In this model, I have added a dropout layer with a 50% drop ratio. That means that half of the neurons in the layer preceding it will be switched off whiel training. If you choose a model that it is not very deep then the chances of over fitting are very less and you may not need a dropout layer. "
   ]
  },
  {
   "cell_type": "code",
   "execution_count": 66,
   "metadata": {},
   "outputs": [],
   "source": [
    "dropout_ratio=0.5"
   ]
  },
  {
   "cell_type": "markdown",
   "metadata": {},
   "source": [
    "Let us begin to build the model, as you might recall the first layer will always be a sequential one. Followed by an RNN in this case, as we want to test a simple RNN model to check the accuracy.\n",
    "\n",
    "After this, I have added a few Dense layers (fully connected Neural Network) along with the dropout layers.\n",
    "\n",
    "As the depth of the model increases, the model's ability to create complex features also increases. But, this often results in overfitting."
   ]
  },
  {
   "cell_type": "code",
   "execution_count": 67,
   "metadata": {},
   "outputs": [],
   "source": [
    "model=Sequential()\n",
    "model.add(SimpleRNN(timestep,input_shape=(X_train.shape[1],X_train.shape[2])))\n",
    "model.add(Dense(32))\n",
    "model.add(Dropout(dropout_ratio))\n",
    "model.add(Dense(64))\n",
    "model.add(Dropout(dropout_ratio))\n",
    "model.add(Dense(128))\n",
    "model.add(Dropout(dropout_ratio))\n",
    "model.add(Dense(256))\n",
    "model.add(Dropout(dropout_ratio))\n",
    "model.add(Dense(512))\n",
    "model.add(Dropout(dropout_ratio))\n",
    "model.add(Dense(1024))\n",
    "model.add(Dropout(dropout_ratio))\n",
    "model.add(Dense(2048))\n",
    "model.add(Dropout(dropout_ratio))\n",
    "model.add(Dense(1))\n",
    "model.compile(loss='mean_squared_error', optimizer='adam')"
   ]
  },
  {
   "cell_type": "markdown",
   "metadata": {},
   "source": [
    "### <span style=\"color:brown\"> Saving and loading the model"
   ]
  },
  {
   "cell_type": "markdown",
   "metadata": {},
   "source": [
    "I have specified the file path as RNN-weights-best.hdf5 to save the weights of the model.\n",
    "\n",
    "The verbose=1 parameter defines how much information about every batch training needs to be printed\n",
    "\n",
    "#### We strongly encourage you to change all the parameters discussed above to create your own models and test them out.\n"
   ]
  },
  {
   "cell_type": "code",
   "execution_count": 9,
   "metadata": {},
   "outputs": [],
   "source": [
    "filepath=\"RNN-weights-best.hdf5\"\n",
    "checkpoint = ModelCheckpoint(filepath, monitor='val_loss', verbose=1, save_best_only=True, mode='auto')"
   ]
  },
  {
   "cell_type": "markdown",
   "metadata": {},
   "source": [
    "Now let us visualize our model."
   ]
  },
  {
   "cell_type": "code",
   "execution_count": 10,
   "metadata": {},
   "outputs": [
    {
     "name": "stdout",
     "output_type": "stream",
     "text": [
      "_________________________________________________________________\n",
      "Layer (type)                 Output Shape              Param #   \n",
      "=================================================================\n",
      "simple_rnn_1 (SimpleRNN)     (None, 20)                520       \n",
      "_________________________________________________________________\n",
      "dense_1 (Dense)              (None, 32)                672       \n",
      "_________________________________________________________________\n",
      "dropout_1 (Dropout)          (None, 32)                0         \n",
      "_________________________________________________________________\n",
      "dense_2 (Dense)              (None, 64)                2112      \n",
      "_________________________________________________________________\n",
      "dropout_2 (Dropout)          (None, 64)                0         \n",
      "_________________________________________________________________\n",
      "dense_3 (Dense)              (None, 128)               8320      \n",
      "_________________________________________________________________\n",
      "dropout_3 (Dropout)          (None, 128)               0         \n",
      "_________________________________________________________________\n",
      "dense_4 (Dense)              (None, 256)               33024     \n",
      "_________________________________________________________________\n",
      "dropout_4 (Dropout)          (None, 256)               0         \n",
      "_________________________________________________________________\n",
      "dense_5 (Dense)              (None, 512)               131584    \n",
      "_________________________________________________________________\n",
      "dropout_5 (Dropout)          (None, 512)               0         \n",
      "_________________________________________________________________\n",
      "dense_6 (Dense)              (None, 1024)              525312    \n",
      "_________________________________________________________________\n",
      "dropout_6 (Dropout)          (None, 1024)              0         \n",
      "_________________________________________________________________\n",
      "dense_7 (Dense)              (None, 2048)              2099200   \n",
      "_________________________________________________________________\n",
      "dropout_7 (Dropout)          (None, 2048)              0         \n",
      "_________________________________________________________________\n",
      "dense_8 (Dense)              (None, 1)                 2049      \n",
      "=================================================================\n",
      "Total params: 2,802,793\n",
      "Trainable params: 2,802,793\n",
      "Non-trainable params: 0\n",
      "_________________________________________________________________\n"
     ]
    }
   ],
   "source": [
    "model.summary()"
   ]
  },
  {
   "cell_type": "markdown",
   "metadata": {},
   "source": [
    "Now, its time to train the model.\n",
    "\n",
    "While training the model we have to specify the size of the batch, this indicates to the model how many train samples it should take in a single batch while training.\n",
    "\n",
    "The validation split randomly splits the train data to verify the performance of the model on untrained data.\n",
    "\n",
    "Epochs are the number of runs the model needs to make for the convergence of train and validation losses."
   ]
  },
  {
   "cell_type": "code",
   "execution_count": 11,
   "metadata": {
    "scrolled": true
   },
   "outputs": [
    {
     "name": "stdout",
     "output_type": "stream",
     "text": [
      "Train on 631 samples, validate on 158 samples\n",
      "Epoch 1/100\n",
      "631/631 [==============================] - 5s 8ms/step - loss: 34592.0267 - val_loss: 24505.5225\n",
      "\n",
      "Epoch 00001: val_loss improved from inf to 24505.52252, saving model to RNN-weights-best.hdf5\n",
      "Epoch 2/100\n",
      "631/631 [==============================] - 0s 478us/step - loss: 14743.5265 - val_loss: 8176.5674\n",
      "\n",
      "Epoch 00002: val_loss improved from 24505.52252 to 8176.56742, saving model to RNN-weights-best.hdf5\n",
      "Epoch 3/100\n",
      "631/631 [==============================] - 0s 404us/step - loss: 10960.8086 - val_loss: 8330.6505\n",
      "\n",
      "Epoch 00003: val_loss did not improve from 8176.56742\n",
      "Epoch 4/100\n",
      "631/631 [==============================] - 0s 390us/step - loss: 8939.9119 - val_loss: 3634.2555\n",
      "\n",
      "Epoch 00004: val_loss improved from 8176.56742 to 3634.25551, saving model to RNN-weights-best.hdf5\n",
      "Epoch 5/100\n",
      "631/631 [==============================] - 0s 444us/step - loss: 7768.9904 - val_loss: 2867.4982\n",
      "\n",
      "Epoch 00005: val_loss improved from 3634.25551 to 2867.49817, saving model to RNN-weights-best.hdf5\n",
      "Epoch 6/100\n",
      "631/631 [==============================] - 0s 447us/step - loss: 6495.1905 - val_loss: 2708.7369\n",
      "\n",
      "Epoch 00006: val_loss improved from 2867.49817 to 2708.73692, saving model to RNN-weights-best.hdf5\n",
      "Epoch 7/100\n",
      "631/631 [==============================] - 0s 454us/step - loss: 5625.0774 - val_loss: 2445.2770\n",
      "\n",
      "Epoch 00007: val_loss improved from 2708.73692 to 2445.27697, saving model to RNN-weights-best.hdf5\n",
      "Epoch 8/100\n",
      "631/631 [==============================] - 0s 452us/step - loss: 6076.7361 - val_loss: 1999.4613\n",
      "\n",
      "Epoch 00008: val_loss improved from 2445.27697 to 1999.46132, saving model to RNN-weights-best.hdf5\n",
      "Epoch 9/100\n",
      "631/631 [==============================] - 0s 449us/step - loss: 4981.7974 - val_loss: 332.1128\n",
      "\n",
      "Epoch 00009: val_loss improved from 1999.46132 to 332.11283, saving model to RNN-weights-best.hdf5\n",
      "Epoch 10/100\n",
      "631/631 [==============================] - 0s 439us/step - loss: 4717.8721 - val_loss: 523.4835\n",
      "\n",
      "Epoch 00010: val_loss did not improve from 332.11283\n",
      "Epoch 11/100\n",
      "631/631 [==============================] - 0s 463us/step - loss: 4083.8598 - val_loss: 708.6701\n",
      "\n",
      "Epoch 00011: val_loss did not improve from 332.11283\n",
      "Epoch 12/100\n",
      "631/631 [==============================] - 0s 416us/step - loss: 3855.9512 - val_loss: 273.8046\n",
      "\n",
      "Epoch 00012: val_loss improved from 332.11283 to 273.80465, saving model to RNN-weights-best.hdf5\n",
      "Epoch 13/100\n",
      "631/631 [==============================] - 0s 423us/step - loss: 3338.3840 - val_loss: 1539.5341\n",
      "\n",
      "Epoch 00013: val_loss did not improve from 273.80465\n",
      "Epoch 14/100\n",
      "631/631 [==============================] - 0s 449us/step - loss: 2750.9889 - val_loss: 944.8074\n",
      "\n",
      "Epoch 00014: val_loss did not improve from 273.80465\n",
      "Epoch 15/100\n",
      "631/631 [==============================] - 0s 414us/step - loss: 2162.2427 - val_loss: 833.8793\n",
      "\n",
      "Epoch 00015: val_loss did not improve from 273.80465\n",
      "Epoch 16/100\n",
      "631/631 [==============================] - 0s 450us/step - loss: 1848.5075 - val_loss: 201.2947\n",
      "\n",
      "Epoch 00016: val_loss improved from 273.80465 to 201.29473, saving model to RNN-weights-best.hdf5\n",
      "Epoch 17/100\n",
      "631/631 [==============================] - 0s 455us/step - loss: 1825.8975 - val_loss: 632.6964\n",
      "\n",
      "Epoch 00017: val_loss did not improve from 201.29473\n",
      "Epoch 18/100\n",
      "631/631 [==============================] - 0s 381us/step - loss: 1923.2078 - val_loss: 964.4830\n",
      "\n",
      "Epoch 00018: val_loss did not improve from 201.29473\n",
      "Epoch 19/100\n",
      "631/631 [==============================] - 0s 361us/step - loss: 1599.2940 - val_loss: 176.2479\n",
      "\n",
      "Epoch 00019: val_loss improved from 201.29473 to 176.24788, saving model to RNN-weights-best.hdf5\n",
      "Epoch 20/100\n",
      "631/631 [==============================] - 0s 450us/step - loss: 1391.8865 - val_loss: 206.1913\n",
      "\n",
      "Epoch 00020: val_loss did not improve from 176.24788\n",
      "Epoch 21/100\n",
      "631/631 [==============================] - 0s 412us/step - loss: 1274.7508 - val_loss: 231.4059\n",
      "\n",
      "Epoch 00021: val_loss did not improve from 176.24788\n",
      "Epoch 22/100\n",
      "631/631 [==============================] - 0s 418us/step - loss: 1126.0912 - val_loss: 539.2942\n",
      "\n",
      "Epoch 00022: val_loss did not improve from 176.24788\n",
      "Epoch 23/100\n",
      "631/631 [==============================] - 0s 411us/step - loss: 1123.7118 - val_loss: 869.5703\n",
      "\n",
      "Epoch 00023: val_loss did not improve from 176.24788\n",
      "Epoch 24/100\n",
      "631/631 [==============================] - 0s 382us/step - loss: 1083.9370 - val_loss: 471.2478\n",
      "\n",
      "Epoch 00024: val_loss did not improve from 176.24788\n",
      "Epoch 25/100\n",
      "631/631 [==============================] - 0s 413us/step - loss: 982.5373 - val_loss: 525.2088\n",
      "\n",
      "Epoch 00025: val_loss did not improve from 176.24788\n",
      "Epoch 26/100\n",
      "631/631 [==============================] - 0s 400us/step - loss: 995.3133 - val_loss: 194.7017\n",
      "\n",
      "Epoch 00026: val_loss did not improve from 176.24788\n",
      "Epoch 27/100\n",
      "631/631 [==============================] - 0s 374us/step - loss: 1086.1770 - val_loss: 256.8499\n",
      "\n",
      "Epoch 00027: val_loss did not improve from 176.24788\n",
      "Epoch 28/100\n",
      "631/631 [==============================] - 0s 368us/step - loss: 807.2754 - val_loss: 885.9572\n",
      "\n",
      "Epoch 00028: val_loss did not improve from 176.24788\n",
      "Epoch 29/100\n",
      "631/631 [==============================] - 0s 404us/step - loss: 895.7496 - val_loss: 182.5111\n",
      "\n",
      "Epoch 00029: val_loss did not improve from 176.24788\n",
      "Epoch 30/100\n",
      "631/631 [==============================] - 0s 390us/step - loss: 947.3523 - val_loss: 213.3829\n",
      "\n",
      "Epoch 00030: val_loss did not improve from 176.24788\n",
      "Epoch 31/100\n",
      "631/631 [==============================] - 0s 415us/step - loss: 872.7583 - val_loss: 284.4508\n",
      "\n",
      "Epoch 00031: val_loss did not improve from 176.24788\n",
      "Epoch 32/100\n",
      "631/631 [==============================] - 0s 402us/step - loss: 836.4177 - val_loss: 198.0170\n",
      "\n",
      "Epoch 00032: val_loss did not improve from 176.24788\n",
      "Epoch 33/100\n",
      "631/631 [==============================] - 0s 404us/step - loss: 781.9130 - val_loss: 228.4744\n",
      "\n",
      "Epoch 00033: val_loss did not improve from 176.24788\n",
      "Epoch 34/100\n",
      "631/631 [==============================] - 0s 399us/step - loss: 831.9234 - val_loss: 207.6211\n",
      "\n",
      "Epoch 00034: val_loss did not improve from 176.24788\n",
      "Epoch 35/100\n",
      "631/631 [==============================] - 0s 434us/step - loss: 778.4246 - val_loss: 184.3758\n",
      "\n",
      "Epoch 00035: val_loss did not improve from 176.24788\n",
      "Epoch 36/100\n",
      "631/631 [==============================] - 0s 387us/step - loss: 822.8655 - val_loss: 178.6755\n",
      "\n",
      "Epoch 00036: val_loss did not improve from 176.24788\n",
      "Epoch 37/100\n",
      "631/631 [==============================] - 0s 380us/step - loss: 757.6279 - val_loss: 187.6011\n",
      "\n",
      "Epoch 00037: val_loss did not improve from 176.24788\n",
      "Epoch 38/100\n",
      "631/631 [==============================] - 0s 396us/step - loss: 756.4298 - val_loss: 752.0174\n",
      "\n",
      "Epoch 00038: val_loss did not improve from 176.24788\n",
      "Epoch 39/100\n",
      "631/631 [==============================] - 0s 367us/step - loss: 755.1223 - val_loss: 212.6230\n",
      "\n",
      "Epoch 00039: val_loss did not improve from 176.24788\n",
      "Epoch 40/100\n",
      "631/631 [==============================] - 0s 395us/step - loss: 713.0645 - val_loss: 196.0008\n",
      "\n",
      "Epoch 00040: val_loss did not improve from 176.24788\n",
      "Epoch 41/100\n",
      "631/631 [==============================] - 0s 420us/step - loss: 729.1899 - val_loss: 219.0082\n",
      "\n",
      "Epoch 00041: val_loss did not improve from 176.24788\n",
      "Epoch 42/100\n",
      "631/631 [==============================] - 0s 396us/step - loss: 661.6843 - val_loss: 297.8527\n",
      "\n",
      "Epoch 00042: val_loss did not improve from 176.24788\n",
      "Epoch 43/100\n",
      "631/631 [==============================] - 0s 411us/step - loss: 658.8058 - val_loss: 343.7198\n",
      "\n",
      "Epoch 00043: val_loss did not improve from 176.24788\n",
      "Epoch 44/100\n",
      "631/631 [==============================] - 0s 378us/step - loss: 719.9232 - val_loss: 266.8032\n",
      "\n",
      "Epoch 00044: val_loss did not improve from 176.24788\n",
      "Epoch 45/100\n",
      "631/631 [==============================] - 0s 416us/step - loss: 740.8035 - val_loss: 308.4678\n",
      "\n",
      "Epoch 00045: val_loss did not improve from 176.24788\n",
      "Epoch 46/100\n",
      "631/631 [==============================] - 0s 378us/step - loss: 631.2912 - val_loss: 441.3957\n",
      "\n",
      "Epoch 00046: val_loss did not improve from 176.24788\n",
      "Epoch 47/100\n",
      "631/631 [==============================] - 0s 361us/step - loss: 670.8276 - val_loss: 212.6141\n",
      "\n",
      "Epoch 00047: val_loss did not improve from 176.24788\n",
      "Epoch 48/100\n"
     ]
    },
    {
     "name": "stdout",
     "output_type": "stream",
     "text": [
      "631/631 [==============================] - 0s 364us/step - loss: 553.8020 - val_loss: 169.5359\n",
      "\n",
      "Epoch 00048: val_loss improved from 176.24788 to 169.53595, saving model to RNN-weights-best.hdf5\n",
      "Epoch 49/100\n",
      "631/631 [==============================] - 0s 442us/step - loss: 684.9233 - val_loss: 320.0892\n",
      "\n",
      "Epoch 00049: val_loss did not improve from 169.53595\n",
      "Epoch 50/100\n",
      "631/631 [==============================] - 0s 457us/step - loss: 611.6119 - val_loss: 205.1981\n",
      "\n",
      "Epoch 00050: val_loss did not improve from 169.53595\n",
      "Epoch 51/100\n",
      "631/631 [==============================] - 0s 442us/step - loss: 652.5619 - val_loss: 663.7611\n",
      "\n",
      "Epoch 00051: val_loss did not improve from 169.53595\n",
      "Epoch 52/100\n",
      "631/631 [==============================] - 0s 426us/step - loss: 635.8107 - val_loss: 235.8183\n",
      "\n",
      "Epoch 00052: val_loss did not improve from 169.53595\n",
      "Epoch 53/100\n",
      "631/631 [==============================] - 0s 421us/step - loss: 548.9878 - val_loss: 234.8993\n",
      "\n",
      "Epoch 00053: val_loss did not improve from 169.53595\n",
      "Epoch 54/100\n",
      "631/631 [==============================] - 0s 422us/step - loss: 644.7435 - val_loss: 279.5416\n",
      "\n",
      "Epoch 00054: val_loss did not improve from 169.53595\n",
      "Epoch 55/100\n",
      "631/631 [==============================] - 0s 439us/step - loss: 653.1275 - val_loss: 216.8459\n",
      "\n",
      "Epoch 00055: val_loss did not improve from 169.53595\n",
      "Epoch 56/100\n",
      "631/631 [==============================] - 0s 422us/step - loss: 643.5641 - val_loss: 168.7163\n",
      "\n",
      "Epoch 00056: val_loss improved from 169.53595 to 168.71629, saving model to RNN-weights-best.hdf5\n",
      "Epoch 57/100\n",
      "631/631 [==============================] - 0s 433us/step - loss: 594.1848 - val_loss: 217.1617\n",
      "\n",
      "Epoch 00057: val_loss did not improve from 168.71629\n",
      "Epoch 58/100\n",
      "631/631 [==============================] - 0s 409us/step - loss: 632.7606 - val_loss: 319.5181\n",
      "\n",
      "Epoch 00058: val_loss did not improve from 168.71629\n",
      "Epoch 59/100\n",
      "631/631 [==============================] - 0s 398us/step - loss: 552.8645 - val_loss: 159.9735\n",
      "\n",
      "Epoch 00059: val_loss improved from 168.71629 to 159.97346, saving model to RNN-weights-best.hdf5\n",
      "Epoch 60/100\n",
      "631/631 [==============================] - 0s 384us/step - loss: 611.6313 - val_loss: 442.1413\n",
      "\n",
      "Epoch 00060: val_loss did not improve from 159.97346\n",
      "Epoch 61/100\n",
      "631/631 [==============================] - 0s 427us/step - loss: 620.1485 - val_loss: 152.0640\n",
      "\n",
      "Epoch 00061: val_loss improved from 159.97346 to 152.06405, saving model to RNN-weights-best.hdf5\n",
      "Epoch 62/100\n",
      "631/631 [==============================] - 0s 407us/step - loss: 636.8716 - val_loss: 262.3333\n",
      "\n",
      "Epoch 00062: val_loss did not improve from 152.06405\n",
      "Epoch 63/100\n",
      "631/631 [==============================] - 0s 439us/step - loss: 561.0539 - val_loss: 186.6893\n",
      "\n",
      "Epoch 00063: val_loss did not improve from 152.06405\n",
      "Epoch 64/100\n",
      "631/631 [==============================] - 0s 430us/step - loss: 544.6607 - val_loss: 160.3250\n",
      "\n",
      "Epoch 00064: val_loss did not improve from 152.06405\n",
      "Epoch 65/100\n",
      "631/631 [==============================] - 0s 386us/step - loss: 593.4314 - val_loss: 218.0163\n",
      "\n",
      "Epoch 00065: val_loss did not improve from 152.06405\n",
      "Epoch 66/100\n",
      "631/631 [==============================] - 0s 374us/step - loss: 578.5849 - val_loss: 439.8430\n",
      "\n",
      "Epoch 00066: val_loss did not improve from 152.06405\n",
      "Epoch 67/100\n",
      "631/631 [==============================] - 0s 371us/step - loss: 609.7390 - val_loss: 166.2370\n",
      "\n",
      "Epoch 00067: val_loss did not improve from 152.06405\n",
      "Epoch 68/100\n",
      "631/631 [==============================] - 0s 386us/step - loss: 537.0559 - val_loss: 194.0109\n",
      "\n",
      "Epoch 00068: val_loss did not improve from 152.06405\n",
      "Epoch 69/100\n",
      "631/631 [==============================] - 0s 381us/step - loss: 516.0335 - val_loss: 236.0533\n",
      "\n",
      "Epoch 00069: val_loss did not improve from 152.06405\n",
      "Epoch 70/100\n",
      "631/631 [==============================] - 0s 417us/step - loss: 552.0918 - val_loss: 169.3108\n",
      "\n",
      "Epoch 00070: val_loss did not improve from 152.06405\n",
      "Epoch 71/100\n",
      "631/631 [==============================] - 0s 399us/step - loss: 564.1270 - val_loss: 164.5725\n",
      "\n",
      "Epoch 00071: val_loss did not improve from 152.06405\n",
      "Epoch 72/100\n",
      "631/631 [==============================] - 0s 412us/step - loss: 542.3633 - val_loss: 333.3457\n",
      "\n",
      "Epoch 00072: val_loss did not improve from 152.06405\n",
      "Epoch 73/100\n",
      "631/631 [==============================] - 0s 401us/step - loss: 545.5170 - val_loss: 161.2328\n",
      "\n",
      "Epoch 00073: val_loss did not improve from 152.06405\n",
      "Epoch 74/100\n",
      "631/631 [==============================] - 0s 400us/step - loss: 607.6906 - val_loss: 154.0146\n",
      "\n",
      "Epoch 00074: val_loss did not improve from 152.06405\n",
      "Epoch 75/100\n",
      "631/631 [==============================] - 0s 397us/step - loss: 555.1780 - val_loss: 220.5659\n",
      "\n",
      "Epoch 00075: val_loss did not improve from 152.06405\n",
      "Epoch 76/100\n",
      "631/631 [==============================] - 0s 425us/step - loss: 605.0541 - val_loss: 630.0255\n",
      "\n",
      "Epoch 00076: val_loss did not improve from 152.06405\n",
      "Epoch 77/100\n",
      "631/631 [==============================] - 0s 435us/step - loss: 507.0262 - val_loss: 175.8230\n",
      "\n",
      "Epoch 00077: val_loss did not improve from 152.06405\n",
      "Epoch 78/100\n",
      "631/631 [==============================] - 0s 430us/step - loss: 528.6908 - val_loss: 242.6509\n",
      "\n",
      "Epoch 00078: val_loss did not improve from 152.06405\n",
      "Epoch 79/100\n",
      "631/631 [==============================] - 0s 401us/step - loss: 505.4228 - val_loss: 155.5550\n",
      "\n",
      "Epoch 00079: val_loss did not improve from 152.06405\n",
      "Epoch 80/100\n",
      "631/631 [==============================] - 0s 396us/step - loss: 585.2572 - val_loss: 549.3853\n",
      "\n",
      "Epoch 00080: val_loss did not improve from 152.06405\n",
      "Epoch 81/100\n",
      "631/631 [==============================] - 0s 384us/step - loss: 575.5771 - val_loss: 143.6997\n",
      "\n",
      "Epoch 00081: val_loss improved from 152.06405 to 143.69972, saving model to RNN-weights-best.hdf5\n",
      "Epoch 82/100\n",
      "631/631 [==============================] - 0s 416us/step - loss: 509.3182 - val_loss: 414.5587\n",
      "\n",
      "Epoch 00082: val_loss did not improve from 143.69972\n",
      "Epoch 83/100\n",
      "631/631 [==============================] - 0s 414us/step - loss: 532.6670 - val_loss: 199.0007\n",
      "\n",
      "Epoch 00083: val_loss did not improve from 143.69972\n",
      "Epoch 84/100\n",
      "631/631 [==============================] - 0s 404us/step - loss: 508.2290 - val_loss: 150.6761\n",
      "\n",
      "Epoch 00084: val_loss did not improve from 143.69972\n",
      "Epoch 85/100\n",
      "631/631 [==============================] - 0s 362us/step - loss: 569.9722 - val_loss: 355.4272\n",
      "\n",
      "Epoch 00085: val_loss did not improve from 143.69972\n",
      "Epoch 86/100\n",
      "631/631 [==============================] - 0s 387us/step - loss: 522.2328 - val_loss: 200.0069\n",
      "\n",
      "Epoch 00086: val_loss did not improve from 143.69972\n",
      "Epoch 87/100\n",
      "631/631 [==============================] - 0s 393us/step - loss: 595.5006 - val_loss: 400.4359\n",
      "\n",
      "Epoch 00087: val_loss did not improve from 143.69972\n",
      "Epoch 88/100\n",
      "631/631 [==============================] - 0s 387us/step - loss: 504.3475 - val_loss: 149.6174\n",
      "\n",
      "Epoch 00088: val_loss did not improve from 143.69972\n",
      "Epoch 89/100\n",
      "631/631 [==============================] - 0s 397us/step - loss: 576.5959 - val_loss: 380.5791\n",
      "\n",
      "Epoch 00089: val_loss did not improve from 143.69972\n",
      "Epoch 90/100\n",
      "631/631 [==============================] - 0s 391us/step - loss: 526.3586 - val_loss: 228.1122\n",
      "\n",
      "Epoch 00090: val_loss did not improve from 143.69972\n",
      "Epoch 91/100\n",
      "631/631 [==============================] - 0s 397us/step - loss: 525.4168 - val_loss: 250.7057\n",
      "\n",
      "Epoch 00091: val_loss did not improve from 143.69972\n",
      "Epoch 92/100\n",
      "631/631 [==============================] - 0s 390us/step - loss: 508.8273 - val_loss: 147.2427\n",
      "\n",
      "Epoch 00092: val_loss did not improve from 143.69972\n",
      "Epoch 93/100\n",
      "631/631 [==============================] - 0s 369us/step - loss: 456.7618 - val_loss: 364.4484\n",
      "\n",
      "Epoch 00093: val_loss did not improve from 143.69972\n",
      "Epoch 94/100\n",
      "631/631 [==============================] - 0s 409us/step - loss: 510.7417 - val_loss: 212.7307\n",
      "\n",
      "Epoch 00094: val_loss did not improve from 143.69972\n",
      "Epoch 95/100\n",
      "631/631 [==============================] - 0s 382us/step - loss: 507.3850 - val_loss: 460.0823\n",
      "\n",
      "Epoch 00095: val_loss did not improve from 143.69972\n",
      "Epoch 96/100\n",
      "631/631 [==============================] - 0s 410us/step - loss: 491.0895 - val_loss: 177.3626\n",
      "\n",
      "Epoch 00096: val_loss did not improve from 143.69972\n",
      "Epoch 97/100\n"
     ]
    },
    {
     "name": "stdout",
     "output_type": "stream",
     "text": [
      "631/631 [==============================] - 0s 382us/step - loss: 455.6249 - val_loss: 279.8052\n",
      "\n",
      "Epoch 00097: val_loss did not improve from 143.69972\n",
      "Epoch 98/100\n",
      "631/631 [==============================] - 0s 396us/step - loss: 490.2349 - val_loss: 190.5166\n",
      "\n",
      "Epoch 00098: val_loss did not improve from 143.69972\n",
      "Epoch 99/100\n",
      "631/631 [==============================] - 0s 392us/step - loss: 527.5505 - val_loss: 142.1494\n",
      "\n",
      "Epoch 00099: val_loss improved from 143.69972 to 142.14944, saving model to RNN-weights-best.hdf5\n",
      "Epoch 100/100\n",
      "631/631 [==============================] - 0s 418us/step - loss: 485.0565 - val_loss: 140.6359\n",
      "\n",
      "Epoch 00100: val_loss improved from 142.14944 to 140.63586, saving model to RNN-weights-best.hdf5\n"
     ]
    },
    {
     "data": {
      "text/plain": [
       "<keras.callbacks.History at 0x17af04780b8>"
      ]
     },
     "execution_count": 11,
     "metadata": {},
     "output_type": "execute_result"
    }
   ],
   "source": [
    "model.fit(X_train, y_train, epochs=100, batch_size=50, verbose=1, validation_split=0.2,callbacks=[checkpoint])"
   ]
  },
  {
   "cell_type": "markdown",
   "metadata": {},
   "source": [
    "Once we have generated the best weigths and saved them using the callback feature, we would want our final model to have this best weigths fitted before making the predictions on the test data. So, we load these weights using the load_weights function."
   ]
  },
  {
   "cell_type": "code",
   "execution_count": 68,
   "metadata": {},
   "outputs": [],
   "source": [
    "model.load_weights(\"RNN-weights-best.hdf5\")"
   ]
  },
  {
   "cell_type": "markdown",
   "metadata": {},
   "source": [
    "### <span style=\"color:brown\"> Predicting the Close Prices"
   ]
  },
  {
   "cell_type": "markdown",
   "metadata": {},
   "source": [
    "Now, we will create a list that would hold the RNN model's predicitons on the test data.\n",
    "\n",
    "After this, we create a dataframe called performance that contains the actual close values and the predictied close values to analyze the predictions\n",
    "\n",
    "We reshape the predictions to a single column vector to match the shape of the actual y_test column vector. We need to do this, to pass these two vectors as inputs to the dataframe called performance."
   ]
  },
  {
   "cell_type": "code",
   "execution_count": 69,
   "metadata": {},
   "outputs": [],
   "source": [
    "predict_close=[]\n",
    "predict_close=np.reshape(model.predict(X_test),(1,-1))"
   ]
  },
  {
   "cell_type": "code",
   "execution_count": 70,
   "metadata": {},
   "outputs": [],
   "source": [
    "predict_close=predict_close[0]"
   ]
  },
  {
   "cell_type": "code",
   "execution_count": 71,
   "metadata": {},
   "outputs": [],
   "source": [
    "performance=pd.DataFrame([predict_close,y_test])"
   ]
  },
  {
   "cell_type": "code",
   "execution_count": 72,
   "metadata": {},
   "outputs": [],
   "source": [
    "# Since the two vectors are added as rows, we take the transpose of the dataframe to create the appropriate columns\n",
    "performance=performance.T"
   ]
  },
  {
   "cell_type": "code",
   "execution_count": 74,
   "metadata": {},
   "outputs": [
    {
     "data": {
      "text/html": [
       "<div>\n",
       "<style scoped>\n",
       "    .dataframe tbody tr th:only-of-type {\n",
       "        vertical-align: middle;\n",
       "    }\n",
       "\n",
       "    .dataframe tbody tr th {\n",
       "        vertical-align: top;\n",
       "    }\n",
       "\n",
       "    .dataframe thead th {\n",
       "        text-align: right;\n",
       "    }\n",
       "</style>\n",
       "<table border=\"1\" class=\"dataframe\">\n",
       "  <thead>\n",
       "    <tr style=\"text-align: right;\">\n",
       "      <th></th>\n",
       "      <th>Predicted</th>\n",
       "      <th>Actual</th>\n",
       "    </tr>\n",
       "  </thead>\n",
       "  <tbody>\n",
       "    <tr>\n",
       "      <th>0</th>\n",
       "      <td>261.882660</td>\n",
       "      <td>257.40</td>\n",
       "    </tr>\n",
       "    <tr>\n",
       "      <th>1</th>\n",
       "      <td>264.744476</td>\n",
       "      <td>253.90</td>\n",
       "    </tr>\n",
       "    <tr>\n",
       "      <th>2</th>\n",
       "      <td>261.416412</td>\n",
       "      <td>250.80</td>\n",
       "    </tr>\n",
       "    <tr>\n",
       "      <th>3</th>\n",
       "      <td>260.394623</td>\n",
       "      <td>249.00</td>\n",
       "    </tr>\n",
       "    <tr>\n",
       "      <th>4</th>\n",
       "      <td>256.611481</td>\n",
       "      <td>248.15</td>\n",
       "    </tr>\n",
       "  </tbody>\n",
       "</table>\n",
       "</div>"
      ],
      "text/plain": [
       "    Predicted  Actual\n",
       "0  261.882660  257.40\n",
       "1  264.744476  253.90\n",
       "2  261.416412  250.80\n",
       "3  260.394623  249.00\n",
       "4  256.611481  248.15"
      ]
     },
     "execution_count": 74,
     "metadata": {},
     "output_type": "execute_result"
    }
   ],
   "source": [
    "performance.columns=['Predicted','Actual']\n",
    "Spread=performance.Actual-performance.Predicted\n",
    "performance.head()"
   ]
  },
  {
   "cell_type": "markdown",
   "metadata": {},
   "source": [
    "### <span style=\"color:brown\"> Visualizing and comparing the performance"
   ]
  },
  {
   "cell_type": "markdown",
   "metadata": {},
   "source": [
    "Now, let us plot the predicted and actual values of the close prices."
   ]
  },
  {
   "cell_type": "code",
   "execution_count": 75,
   "metadata": {
    "scrolled": false
   },
   "outputs": [
    {
     "data": {
      "image/png": "[encoded data removed]",
      "text/plain": [
       "<Figure size 1080x504 with 1 Axes>"
      ]
     },
     "metadata": {},
     "output_type": "display_data"
    }
   ],
   "source": [
    "plt.figure(figsize=(15,7))\n",
    "plt.plot(predict_close,c='y')\n",
    "plt.plot(y_test.tolist(),c='b')\n",
    "plt.legend(['Predicted_Close','Actual_Close'])\n",
    "plt.show()"
   ]
  },
  {
   "cell_type": "markdown",
   "metadata": {},
   "source": [
    "### <span style=\"color:brown\"> Conculsion"
   ]
  },
  {
   "cell_type": "markdown",
   "metadata": {},
   "source": [
    "As, you can see the model makes a prediciton that looks lagging in nature. To make the algorithm more accurate we will have to optimize the various hyper parameters used in the model. \n",
    "\n",
    "We will look at how to tune these hyper parameters using GridSearch in the next section."
   ]
  },
  {
   "cell_type": "code",
   "execution_count": null,
   "metadata": {},
   "outputs": [],
   "source": []
  },
  {
   "cell_type": "code",
   "execution_count": null,
   "metadata": {},
   "outputs": [],
   "source": []
  }
 ],
 "metadata": {
  "anaconda-cloud": {},
  "kernelspec": {
   "display_name": "Python 3",
   "language": "python",
   "name": "python3"
  },
  "language_info": {
   "codemirror_mode": {
    "name": "ipython",
    "version": 3
   },
   "file_extension": ".py",
   "mimetype": "text/x-python",
   "name": "python",
   "nbconvert_exporter": "python",
   "pygments_lexer": "ipython3",
   "version": "3.5.5"
  }
 },
 "nbformat": 4,
 "nbformat_minor": 1
}
