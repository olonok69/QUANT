{
 "cells": [
  {
   "cell_type": "markdown",
   "metadata": {},
   "source": [
    "# Notebook Instructions\n",
    "<i>You can run the notebook document sequentially (one cell at a time) by pressing <b> shift + enter</b>. While a cell is running, a [*] will display on the left. When it has been run, a number will display indicating the order in which it was run in the notebook [8].</i>\n",
    "\n",
    "<i>Enter edit mode by pressing <b>`Enter`</b> or using the mouse to click on a cell's editor area. Edit mode is indicated by a green cell border and a prompt showing in the editor area.</i>"
   ]
  },
  {
   "cell_type": "markdown",
   "metadata": {},
   "source": [
    "# Regression Tree\n",
    "\n",
    "A regression tree automatically selects important predictors and suggests trading rules. In this notebook, we will learn to create a regression tree using Apple Inc. stock. The predictor variables are one-day returns, five-day returns, five-day standard deviation and so on. The target variable is one-day future return. The tree we create will help us create trading rules for when the future return is expected to be positive or negative.\n",
    "<BR>\n",
    "\n",
    "<B>Create a regression tree</B>\n",
    "1. Import the data\n",
    "1. Define predictor variables and a target variable\n",
    "2. Split the data into train and test dataset\n",
    "3. Create a regression tree model using the train data\n",
    "4. Visualize the model\n",
    "\n",
    "<B>Analyzing the performance</B><BR><BR>\n",
    "Part I: Single leaf\n",
    "1. Trading rule based on one leaf node with the highest expected value of a target variable\n",
    "5. Compute performance in the train and test dataset\n",
    "\n",
    "Part II: Full tree\n",
    "1. Trading rule based on all the leaf node\n",
    "5. Compute the performance in the train and test dataset"
   ]
  },
  {
   "cell_type": "markdown",
   "metadata": {},
   "source": [
    "### Import the data"
   ]
  },
  {
   "cell_type": "code",
   "execution_count": 35,
   "metadata": {},
   "outputs": [],
   "source": [
    "import pandas as pd\n",
    "import quandl\n",
    "from datetime import date"
   ]
  },
  {
   "cell_type": "code",
   "execution_count": 74,
   "metadata": {},
   "outputs": [],
   "source": [
    "quandl.connection.ApiConfig.api_key= \"_N85bWLCNCWz14smKHSi\""
   ]
  },
  {
   "cell_type": "code",
   "execution_count": 75,
   "metadata": {},
   "outputs": [],
   "source": [
    "start = date(2008,1,1)\n",
    "end= date.today()"
   ]
  },
  {
   "cell_type": "code",
   "execution_count": 76,
   "metadata": {},
   "outputs": [
    {
     "data": {
      "text/html": [
       "<div>\n",
       "<style scoped>\n",
       "    .dataframe tbody tr th:only-of-type {\n",
       "        vertical-align: middle;\n",
       "    }\n",
       "\n",
       "    .dataframe tbody tr th {\n",
       "        vertical-align: top;\n",
       "    }\n",
       "\n",
       "    .dataframe thead th {\n",
       "        text-align: right;\n",
       "    }\n",
       "</style>\n",
       "<table border=\"1\" class=\"dataframe\">\n",
       "  <thead>\n",
       "    <tr style=\"text-align: right;\">\n",
       "      <th></th>\n",
       "      <th>Open</th>\n",
       "      <th>High</th>\n",
       "      <th>Low</th>\n",
       "      <th>Close</th>\n",
       "      <th>Volume</th>\n",
       "      <th>Ex-Dividend</th>\n",
       "      <th>Split Ratio</th>\n",
       "      <th>Adj. Open</th>\n",
       "      <th>Adj. High</th>\n",
       "      <th>Adj. Low</th>\n",
       "      <th>Adj. Close</th>\n",
       "      <th>Adj. Volume</th>\n",
       "    </tr>\n",
       "    <tr>\n",
       "      <th>Date</th>\n",
       "      <th></th>\n",
       "      <th></th>\n",
       "      <th></th>\n",
       "      <th></th>\n",
       "      <th></th>\n",
       "      <th></th>\n",
       "      <th></th>\n",
       "      <th></th>\n",
       "      <th></th>\n",
       "      <th></th>\n",
       "      <th></th>\n",
       "      <th></th>\n",
       "    </tr>\n",
       "  </thead>\n",
       "  <tbody>\n",
       "    <tr>\n",
       "      <th>2008-01-02</th>\n",
       "      <td>199.27</td>\n",
       "      <td>200.26</td>\n",
       "      <td>192.55</td>\n",
       "      <td>194.84</td>\n",
       "      <td>38542100.0</td>\n",
       "      <td>0.0</td>\n",
       "      <td>1.0</td>\n",
       "      <td>25.608972</td>\n",
       "      <td>25.736201</td>\n",
       "      <td>24.745359</td>\n",
       "      <td>25.039656</td>\n",
       "      <td>269794700.0</td>\n",
       "    </tr>\n",
       "    <tr>\n",
       "      <th>2008-01-03</th>\n",
       "      <td>195.41</td>\n",
       "      <td>197.39</td>\n",
       "      <td>192.69</td>\n",
       "      <td>194.93</td>\n",
       "      <td>30073800.0</td>\n",
       "      <td>0.0</td>\n",
       "      <td>1.0</td>\n",
       "      <td>25.112909</td>\n",
       "      <td>25.367366</td>\n",
       "      <td>24.763351</td>\n",
       "      <td>25.051222</td>\n",
       "      <td>210516600.0</td>\n",
       "    </tr>\n",
       "    <tr>\n",
       "      <th>2008-01-04</th>\n",
       "      <td>191.45</td>\n",
       "      <td>193.00</td>\n",
       "      <td>178.89</td>\n",
       "      <td>180.05</td>\n",
       "      <td>51994000.0</td>\n",
       "      <td>0.0</td>\n",
       "      <td>1.0</td>\n",
       "      <td>24.603993</td>\n",
       "      <td>24.803190</td>\n",
       "      <td>22.989858</td>\n",
       "      <td>23.138934</td>\n",
       "      <td>363958000.0</td>\n",
       "    </tr>\n",
       "  </tbody>\n",
       "</table>\n",
       "</div>"
      ],
      "text/plain": [
       "              Open    High     Low   Close      Volume  Ex-Dividend  \\\n",
       "Date                                                                  \n",
       "2008-01-02  199.27  200.26  192.55  194.84  38542100.0          0.0   \n",
       "2008-01-03  195.41  197.39  192.69  194.93  30073800.0          0.0   \n",
       "2008-01-04  191.45  193.00  178.89  180.05  51994000.0          0.0   \n",
       "\n",
       "            Split Ratio  Adj. Open  Adj. High   Adj. Low  Adj. Close  \\\n",
       "Date                                                                   \n",
       "2008-01-02          1.0  25.608972  25.736201  24.745359   25.039656   \n",
       "2008-01-03          1.0  25.112909  25.367366  24.763351   25.051222   \n",
       "2008-01-04          1.0  24.603993  24.803190  22.989858   23.138934   \n",
       "\n",
       "            Adj. Volume  \n",
       "Date                     \n",
       "2008-01-02  269794700.0  \n",
       "2008-01-03  210516600.0  \n",
       "2008-01-04  363958000.0  "
      ]
     },
     "execution_count": 76,
     "metadata": {},
     "output_type": "execute_result"
    }
   ],
   "source": [
    "data = quandl.get('WIKI/AAPL',start_date=start,end_date=end)\n",
    "#data = pd.read_csv('AAPL.csv', index_col=0)\n",
    "data.index = pd.to_datetime(data.index)\n",
    "data.head(3)"
   ]
  },
  {
   "cell_type": "markdown",
   "metadata": {},
   "source": [
    "### Define predictor variables and a target variable\n",
    "\n",
    "We define a list of predictors from which the model will pick the best predictors. ret1 is the one-day returns, std5 is the five-day standard deviation and so on. <BR>\n",
    "\n",
    "<font color='blue'>pct_change()</font> computes the percentage change from the immediately previous row by default and <font color='blue'>rolling_sum(window=n)</font> computes the sum of previous n rows. "
   ]
  },
  {
   "cell_type": "code",
   "execution_count": 77,
   "metadata": {},
   "outputs": [
    {
     "data": {
      "text/html": [
       "<div>\n",
       "<style scoped>\n",
       "    .dataframe tbody tr th:only-of-type {\n",
       "        vertical-align: middle;\n",
       "    }\n",
       "\n",
       "    .dataframe tbody tr th {\n",
       "        vertical-align: top;\n",
       "    }\n",
       "\n",
       "    .dataframe thead th {\n",
       "        text-align: right;\n",
       "    }\n",
       "</style>\n",
       "<table border=\"1\" class=\"dataframe\">\n",
       "  <thead>\n",
       "    <tr style=\"text-align: right;\">\n",
       "      <th></th>\n",
       "      <th>Open</th>\n",
       "      <th>High</th>\n",
       "      <th>Low</th>\n",
       "      <th>Close</th>\n",
       "      <th>Volume</th>\n",
       "      <th>Ex-Dividend</th>\n",
       "      <th>Split Ratio</th>\n",
       "      <th>Adj. Open</th>\n",
       "      <th>Adj. High</th>\n",
       "      <th>Adj. Low</th>\n",
       "      <th>Adj. Close</th>\n",
       "      <th>Adj. Volume</th>\n",
       "    </tr>\n",
       "  </thead>\n",
       "  <tbody>\n",
       "    <tr>\n",
       "      <th>count</th>\n",
       "      <td>2575.000000</td>\n",
       "      <td>2575.000000</td>\n",
       "      <td>2575.000000</td>\n",
       "      <td>2575.000000</td>\n",
       "      <td>2.575000e+03</td>\n",
       "      <td>2575.000000</td>\n",
       "      <td>2575.00000</td>\n",
       "      <td>2575.000000</td>\n",
       "      <td>2575.000000</td>\n",
       "      <td>2575.000000</td>\n",
       "      <td>2575.000000</td>\n",
       "      <td>2.575000e+03</td>\n",
       "    </tr>\n",
       "    <tr>\n",
       "      <th>mean</th>\n",
       "      <td>261.045268</td>\n",
       "      <td>263.580311</td>\n",
       "      <td>258.188734</td>\n",
       "      <td>260.939203</td>\n",
       "      <td>2.865983e+07</td>\n",
       "      <td>0.011833</td>\n",
       "      <td>1.00233</td>\n",
       "      <td>72.992806</td>\n",
       "      <td>73.641394</td>\n",
       "      <td>72.295007</td>\n",
       "      <td>72.983598</td>\n",
       "      <td>1.095620e+08</td>\n",
       "    </tr>\n",
       "    <tr>\n",
       "      <th>std</th>\n",
       "      <td>172.243723</td>\n",
       "      <td>173.607610</td>\n",
       "      <td>170.568580</td>\n",
       "      <td>172.096825</td>\n",
       "      <td>1.857743e+07</td>\n",
       "      <td>0.167919</td>\n",
       "      <td>0.11824</td>\n",
       "      <td>44.230053</td>\n",
       "      <td>44.520595</td>\n",
       "      <td>43.938896</td>\n",
       "      <td>44.236221</td>\n",
       "      <td>8.963608e+07</td>\n",
       "    </tr>\n",
       "    <tr>\n",
       "      <th>min</th>\n",
       "      <td>79.450000</td>\n",
       "      <td>82.000000</td>\n",
       "      <td>78.200000</td>\n",
       "      <td>78.200000</td>\n",
       "      <td>5.624800e+06</td>\n",
       "      <td>0.000000</td>\n",
       "      <td>1.00000</td>\n",
       "      <td>10.210432</td>\n",
       "      <td>10.538143</td>\n",
       "      <td>10.049790</td>\n",
       "      <td>10.049790</td>\n",
       "      <td>1.147592e+07</td>\n",
       "    </tr>\n",
       "    <tr>\n",
       "      <th>25%</th>\n",
       "      <td>118.260000</td>\n",
       "      <td>119.365000</td>\n",
       "      <td>117.190000</td>\n",
       "      <td>118.640000</td>\n",
       "      <td>1.537580e+07</td>\n",
       "      <td>0.000000</td>\n",
       "      <td>1.00000</td>\n",
       "      <td>33.389849</td>\n",
       "      <td>33.750330</td>\n",
       "      <td>32.943263</td>\n",
       "      <td>33.351295</td>\n",
       "      <td>4.456616e+07</td>\n",
       "    </tr>\n",
       "    <tr>\n",
       "      <th>50%</th>\n",
       "      <td>174.350000</td>\n",
       "      <td>175.650000</td>\n",
       "      <td>172.000000</td>\n",
       "      <td>174.250000</td>\n",
       "      <td>2.361796e+07</td>\n",
       "      <td>0.000000</td>\n",
       "      <td>1.00000</td>\n",
       "      <td>69.118372</td>\n",
       "      <td>69.765704</td>\n",
       "      <td>68.376664</td>\n",
       "      <td>69.149468</td>\n",
       "      <td>8.639330e+07</td>\n",
       "    </tr>\n",
       "    <tr>\n",
       "      <th>75%</th>\n",
       "      <td>397.000000</td>\n",
       "      <td>400.310000</td>\n",
       "      <td>391.755000</td>\n",
       "      <td>396.477500</td>\n",
       "      <td>3.653150e+07</td>\n",
       "      <td>0.000000</td>\n",
       "      <td>1.00000</td>\n",
       "      <td>106.243914</td>\n",
       "      <td>107.269976</td>\n",
       "      <td>105.268516</td>\n",
       "      <td>106.241824</td>\n",
       "      <td>1.443774e+08</td>\n",
       "    </tr>\n",
       "    <tr>\n",
       "      <th>max</th>\n",
       "      <td>702.410000</td>\n",
       "      <td>705.070000</td>\n",
       "      <td>699.570000</td>\n",
       "      <td>702.100000</td>\n",
       "      <td>1.895606e+08</td>\n",
       "      <td>3.290000</td>\n",
       "      <td>7.00000</td>\n",
       "      <td>182.590000</td>\n",
       "      <td>183.500000</td>\n",
       "      <td>180.210000</td>\n",
       "      <td>181.720000</td>\n",
       "      <td>8.432424e+08</td>\n",
       "    </tr>\n",
       "  </tbody>\n",
       "</table>\n",
       "</div>"
      ],
      "text/plain": [
       "              Open         High          Low        Close        Volume  \\\n",
       "count  2575.000000  2575.000000  2575.000000  2575.000000  2.575000e+03   \n",
       "mean    261.045268   263.580311   258.188734   260.939203  2.865983e+07   \n",
       "std     172.243723   173.607610   170.568580   172.096825  1.857743e+07   \n",
       "min      79.450000    82.000000    78.200000    78.200000  5.624800e+06   \n",
       "25%     118.260000   119.365000   117.190000   118.640000  1.537580e+07   \n",
       "50%     174.350000   175.650000   172.000000   174.250000  2.361796e+07   \n",
       "75%     397.000000   400.310000   391.755000   396.477500  3.653150e+07   \n",
       "max     702.410000   705.070000   699.570000   702.100000  1.895606e+08   \n",
       "\n",
       "       Ex-Dividend  Split Ratio    Adj. Open    Adj. High     Adj. Low  \\\n",
       "count  2575.000000   2575.00000  2575.000000  2575.000000  2575.000000   \n",
       "mean      0.011833      1.00233    72.992806    73.641394    72.295007   \n",
       "std       0.167919      0.11824    44.230053    44.520595    43.938896   \n",
       "min       0.000000      1.00000    10.210432    10.538143    10.049790   \n",
       "25%       0.000000      1.00000    33.389849    33.750330    32.943263   \n",
       "50%       0.000000      1.00000    69.118372    69.765704    68.376664   \n",
       "75%       0.000000      1.00000   106.243914   107.269976   105.268516   \n",
       "max       3.290000      7.00000   182.590000   183.500000   180.210000   \n",
       "\n",
       "        Adj. Close   Adj. Volume  \n",
       "count  2575.000000  2.575000e+03  \n",
       "mean     72.983598  1.095620e+08  \n",
       "std      44.236221  8.963608e+07  \n",
       "min      10.049790  1.147592e+07  \n",
       "25%      33.351295  4.456616e+07  \n",
       "50%      69.149468  8.639330e+07  \n",
       "75%     106.241824  1.443774e+08  \n",
       "max     181.720000  8.432424e+08  "
      ]
     },
     "execution_count": 77,
     "metadata": {},
     "output_type": "execute_result"
    }
   ],
   "source": [
    "data.describe()"
   ]
  },
  {
   "cell_type": "code",
   "execution_count": 79,
   "metadata": {},
   "outputs": [],
   "source": [
    "# Returns\n",
    "data['ret1'] = data['Adj. Close'].pct_change()\n",
    "\n",
    "data['ret5'] = pd.Series.rolling(data.ret1,center=False,window=5).sum()\n",
    "data['ret10'] = pd.Series.rolling(data.ret1,center=False,window=10).sum()\n",
    "data['ret20'] = pd.Series.rolling(data.ret1,center=False,window=20).sum()\n",
    "data['ret40'] = pd.Series.rolling(data.ret1,center=False,window=40).sum()\n",
    "\n",
    "# Standard Deviation\n",
    "data['std5'] = pd.Series.rolling(data.ret1,center=False,window=5).std()\n",
    "data['std10'] = pd.Series.rolling(data.ret1,center=False,window=10).std()\n",
    "data['std20'] = pd.Series.rolling(data.ret1,center=False,window=20).std()\n",
    "data['std40'] = pd.Series.rolling(data.ret1,center=False,window=40).std()"
   ]
  },
  {
   "cell_type": "markdown",
   "metadata": {},
   "source": [
    "We define the target variable which is the future one-day returns of the Apple Inc. stock. <BR>\n",
    "<font color='blue'>shift(periods=n)</font> shifts the values by n period(s). If the value of n is negative then, it shifts the values backward and vice-versa."
   ]
  },
  {
   "cell_type": "code",
   "execution_count": 80,
   "metadata": {},
   "outputs": [],
   "source": [
    "data['retFut1'] = data.ret1.shift(-1)"
   ]
  },
  {
   "cell_type": "markdown",
   "metadata": {},
   "source": [
    "We drop the NaN values and store the predictor variables in X and target variable in y."
   ]
  },
  {
   "cell_type": "code",
   "execution_count": 81,
   "metadata": {},
   "outputs": [],
   "source": [
    "data = data.dropna()\n",
    "predictor_list = ['ret1','ret5', 'ret10', 'ret20', 'ret40', 'std5', 'std10', 'std20', 'std40','Volume']\n",
    "X = data[predictor_list]\n",
    "y = data.retFut1"
   ]
  },
  {
   "cell_type": "markdown",
   "metadata": {},
   "source": [
    "### Split the data into train and test dataset\n",
    "This step is required to verify if the regression tree model we created is any good. We will split the dataset into two parts, first 80% of the dataset will use to create the model and the remaining 20% will be used as a test dataset."
   ]
  },
  {
   "cell_type": "code",
   "execution_count": 82,
   "metadata": {},
   "outputs": [],
   "source": [
    "train_length = int(len(data)*0.80)\n",
    "\n",
    "X_train = X[:train_length] \n",
    "X_test =  X[train_length:]\n",
    "y_train = y[:train_length]\n",
    "y_test = y[train_length:]                   "
   ]
  },
  {
   "cell_type": "markdown",
   "metadata": {},
   "source": [
    "We have training data in the X_train and y_train for creating the regression tree model and a X_test and y_test to verify the model on unseen data."
   ]
  },
  {
   "cell_type": "markdown",
   "metadata": {},
   "source": [
    "### Create regression tree model\n",
    "\n",
    "We have used DecisionTreeRegressor from sklearn.tree to create the regression tree model. We choose to set min_samples_leaf to 400, but you are free to experiment with other values and see what is optimal on the train dataset. Generally, a leaf size should not be too small to avoid overfitting in the train dataset."
   ]
  },
  {
   "cell_type": "code",
   "execution_count": 83,
   "metadata": {},
   "outputs": [],
   "source": [
    "# Regression tree model\n",
    "from sklearn.tree import DecisionTreeRegressor\n",
    "dtr = DecisionTreeRegressor(min_samples_leaf = 400)"
   ]
  },
  {
   "cell_type": "markdown",
   "metadata": {},
   "source": [
    "We create the regression tree model using fit() method on the train dataset."
   ]
  },
  {
   "cell_type": "code",
   "execution_count": 84,
   "metadata": {},
   "outputs": [
    {
     "data": {
      "text/plain": [
       "DecisionTreeRegressor(criterion='mse', max_depth=None, max_features=None,\n",
       "           max_leaf_nodes=None, min_impurity_decrease=0.0,\n",
       "           min_impurity_split=None, min_samples_leaf=400,\n",
       "           min_samples_split=2, min_weight_fraction_leaf=0.0,\n",
       "           presort=False, random_state=None, splitter='best')"
      ]
     },
     "execution_count": 84,
     "metadata": {},
     "output_type": "execute_result"
    }
   ],
   "source": [
    "dtr.fit(X_train, y_train)"
   ]
  },
  {
   "cell_type": "code",
   "execution_count": 85,
   "metadata": {},
   "outputs": [],
   "source": [
    "# Uncomment below line to see details of DecisionTreeRegressor\n",
    "# help(DecisionTreeRegressor)"
   ]
  },
  {
   "cell_type": "markdown",
   "metadata": {},
   "source": [
    "### Visualize the model\n",
    "\n",
    "We now visualize the regression tree created in the below step using the graphviz and sklearn's tree package."
   ]
  },
  {
   "cell_type": "code",
   "execution_count": 86,
   "metadata": {},
   "outputs": [
    {
     "data": {
      "image/svg+xml": [
       "<?xml version=\"1.0\" encoding=\"UTF-8\" standalone=\"no\"?>\r\n",
       "<!DOCTYPE svg PUBLIC \"-//W3C//DTD SVG 1.1//EN\"\r\n",
       " \"http://www.w3.org/Graphics/SVG/1.1/DTD/svg11.dtd\">\r\n",
       "<!-- Generated by graphviz version 2.38.0 (20140413.2041)\r\n",
       " -->\r\n",
       "<!-- Title: Tree Pages: 1 -->\r\n",
       "<svg width=\"457pt\" height=\"269pt\"\r\n",
       " viewBox=\"0.00 0.00 457.00 269.00\" xmlns=\"http://www.w3.org/2000/svg\" xmlns:xlink=\"http://www.w3.org/1999/xlink\">\r\n",
       "<g id=\"graph0\" class=\"graph\" transform=\"scale(1 1) rotate(0) translate(4 265)\">\r\n",
       "<title>Tree</title>\r\n",
       "<polygon fill=\"white\" stroke=\"none\" points=\"-4,4 -4,-265 453,-265 453,4 -4,4\"/>\r\n",
       "<!-- 0 -->\r\n",
       "<g id=\"node1\" class=\"node\"><title>0</title>\r\n",
       "<polygon fill=\"#e58139\" fill-opacity=\"0.592157\" stroke=\"black\" points=\"276,-261 172,-261 172,-193 276,-193 276,-261\"/>\r\n",
       "<text text-anchor=\"middle\" x=\"224\" y=\"-245.8\" font-family=\"Times New Roman,serif\" font-size=\"14.00\">ret5 &lt;= 0.001</text>\r\n",
       "<text text-anchor=\"middle\" x=\"224\" y=\"-230.8\" font-family=\"Times New Roman,serif\" font-size=\"14.00\">mse = 0.0</text>\r\n",
       "<text text-anchor=\"middle\" x=\"224\" y=\"-215.8\" font-family=\"Times New Roman,serif\" font-size=\"14.00\">samples = 2027</text>\r\n",
       "<text text-anchor=\"middle\" x=\"224\" y=\"-200.8\" font-family=\"Times New Roman,serif\" font-size=\"14.00\">value = 0.001</text>\r\n",
       "</g>\r\n",
       "<!-- 1 -->\r\n",
       "<g id=\"node2\" class=\"node\"><title>1</title>\r\n",
       "<polygon fill=\"#e58139\" fill-opacity=\"0.364706\" stroke=\"black\" points=\"215,-157 111,-157 111,-89 215,-89 215,-157\"/>\r\n",
       "<text text-anchor=\"middle\" x=\"163\" y=\"-141.8\" font-family=\"Times New Roman,serif\" font-size=\"14.00\">ret10 &lt;= &#45;0.018</text>\r\n",
       "<text text-anchor=\"middle\" x=\"163\" y=\"-126.8\" font-family=\"Times New Roman,serif\" font-size=\"14.00\">mse = 0.001</text>\r\n",
       "<text text-anchor=\"middle\" x=\"163\" y=\"-111.8\" font-family=\"Times New Roman,serif\" font-size=\"14.00\">samples = 904</text>\r\n",
       "<text text-anchor=\"middle\" x=\"163\" y=\"-96.8\" font-family=\"Times New Roman,serif\" font-size=\"14.00\">value = &#45;0.0</text>\r\n",
       "</g>\r\n",
       "<!-- 0&#45;&gt;1 -->\r\n",
       "<g id=\"edge1\" class=\"edge\"><title>0&#45;&gt;1</title>\r\n",
       "<path fill=\"none\" stroke=\"black\" d=\"M204.195,-192.884C199.081,-184.332 193.508,-175.013 188.161,-166.072\"/>\r\n",
       "<polygon fill=\"black\" stroke=\"black\" points=\"191.051,-164.085 182.914,-157.299 185.043,-167.678 191.051,-164.085\"/>\r\n",
       "<text text-anchor=\"middle\" x=\"176.816\" y=\"-177.844\" font-family=\"Times New Roman,serif\" font-size=\"14.00\">True</text>\r\n",
       "</g>\r\n",
       "<!-- 4 -->\r\n",
       "<g id=\"node5\" class=\"node\"><title>4</title>\r\n",
       "<polygon fill=\"#e58139\" fill-opacity=\"0.776471\" stroke=\"black\" points=\"337,-157 233,-157 233,-89 337,-89 337,-157\"/>\r\n",
       "<text text-anchor=\"middle\" x=\"285\" y=\"-141.8\" font-family=\"Times New Roman,serif\" font-size=\"14.00\">std5 &lt;= 0.016</text>\r\n",
       "<text text-anchor=\"middle\" x=\"285\" y=\"-126.8\" font-family=\"Times New Roman,serif\" font-size=\"14.00\">mse = 0.0</text>\r\n",
       "<text text-anchor=\"middle\" x=\"285\" y=\"-111.8\" font-family=\"Times New Roman,serif\" font-size=\"14.00\">samples = 1123</text>\r\n",
       "<text text-anchor=\"middle\" x=\"285\" y=\"-96.8\" font-family=\"Times New Roman,serif\" font-size=\"14.00\">value = 0.002</text>\r\n",
       "</g>\r\n",
       "<!-- 0&#45;&gt;4 -->\r\n",
       "<g id=\"edge4\" class=\"edge\"><title>0&#45;&gt;4</title>\r\n",
       "<path fill=\"none\" stroke=\"black\" d=\"M243.805,-192.884C248.919,-184.332 254.492,-175.013 259.839,-166.072\"/>\r\n",
       "<polygon fill=\"black\" stroke=\"black\" points=\"262.957,-167.678 265.086,-157.299 256.949,-164.085 262.957,-167.678\"/>\r\n",
       "<text text-anchor=\"middle\" x=\"271.184\" y=\"-177.844\" font-family=\"Times New Roman,serif\" font-size=\"14.00\">False</text>\r\n",
       "</g>\r\n",
       "<!-- 2 -->\r\n",
       "<g id=\"node3\" class=\"node\"><title>2</title>\r\n",
       "<polygon fill=\"#e58139\" fill-opacity=\"0.701961\" stroke=\"black\" points=\"98,-53 0,-53 0,-0 98,-0 98,-53\"/>\r\n",
       "<text text-anchor=\"middle\" x=\"49\" y=\"-37.8\" font-family=\"Times New Roman,serif\" font-size=\"14.00\">mse = 0.001</text>\r\n",
       "<text text-anchor=\"middle\" x=\"49\" y=\"-22.8\" font-family=\"Times New Roman,serif\" font-size=\"14.00\">samples = 472</text>\r\n",
       "<text text-anchor=\"middle\" x=\"49\" y=\"-7.8\" font-family=\"Times New Roman,serif\" font-size=\"14.00\">value = 0.002</text>\r\n",
       "</g>\r\n",
       "<!-- 1&#45;&gt;2 -->\r\n",
       "<g id=\"edge2\" class=\"edge\"><title>1&#45;&gt;2</title>\r\n",
       "<path fill=\"none\" stroke=\"black\" d=\"M123.128,-88.9485C111.762,-79.526 99.393,-69.2731 88.0743,-59.8906\"/>\r\n",
       "<polygon fill=\"black\" stroke=\"black\" points=\"89.9799,-56.924 80.0475,-53.2367 85.5126,-62.3132 89.9799,-56.924\"/>\r\n",
       "</g>\r\n",
       "<!-- 3 -->\r\n",
       "<g id=\"node4\" class=\"node\"><title>3</title>\r\n",
       "<polygon fill=\"none\" stroke=\"black\" points=\"214,-53 116,-53 116,-0 214,-0 214,-53\"/>\r\n",
       "<text text-anchor=\"middle\" x=\"165\" y=\"-37.8\" font-family=\"Times New Roman,serif\" font-size=\"14.00\">mse = 0.0</text>\r\n",
       "<text text-anchor=\"middle\" x=\"165\" y=\"-22.8\" font-family=\"Times New Roman,serif\" font-size=\"14.00\">samples = 432</text>\r\n",
       "<text text-anchor=\"middle\" x=\"165\" y=\"-7.8\" font-family=\"Times New Roman,serif\" font-size=\"14.00\">value = &#45;0.003</text>\r\n",
       "</g>\r\n",
       "<!-- 1&#45;&gt;3 -->\r\n",
       "<g id=\"edge3\" class=\"edge\"><title>1&#45;&gt;3</title>\r\n",
       "<path fill=\"none\" stroke=\"black\" d=\"M163.7,-88.9485C163.874,-80.7153 164.061,-71.848 164.238,-63.4814\"/>\r\n",
       "<polygon fill=\"black\" stroke=\"black\" points=\"167.743,-63.3086 164.455,-53.2367 160.744,-63.1604 167.743,-63.3086\"/>\r\n",
       "</g>\r\n",
       "<!-- 5 -->\r\n",
       "<g id=\"node6\" class=\"node\"><title>5</title>\r\n",
       "<polygon fill=\"#e58139\" fill-opacity=\"0.623529\" stroke=\"black\" points=\"333,-53 235,-53 235,-0 333,-0 333,-53\"/>\r\n",
       "<text text-anchor=\"middle\" x=\"284\" y=\"-37.8\" font-family=\"Times New Roman,serif\" font-size=\"14.00\">mse = 0.0</text>\r\n",
       "<text text-anchor=\"middle\" x=\"284\" y=\"-22.8\" font-family=\"Times New Roman,serif\" font-size=\"14.00\">samples = 671</text>\r\n",
       "<text text-anchor=\"middle\" x=\"284\" y=\"-7.8\" font-family=\"Times New Roman,serif\" font-size=\"14.00\">value = 0.001</text>\r\n",
       "</g>\r\n",
       "<!-- 4&#45;&gt;5 -->\r\n",
       "<g id=\"edge5\" class=\"edge\"><title>4&#45;&gt;5</title>\r\n",
       "<path fill=\"none\" stroke=\"black\" d=\"M284.65,-88.9485C284.563,-80.7153 284.469,-71.848 284.381,-63.4814\"/>\r\n",
       "<polygon fill=\"black\" stroke=\"black\" points=\"287.878,-63.1991 284.272,-53.2367 280.878,-63.2732 287.878,-63.1991\"/>\r\n",
       "</g>\r\n",
       "<!-- 6 -->\r\n",
       "<g id=\"node7\" class=\"node\"><title>6</title>\r\n",
       "<polygon fill=\"#e58139\" stroke=\"black\" points=\"449,-53 351,-53 351,-0 449,-0 449,-53\"/>\r\n",
       "<text text-anchor=\"middle\" x=\"400\" y=\"-37.8\" font-family=\"Times New Roman,serif\" font-size=\"14.00\">mse = 0.0</text>\r\n",
       "<text text-anchor=\"middle\" x=\"400\" y=\"-22.8\" font-family=\"Times New Roman,serif\" font-size=\"14.00\">samples = 452</text>\r\n",
       "<text text-anchor=\"middle\" x=\"400\" y=\"-7.8\" font-family=\"Times New Roman,serif\" font-size=\"14.00\">value = 0.004</text>\r\n",
       "</g>\r\n",
       "<!-- 4&#45;&gt;6 -->\r\n",
       "<g id=\"edge6\" class=\"edge\"><title>4&#45;&gt;6</title>\r\n",
       "<path fill=\"none\" stroke=\"black\" d=\"M325.221,-88.9485C336.799,-79.4346 349.407,-69.074 360.915,-59.6175\"/>\r\n",
       "<polygon fill=\"black\" stroke=\"black\" points=\"363.176,-62.2897 368.68,-53.2367 358.732,-56.8814 363.176,-62.2897\"/>\r\n",
       "</g>\r\n",
       "</g>\r\n",
       "</svg>\r\n"
      ],
      "text/plain": [
       "<graphviz.files.Source at 0x2247527c518>"
      ]
     },
     "execution_count": 86,
     "metadata": {},
     "output_type": "execute_result"
    }
   ],
   "source": [
    "import os\n",
    "os.environ[\"PATH\"] += os.pathsep + 'C:/Users/academy/Documents/graphviz-2.38/release/bin/'\n",
    "#os.environ[\"PATH\"] += os.pathsep + 'C:/Program Files (x86)/Graphviz2.38/release/bin/'\n",
    "from sklearn import tree\n",
    "import graphviz\n",
    "dot_data = tree.export_graphviz(dtr, \n",
    "                                out_file=None, \n",
    "                                filled=True,   \n",
    "                                feature_names=predictor_list)  \n",
    "graphviz.Source(dot_data)  "
   ]
  },
  {
   "cell_type": "markdown",
   "metadata": {},
   "source": [
    "To practice, create a regression tree model with min_samples_leaf as 100, 500 and 1000 and plot the tree to visualize the difference."
   ]
  },
  {
   "cell_type": "markdown",
   "metadata": {},
   "source": [
    "### Trading rule based on the leaf node with the highest target variable value\n",
    "\n",
    "As seen from the above tree, the right-most child node has the highest value of 0.0037, which can be used to define a long rule. The rule can be paraphrased as when ret5 > 0.0014 (0.14%) and std5 > 0.0157 (0.157%) then buy, else do not buy. So predicted_signal is '1' when buy and '0' otherwise. "
   ]
  },
  {
   "cell_type": "code",
   "execution_count": 87,
   "metadata": {},
   "outputs": [
    {
     "name": "stderr",
     "output_type": "stream",
     "text": [
      "j:\\Anaconda3\\envs\\quantum\\lib\\site-packages\\ipykernel_launcher.py:3: SettingWithCopyWarning: \n",
      "A value is trying to be set on a copy of a slice from a DataFrame.\n",
      "Try using .loc[row_indexer,col_indexer] = value instead\n",
      "\n",
      "See the caveats in the documentation: http://pandas.pydata.org/pandas-docs/stable/indexing.html#indexing-view-versus-copy\n",
      "  This is separate from the ipykernel package so we can avoid doing imports until\n"
     ]
    },
    {
     "data": {
      "image/png": "[encoded data removed]",
      "text/plain": [
       "<Figure size 432x288 with 1 Axes>"
      ]
     },
     "metadata": {
      "needs_background": "light"
     },
     "output_type": "display_data"
    }
   ],
   "source": [
    "import numpy as np\n",
    "#data['predicted_signal'] = np.where(((data.ret5 > 0.0014) & (data.std5 > 0.0155)), 1, 0)\n",
    "data['predicted_signal'] = np.where(((data.ret5 > 0.001) & (data.std5 > 0.016)), 1, 0)\n",
    "%matplotlib inline\n",
    "# Visualizing the signal predicted for last 10 days\n",
    "import matplotlib.pyplot as plt\n",
    "import seaborn\n",
    "data.predicted_signal[-10:].plot()\n",
    "plt.show()"
   ]
  },
  {
   "cell_type": "markdown",
   "metadata": {},
   "source": [
    "The above graph shows the signal predicted for last 10 days. The strategy returns are generated by multiplying the future returns by the predicted signal and stored in the strategy_returns."
   ]
  },
  {
   "cell_type": "code",
   "execution_count": 88,
   "metadata": {},
   "outputs": [
    {
     "name": "stderr",
     "output_type": "stream",
     "text": [
      "j:\\Anaconda3\\envs\\quantum\\lib\\site-packages\\ipykernel_launcher.py:1: SettingWithCopyWarning: \n",
      "A value is trying to be set on a copy of a slice from a DataFrame.\n",
      "Try using .loc[row_indexer,col_indexer] = value instead\n",
      "\n",
      "See the caveats in the documentation: http://pandas.pydata.org/pandas-docs/stable/indexing.html#indexing-view-versus-copy\n",
      "  \"\"\"Entry point for launching an IPython kernel.\n"
     ]
    }
   ],
   "source": [
    "data['strategy_returns_single_leaf'] = data.retFut1 * data.predicted_signal"
   ]
  },
  {
   "cell_type": "markdown",
   "metadata": {},
   "source": [
    "### Trading rule based on the full tree\n",
    "\n",
    "We define a trading rule based on the expected response of every single leaf. If the expected value is positive then we buy the Apple Inc. stock and otherwise, we sell the stock."
   ]
  },
  {
   "cell_type": "code",
   "execution_count": 89,
   "metadata": {},
   "outputs": [
    {
     "name": "stderr",
     "output_type": "stream",
     "text": [
      "j:\\Anaconda3\\envs\\quantum\\lib\\site-packages\\ipykernel_launcher.py:1: SettingWithCopyWarning: \n",
      "A value is trying to be set on a copy of a slice from a DataFrame.\n",
      "Try using .loc[row_indexer,col_indexer] = value instead\n",
      "\n",
      "See the caveats in the documentation: http://pandas.pydata.org/pandas-docs/stable/indexing.html#indexing-view-versus-copy\n",
      "  \"\"\"Entry point for launching an IPython kernel.\n",
      "j:\\Anaconda3\\envs\\quantum\\lib\\site-packages\\ipykernel_launcher.py:2: SettingWithCopyWarning: \n",
      "A value is trying to be set on a copy of a slice from a DataFrame.\n",
      "Try using .loc[row_indexer,col_indexer] = value instead\n",
      "\n",
      "See the caveats in the documentation: http://pandas.pydata.org/pandas-docs/stable/indexing.html#indexing-view-versus-copy\n",
      "  \n"
     ]
    }
   ],
   "source": [
    "data['predicted_signal'] = np.where(dtr.predict(X) > 0, 1,-1)\n",
    "data['strategy_returns_full_tree'] = data.retFut1 * data.predicted_signal"
   ]
  },
  {
   "cell_type": "markdown",
   "metadata": {},
   "source": [
    "### Performance computation for single leaf"
   ]
  },
  {
   "cell_type": "markdown",
   "metadata": {},
   "source": [
    "Sharpe Ratio\n",
    "\n",
    "The Sharpe ratio is calculated as follows:\n",
    "\n",
    "<img src=\"https://d2a032ejo53cab.cloudfront.net/Glossary/R2TAJa6K/Sharpe-1.jpg\"></img>\n",
    "\n",
    "Where\n",
    "- N is the number of trading days in a year\n",
    "- Rf is the risk-free rate\n",
    "- Std dev is the standard deviation\n",
    "\n",
    "Sharpe ratio represents how good the strategy performance is for the risk (standard deviation) taken to achieve it. The higher the Sharpe ratio the better is the strategy. Generally, a Sharpe ratio of greater than 1.5 is preferred."
   ]
  },
  {
   "cell_type": "code",
   "execution_count": 90,
   "metadata": {},
   "outputs": [],
   "source": [
    "# The below function returns the Sharpe ratio for the excess returns (Strategy returns - Risk free rate) passed to it.\n",
    "def annualized_sharpe_ratio(returns, N=252):\n",
    "    return np.sqrt(N) * returns.mean() / returns.std()"
   ]
  },
  {
   "cell_type": "markdown",
   "metadata": {},
   "source": [
    "We calculate the Sharpe ratio for the strategy in train and test dataset. The risk-free rate is assumed to be 5% p.a."
   ]
  },
  {
   "cell_type": "code",
   "execution_count": 91,
   "metadata": {},
   "outputs": [
    {
     "name": "stderr",
     "output_type": "stream",
     "text": [
      "j:\\Anaconda3\\envs\\quantum\\lib\\site-packages\\ipykernel_launcher.py:3: SettingWithCopyWarning: \n",
      "A value is trying to be set on a copy of a slice from a DataFrame.\n",
      "Try using .loc[row_indexer,col_indexer] = value instead\n",
      "\n",
      "See the caveats in the documentation: http://pandas.pydata.org/pandas-docs/stable/indexing.html#indexing-view-versus-copy\n",
      "  This is separate from the ipykernel package so we can avoid doing imports until\n"
     ]
    }
   ],
   "source": [
    "# Sharpe ratio\n",
    "# Train dataset\n",
    "data['excess_daily_strategy_return'] = data.strategy_returns_single_leaf - 0.05/252\n",
    "sharpe_train_single_leaf = annualized_sharpe_ratio(data.excess_daily_strategy_return.iloc[:train_length])\n",
    "# Test dataset\n",
    "sharpe_test_single_leaf = annualized_sharpe_ratio(data.excess_daily_strategy_return.iloc[train_length:])"
   ]
  },
  {
   "cell_type": "markdown",
   "metadata": {},
   "source": [
    "### Strategy CAGR\n",
    "CAGR represents the compounded annual returns of the strategy. The strategy CAGR is computed as follows:\n",
    "\n",
    "<i>(Cumulative returns + 1)^(252/number of days) - 1</i>\n",
    "\n",
    "where cumulative returns are the total strategy returns and number of days represent the total trading days."
   ]
  },
  {
   "cell_type": "code",
   "execution_count": 92,
   "metadata": {},
   "outputs": [],
   "source": [
    "def CAGR(returns):\n",
    "    cumulative_returns = returns.cumsum().iloc[-1]   \n",
    "    period_in_days = len(returns)\n",
    "    return 100*((cumulative_returns+1)**(252.0/period_in_days)-1)"
   ]
  },
  {
   "cell_type": "code",
   "execution_count": 93,
   "metadata": {},
   "outputs": [],
   "source": [
    "# Single Leaf\n",
    "# Train dataset\n",
    "ret_train_single_leaf = CAGR(data.strategy_returns_single_leaf.iloc[:train_length])\n",
    "# Test dataset\n",
    "ret_test_single_leaf = CAGR(data.strategy_returns_single_leaf.iloc[train_length:])"
   ]
  },
  {
   "cell_type": "markdown",
   "metadata": {},
   "source": [
    "### Performance computation for full tree"
   ]
  },
  {
   "cell_type": "code",
   "execution_count": 94,
   "metadata": {},
   "outputs": [
    {
     "name": "stderr",
     "output_type": "stream",
     "text": [
      "j:\\Anaconda3\\envs\\quantum\\lib\\site-packages\\ipykernel_launcher.py:5: SettingWithCopyWarning: \n",
      "A value is trying to be set on a copy of a slice from a DataFrame.\n",
      "Try using .loc[row_indexer,col_indexer] = value instead\n",
      "\n",
      "See the caveats in the documentation: http://pandas.pydata.org/pandas-docs/stable/indexing.html#indexing-view-versus-copy\n",
      "  \"\"\"\n"
     ]
    }
   ],
   "source": [
    "# Full Tree\n",
    "\n",
    "# Sharpe ratio\n",
    "# Train dataset\n",
    "data['excess_daily_strategy_return'] = data.strategy_returns_full_tree - 0.05/252\n",
    "sharpe_train_full_tree = annualized_sharpe_ratio(data.excess_daily_strategy_return.iloc[:train_length])\n",
    "# Test dataset\n",
    "sharpe_test_full_tree = annualized_sharpe_ratio(data.excess_daily_strategy_return.iloc[train_length:])\n",
    "\n",
    "# CAGR\n",
    "# Train dataset\n",
    "ret_train_full_tree = CAGR(data.strategy_returns_full_tree.iloc[:train_length])\n",
    "# Test dataset\n",
    "ret_test_full_tree = CAGR(data.strategy_returns_full_tree.iloc[train_length:])\n"
   ]
  },
  {
   "cell_type": "markdown",
   "metadata": {},
   "source": [
    "### Performance Comparision of single leaf and full tree"
   ]
  },
  {
   "cell_type": "markdown",
   "metadata": {},
   "source": [
    "Cumulative returns in train dataset."
   ]
  },
  {
   "cell_type": "code",
   "execution_count": 95,
   "metadata": {},
   "outputs": [
    {
     "data": {
      "image/png": "[encoded data removed]",
      "text/plain": [
       "<Figure size 432x288 with 1 Axes>"
      ]
     },
     "metadata": {
      "needs_background": "light"
     },
     "output_type": "display_data"
    }
   ],
   "source": [
    "# Plot the cumulative returns for single leaf in train dataset\n",
    "data.strategy_returns_single_leaf[:train_length].cumsum().plot()\n",
    "\n",
    "# Plot the cumulative returns for full tree in train dataset\n",
    "data.strategy_returns_full_tree[:train_length].cumsum().plot()\n",
    "\n",
    "# Show the legend\n",
    "plt.legend()\n",
    "\n",
    "# Show the graph\n",
    "plt.show()"
   ]
  },
  {
   "cell_type": "markdown",
   "metadata": {},
   "source": [
    "Cumulative returns in the test dataset."
   ]
  },
  {
   "cell_type": "code",
   "execution_count": 96,
   "metadata": {},
   "outputs": [
    {
     "data": {
      "image/png": "[encoded data removed]",
      "text/plain": [
       "<Figure size 432x288 with 1 Axes>"
      ]
     },
     "metadata": {
      "needs_background": "light"
     },
     "output_type": "display_data"
    }
   ],
   "source": [
    "# Plot the cumulative returns for single leaf in train dataset\n",
    "data.strategy_returns_single_leaf[train_length:].cumsum().plot()\n",
    "\n",
    "# Plot the cumulative returns for full tree in train dataset\n",
    "data.strategy_returns_full_tree[train_length:].cumsum().plot()\n",
    "\n",
    "# Show the legend\n",
    "plt.legend()\n",
    "\n",
    "# Show the graph\n",
    "plt.show()"
   ]
  },
  {
   "cell_type": "code",
   "execution_count": 97,
   "metadata": {},
   "outputs": [
    {
     "name": "stdout",
     "output_type": "stream",
     "text": [
      "|              |   Train (Single Leaf) |   Train (Full Tree) |   Test (Single Leaf) |   Test (Full Tree) |\n",
      "|--------------+-----------------------+---------------------+----------------------+--------------------|\n",
      "| CAGR         |             12.0472   |            23.7475  |             12.2777  |           9.59977  |\n",
      "| Sharpe Ratio |              0.820545 |             1.58973 |              1.16452 |           0.251062 |\n"
     ]
    }
   ],
   "source": [
    "from tabulate import tabulate\n",
    "\n",
    "# Tabulate the performance in train and test dataset for single leaf and full tree\n",
    "print(tabulate(\n",
    "        [             \n",
    "            ['CAGR', ret_train_single_leaf, ret_train_full_tree, ret_test_single_leaf, ret_test_full_tree],\n",
    "            ['Sharpe Ratio', sharpe_train_single_leaf, sharpe_train_full_tree, sharpe_test_single_leaf, sharpe_test_full_tree],\n",
    "        ], \n",
    "        headers=['Train (Single Leaf)', 'Train (Full Tree)', 'Test (Single Leaf)',  'Test (Full Tree)'], \n",
    "    tablefmt='orgtbl'))"
   ]
  },
  {
   "cell_type": "markdown",
   "metadata": {},
   "source": [
    " In the next section, we will explore some ensemble techniques for reducing overfitting so that we can, in fact, use all leaves for prediction.\n",
    "<BR>"
   ]
  },
  {
   "cell_type": "code",
   "execution_count": null,
   "metadata": {},
   "outputs": [],
   "source": []
  },
  {
   "cell_type": "code",
   "execution_count": null,
   "metadata": {},
   "outputs": [],
   "source": []
  }
 ],
 "metadata": {
  "kernelspec": {
   "display_name": "Python 3",
   "language": "python",
   "name": "python3"
  },
  "language_info": {
   "codemirror_mode": {
    "name": "ipython",
    "version": 3
   },
   "file_extension": ".py",
   "mimetype": "text/x-python",
   "name": "python",
   "nbconvert_exporter": "python",
   "pygments_lexer": "ipython3",
   "version": "3.5.6"
  }
 },
 "nbformat": 4,
 "nbformat_minor": 1
}
