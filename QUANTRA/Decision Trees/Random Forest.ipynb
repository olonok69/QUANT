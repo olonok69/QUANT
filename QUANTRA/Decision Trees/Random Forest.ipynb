{
 "cells": [
  {
   "cell_type": "markdown",
   "metadata": {},
   "source": [
    "# Notebook Instructions\n",
    "<i>You can run the notebook document sequentially (one cell at a time) by pressing <b> shift + enter</b>. While a cell is running, a [*] will display on the left. When it has been run, a number will display indicating the order in which it was run in the notebook [8].</i>\n",
    "\n",
    "<i>Enter edit mode by pressing <b>`Enter`</b> or using the mouse to click on a cell's editor area. Edit mode is indicated by a green cell border and a prompt showing in the editor area.</i>"
   ]
  },
  {
   "cell_type": "markdown",
   "metadata": {},
   "source": [
    "# Random forest\n",
    "\n",
    "Random forest is a hybrid of bagging and random subspace. We start with a randomly selected (with replacement) subset of training data, and at each split of the node, choose the best predictor from a randomly selected (without replacement) subset of all the available predictors. Then, we average the predictions (or majority voting for classifier) of all these models."
   ]
  },
  {
   "cell_type": "markdown",
   "metadata": {},
   "source": [
    "## Create a random forest model\n",
    "\n",
    "We have used a RandomForestRegressor function from the sklearn.ensemble module to create a random forest model. It takes following as input parameter\n",
    "1. <b>n_estimators:</b> number of trees to create \n",
    "3. <b>bootstrap:</b> to randomly sample data with replacement\n",
    "4. <b>max_features:</b> size of features subset. 0.6 indicates 60% of the total features are used to create a random subset\n",
    "2. <b>min_samples_leaf: </b> number of samples required in the leaf node of the tree\n",
    "2. <b>random_state:</b> random seed\n",
    "\n",
    "You can use the help function to see the details of RandomForestRegressor."
   ]
  },
  {
   "cell_type": "code",
   "execution_count": 1,
   "metadata": {},
   "outputs": [
    {
     "data": {
      "text/plain": [
       "RandomForestRegressor(bootstrap=True, criterion='mse', max_depth=None,\n",
       "           max_features=0.6, max_leaf_nodes=None,\n",
       "           min_impurity_decrease=0.0, min_impurity_split=None,\n",
       "           min_samples_leaf=400, min_samples_split=2,\n",
       "           min_weight_fraction_leaf=0.0, n_estimators=20, n_jobs=1,\n",
       "           oob_score=False, random_state=42, verbose=0, warm_start=False)"
      ]
     },
     "execution_count": 1,
     "metadata": {},
     "output_type": "execute_result"
    }
   ],
   "source": [
    "# Import the random forest method\n",
    "from sklearn.ensemble import RandomForestRegressor\n",
    "\n",
    "# Define the random forest model\n",
    "random_forest = RandomForestRegressor(\n",
    "                        n_estimators = 20,\n",
    "                        bootstrap = True,\n",
    "                        max_features = 0.6,\n",
    "                        min_samples_leaf = 400,\n",
    "                        random_state = 42\n",
    "                  )\n",
    "random_forest"
   ]
  },
  {
   "cell_type": "code",
   "execution_count": 2,
   "metadata": {},
   "outputs": [],
   "source": [
    "# Uncomment below line to see details of RandomForestRegressor\n",
    "# help(RandomForestRegressor)"
   ]
  },
  {
   "cell_type": "markdown",
   "metadata": {},
   "source": [
    "The key parameters to adjust when using the random forest method is n_estimators and max_features. The larger value of n_estimators, the better it is but it will take longer to compute and the results will stop getting significantly better beyond a critical number of trees. The max_features control the size of the features. Smaller size helps to achieve a greater reduction in variance (overfit) but also greater increase in bias (underfit). In the last section, we will learn on to find the best values of these parameters. <BR>"
   ]
  }
 ],
 "metadata": {
  "kernelspec": {
   "display_name": "Python 3",
   "language": "python",
   "name": "python3"
  },
  "language_info": {
   "codemirror_mode": {
    "name": "ipython",
    "version": 3
   },
   "file_extension": ".py",
   "mimetype": "text/x-python",
   "name": "python",
   "nbconvert_exporter": "python",
   "pygments_lexer": "ipython3",
   "version": "3.5.6"
  }
 },
 "nbformat": 4,
 "nbformat_minor": 1
}
