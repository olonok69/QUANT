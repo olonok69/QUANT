{
 "cells": [
  {
   "cell_type": "markdown",
   "metadata": {
    "collapsed": false
   },
   "source": [
    "# Notebook Instructions\n",
    "<i>You can run the notebook document sequentially (one cell a time) by pressing <b> shift + enter</b>. While a cell is running, a [*] will display on the left. When it has been run, a number will display indicating the order in which it was run in the notebook [8].</i>\n",
    "\n",
    "<i>Enter edit mode by pressing <b>`Enter`</b> or using the mouse to click on a cell's editor area. Edit mode is indicated by a green cell border and a prompt showing in the editor area.</i>"
   ]
  },
  {
   "cell_type": "markdown",
   "metadata": {
    "collapsed": false
   },
   "source": [
    "# AdaBoosting\n",
    "\n",
    "AdaBoosting stands for Adaptive Boosting and was proposed by Freund and Schapire in 1996. It creates a sequence of models that attempt to correct the mistakes of the models before them in the sequence. The first model is built on training data, the second model improves the first model, the third model improves the second, and so on. Models are added until all the items in the training dataset is predicted correctly or a maximum number of models are added."
   ]
  },
  {
   "cell_type": "markdown",
   "metadata": {
    "collapsed": false
   },
   "source": [
    "## Create an AdaBoost model\n",
    "\n",
    "We have used a AdaBoostRegressor function from the sklearn.ensemble module to create a ada boosting model. The AdaBoostRegressor takes following as input parameter\n",
    "1. <b>base_estimator:</b> estimator model (regression tree)\n",
    "2. <b>n_estimators:</b> number of trees to create \n",
    "3. <b>random_state:</b> random seed\n",
    "\n",
    "You can use the help function to see the details of AdaBoostRegressor."
   ]
  },
  {
   "cell_type": "code",
   "execution_count": 1,
   "metadata": {
    "collapsed": false
   },
   "outputs": [
    {
     "data": {
      "text/plain": [
       "AdaBoostRegressor(base_estimator=DecisionTreeRegressor(criterion='mse', max_depth=None, max_features=None,\n",
       "           max_leaf_nodes=None, min_impurity_decrease=0.0,\n",
       "           min_impurity_split=None, min_samples_leaf=400,\n",
       "           min_samples_split=2, min_weight_fraction_leaf=0.0,\n",
       "           presort=False, random_state=None, splitter='best'),\n",
       "         learning_rate=1.0, loss='linear', n_estimators=4, random_state=42)"
      ]
     },
     "execution_count": 1,
     "metadata": {
     },
     "output_type": "execute_result"
    }
   ],
   "source": [
    "# Base estimator\n",
    "from sklearn.tree import DecisionTreeRegressor\n",
    "\n",
    "# Import the AdaBoost method\n",
    "from sklearn.ensemble import AdaBoostRegressor\n",
    "\n",
    "# Define the AdaBoost model\n",
    "ada_boost = AdaBoostRegressor(\n",
    "                base_estimator = DecisionTreeRegressor(min_samples_leaf = 400),\n",
    "                n_estimators = 4,\n",
    "                random_state = 42\n",
    "            )\n",
    "\n",
    "ada_boost"
   ]
  },
  {
   "cell_type": "code",
   "execution_count": 2,
   "metadata": {
    "collapsed": false
   },
   "outputs": [
   ],
   "source": [
    "# Uncomment below line to see details of AdaBoostRegressor\n",
    "# help(AdaBoostRegressor)"
   ]
  },
  {
   "cell_type": "markdown",
   "metadata": {
    "collapsed": false
   },
   "source": [
    "To practice, you can import the data and define predictors and target variable, split the data in train and test and compute the strategy returns on the dataset using ada_boost model and compare it with performance of all the other models.\n",
    "<BR>"
   ]
  }
 ],
 "metadata": {
  "kernelspec": {
   "display_name": "Python 2 (SageMath)",
   "language": "python",
   "name": "python2"
  },
  "language_info": {
   "codemirror_mode": {
    "name": "ipython",
    "version": 2
   },
   "file_extension": ".py",
   "mimetype": "text/x-python",
   "name": "python",
   "nbconvert_exporter": "python",
   "pygments_lexer": "ipython2",
   "version": "2.7.14"
  }
 },
 "nbformat": 4,
 "nbformat_minor": 0
}