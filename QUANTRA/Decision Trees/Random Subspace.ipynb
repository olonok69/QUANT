{
 "cells": [
  {
   "cell_type": "markdown",
   "metadata": {},
   "source": [
    "# Notebook Instructions\n",
    "<i>You can run the notebook document sequentially (one cell at a time) by pressing <b> shift + enter</b>. While a cell is running, a [*] will display on the left. When it has been run, a number will display indicating the order in which it was run in the notebook [8].</i>\n",
    "\n",
    "<i>Enter edit mode by pressing <b>`Enter`</b> or using the mouse to click on a cell's editor area. Edit mode is indicated by a green cell border and a prompt showing in the editor area.</i>"
   ]
  },
  {
   "cell_type": "markdown",
   "metadata": {},
   "source": [
    "# Random subspace\n",
    "\n",
    "In random subspace, we randomly sample the predictors with replacement to train multiple models. Then, we average the predictions of all these models so that the ensemble prediction is stronger. It is also known as attribute bagging or feature bagging."
   ]
  },
  {
   "cell_type": "markdown",
   "metadata": {},
   "source": [
    "## Create a random subspace model\n",
    "\n",
    "We have used a BaggingRegressor function from the sklearn.ensemble module to create a random subspace model. The BaggingRegressor takes following as input parameter\n",
    "1. <b>base_estimator:</b> estimator model (regression tree)\n",
    "2. <b>n_estimators:</b> number of trees to create \n",
    "3. <b>random_state:</b> random seed\n",
    "<BR><BR><B>Bagging: Set to False</B>\n",
    "4. <b>bootstrap:</b> to randomly sample data with replacement (set to False)\n",
    "<BR><BR><B>Random subspace</B>\n",
    "5. <b>bootstrap_features:</b> to randomly sample features/predictors with replacement\n",
    "5. <b>max_features:</b> size of features subset. 0.7 indicates 70% of the total features are used to create a random subset\n",
    "\n",
    "You can use the help function to see the details of BaggingRegressor."
   ]
  },
  {
   "cell_type": "code",
   "execution_count": 1,
   "metadata": {},
   "outputs": [
    {
     "data": {
      "text/plain": [
       "BaggingRegressor(base_estimator=DecisionTreeRegressor(criterion='mse', max_depth=None, max_features=None,\n",
       "           max_leaf_nodes=None, min_impurity_decrease=0.0,\n",
       "           min_impurity_split=None, min_samples_leaf=400,\n",
       "           min_samples_split=2, min_weight_fraction_leaf=0.0,\n",
       "           presort=False, random_state=None, splitter='best'),\n",
       "         bootstrap=False, bootstrap_features=True, max_features=0.7,\n",
       "         max_samples=1.0, n_estimators=10, n_jobs=1, oob_score=False,\n",
       "         random_state=42, verbose=0, warm_start=False)"
      ]
     },
     "execution_count": 1,
     "metadata": {},
     "output_type": "execute_result"
    }
   ],
   "source": [
    "# Base estimator\n",
    "from sklearn.tree import DecisionTreeRegressor\n",
    "\n",
    "# Bagging Regressor\n",
    "from sklearn.ensemble import BaggingRegressor\n",
    "\n",
    "# Define the random subspace model\n",
    "random_subspace = BaggingRegressor(\n",
    "        base_estimator = DecisionTreeRegressor(min_samples_leaf = 400),\n",
    "        n_estimators = 10,\n",
    "        random_state = 42,\n",
    "        bootstrap = False,\n",
    "        bootstrap_features = True,\n",
    "        max_features = 0.7\n",
    "    )\n",
    "random_subspace"
   ]
  },
  {
   "cell_type": "code",
   "execution_count": 2,
   "metadata": {},
   "outputs": [],
   "source": [
    "# Uncomment below line to see details of BaggingRegressor\n",
    "# help(BaggingRegressor)"
   ]
  },
  {
   "cell_type": "markdown",
   "metadata": {},
   "source": [
    "To practice, you can train the random_sbspace model and validate its performance on test dataset. <BR>"
   ]
  }
 ],
 "metadata": {
  "kernelspec": {
   "display_name": "Python 2",
   "language": "python",
   "name": "python2"
  },
  "language_info": {
   "codemirror_mode": {
    "name": "ipython",
    "version": 2
   },
   "file_extension": ".py",
   "mimetype": "text/x-python",
   "name": "python",
   "nbconvert_exporter": "python",
   "pygments_lexer": "ipython2",
   "version": "2.7.13"
  }
 },
 "nbformat": 4,
 "nbformat_minor": 1
}
