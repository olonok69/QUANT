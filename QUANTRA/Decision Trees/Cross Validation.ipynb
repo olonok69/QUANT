{
 "cells": [
  {
   "cell_type": "markdown",
   "metadata": {},
   "source": [
    "# Notebook Instructions\n",
    "<i>You can run the notebook document sequentially (one cell a time) by pressing <b> shift + enter</b>. While a cell is running, a [*] will display on the left. When it has been run, a number will display indicating the order in which it was run in the notebook [8].</i>\n",
    "\n",
    "<i>Enter edit mode by pressing <b>`Enter`</b> or using the mouse to click on a cell's editor area. Edit mode is indicated by a green cell border and a prompt showing in the editor area.</i>"
   ]
  },
  {
   "cell_type": "markdown",
   "metadata": {},
   "source": [
    "# Cross validation\n",
    "\n",
    "Cross validation technique is used to estimate the performance of the model on a multiple train-validation set split. In this notebook, we implement a k-fold cross-validation method to evaluate the random forest model."
   ]
  },
  {
   "cell_type": "markdown",
   "metadata": {},
   "source": [
    "## Create a random forest model - you already know this!"
   ]
  },
  {
   "cell_type": "code",
   "execution_count": 1,
   "metadata": {},
   "outputs": [],
   "source": [
    "import pandas as pd\n",
    "data = pd.read_csv('AAPL.csv')\n",
    "\n",
    "import numpy as np\n",
    "# Returns\n",
    "data['ret1'] = data.Adj_Close.pct_change()\n",
    "data['ret5'] = pd.rolling_sum(data.ret1, 5)\n",
    "data['ret10'] = pd.rolling_sum(data.ret1, 10)\n",
    "data['ret20'] = pd.rolling_sum(data.ret1, 20)\n",
    "data['ret40'] = pd.rolling_sum(data.ret1, 40)\n",
    "\n",
    "# Standard Deviation\n",
    "data['std5'] = pd.rolling_std(data.ret1, 5)\n",
    "data['std10'] = pd.rolling_std(data.ret1, 10)\n",
    "data['std20'] = pd.rolling_std(data.ret1, 20)\n",
    "data['std40'] = pd.rolling_std(data.ret1, 40)\n",
    "\n",
    "# Future returns\n",
    "data['retFut1'] = data.ret1.shift(-1)\n",
    "\n",
    "# Define predictor variables (X) and a target variable (y)\n",
    "data = data.dropna()\n",
    "predictor_list = ['ret1','ret5', 'ret10', 'ret20', 'ret40', 'std5', 'std10', 'std20', 'std40']\n",
    "X = data[predictor_list]\n",
    "y = np.where(data.retFut1>0,1,-1)\n",
    "\n",
    "from sklearn.ensemble import RandomForestClassifier\n",
    "seed = 42\n",
    "random_forest = RandomForestClassifier(        \n",
    "        n_estimators=20, \n",
    "        max_features = 0.6,\n",
    "        min_samples_leaf = 400,\n",
    "        random_state = seed,\n",
    "        bootstrap = True\n",
    "    )"
   ]
  },
  {
   "cell_type": "markdown",
   "metadata": {},
   "source": [
    "## K-fold cross-validation\n",
    "\n",
    "We have used a cross_val_score function from the model selection module to do cross-validation. The function cross_val_score takes as input\n",
    "1. estimator model\n",
    "2. predictor variables\n",
    "3. target variable\n",
    "4. number of folds (cv). \n",
    "\n",
    "The function returns an array of scores of the estimator for each run of the cross-validation. You can use the help function to see the details of cross_val_score method."
   ]
  },
  {
   "cell_type": "code",
   "execution_count": 3,
   "metadata": {},
   "outputs": [],
   "source": [
    "from sklearn.model_selection import cross_val_score\n",
    "# help(cross_val_score)"
   ]
  },
  {
   "cell_type": "code",
   "execution_count": 6,
   "metadata": {},
   "outputs": [
    {
     "data": {
      "text/plain": [
       "array([53.22896282, 54.11764706, 55.40275049, 52.06286837, 52.65225933])"
      ]
     },
     "execution_count": 6,
     "metadata": {},
     "output_type": "execute_result"
    }
   ],
   "source": [
    "scores = cross_val_score(random_forest, X, y, cv=5)\n",
    "scores*100.0"
   ]
  },
  {
   "cell_type": "markdown",
   "metadata": {},
   "source": [
    "After running cross validation we end up with 5 (number of folds) performance scores that is summarized using a mean and a standard deviation below."
   ]
  },
  {
   "cell_type": "code",
   "execution_count": 5,
   "metadata": {},
   "outputs": [
    {
     "data": {
      "text/plain": [
       "'Accuracy: 53.493% (1.171%)'"
      ]
     },
     "execution_count": 5,
     "metadata": {},
     "output_type": "execute_result"
    }
   ],
   "source": [
    "\"Accuracy: %.3f%% (%.3f%%)\" % (scores.mean()*100.0, scores.std()*100.0)"
   ]
  },
  {
   "cell_type": "markdown",
   "metadata": {},
   "source": [
    "The above cross-validation accuracy scores and standard deviation provides a more reliable measure to evaluate the performance of the model because the model is trained and evaluated on different data. Here, we have used the k-fold method to evaluate the random forest classifier model.\n",
    "<BR>"
   ]
  }
 ],
 "metadata": {
  "kernelspec": {
   "display_name": "Python 2",
   "language": "python",
   "name": "python2"
  },
  "language_info": {
   "codemirror_mode": {
    "name": "ipython",
    "version": 2
   },
   "file_extension": ".py",
   "mimetype": "text/x-python",
   "name": "python",
   "nbconvert_exporter": "python",
   "pygments_lexer": "ipython2",
   "version": "2.7.13"
  }
 },
 "nbformat": 4,
 "nbformat_minor": 1
}
