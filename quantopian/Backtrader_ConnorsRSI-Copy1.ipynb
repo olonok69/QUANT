{
 "cells": [
  {
   "cell_type": "code",
   "execution_count": 5,
   "metadata": {},
   "outputs": [],
   "source": [
    "import os, sys\n",
    "import pandas as pd\n",
    "import numpy as np\n",
    "import backtrader as bt\n",
    "# import setup_psql_environment\n",
    "# from models import Security, SecurityPrice\n",
    "from scipy.stats import linregress\n",
    "from collections import defaultdict\n",
    "from tabulate import tabulate\n",
    "import PyQt5\n",
    "import matplotlib\n",
    "import datetime\n",
    "matplotlib.use('Qt5Agg')\n",
    "import matplotlib.pyplot as plt\n",
    "import backtrader.plot\n",
    "from matplotlib.pyplot import figure\n",
    "\n",
    "etf_tickers = ['XLB', 'XLE', 'XLF', 'XLI', 'XLK', 'XLP', 'XLU', 'XLV', 'XLY']"
   ]
  },
  {
   "cell_type": "code",
   "execution_count": 6,
   "metadata": {},
   "outputs": [],
   "source": [
    "def momentum_func(self, price_array):\n",
    "    r = np.log(price_array)\n",
    "    slope, _, rvalue, _, _ = linregress(np.arange(len(r)), r)\n",
    "    annualized = (1 + slope) ** 252\n",
    "    return (annualized * (rvalue ** 2))\n",
    "\n",
    "\n",
    "class Momentum(bt.ind.OperationN):\n",
    "    lines = ('trend',)\n",
    "    params = dict(period=90)\n",
    "    func = momentum_func"
   ]
  },
  {
   "cell_type": "code",
   "execution_count": 7,
   "metadata": {},
   "outputs": [],
   "source": [
    "data = bt.feeds.YahooFinanceData(dataname='SPY',\n",
    "                                  fromdate=datetime.datetime(2017, 1, 1),\n",
    "                                  todate=datetime.datetime(2017, 12, 31))"
   ]
  },
  {
   "cell_type": "code",
   "execution_count": 11,
   "metadata": {},
   "outputs": [],
   "source": [
    "class Strategy(bt.Strategy):\n",
    "    params = dict(\n",
    "        momentum=Momentum,\n",
    "        momentum_period=180,\n",
    "        num_positions=2,\n",
    "        when=bt.timer.SESSION_START,\n",
    "        timer=True,\n",
    "        monthdays=[1],\n",
    "        monthcarry=True,\n",
    "        printlog=True\n",
    "    )\n",
    "\n",
    "    def log(self, txt, dt=None, doprint=False):\n",
    "        ''' Logging function fot this strategy'''\n",
    "        if self.params.printlog or doprint:\n",
    "            dt = dt or self.datas[0].datetime.date(0)\n",
    "            print('%s, %s' % (dt.isoformat(), txt))\n",
    "\n",
    "    def __init__(self):\n",
    "        self.i = 0\n",
    "        self.securities = self.datas[1:]\n",
    "        self.inds = {}\n",
    "\n",
    "        self.add_timer(\n",
    "            when=self.p.when,\n",
    "            monthdays=self.p.monthdays,\n",
    "            monthcarry=self.p.monthcarry\n",
    "        )\n",
    "\n",
    "        for security in self.securities:\n",
    "            self.inds[security] = self.p.momentum(security,\n",
    "                                                  period=self.p.momentum_period)\n",
    "\n",
    "    def notify_timer(self, timer, when, *args, **kwargs):\n",
    "        if self._getminperstatus() < 0:\n",
    "            self.rebalance()\n",
    "\n",
    "    def rebalance(self):\n",
    "        rankings = list(self.securities)\n",
    "        rankings.sort(key=lambda s: self.inds[s][0], reverse=True)\n",
    "        pos_size = 1 / self.p.num_positions\n",
    "\n",
    "        # Sell stocks no longer meeting ranking filter.\n",
    "        for i, d in enumerate(rankings):\n",
    "            if self.getposition(d).size:\n",
    "                if i > self.p.num_positions:\n",
    "                    self.close(d)\n",
    "\n",
    "        # Buy and rebalance stocks with remaining cash\n",
    "        for i, d in enumerate(rankings[:self.p.num_positions]):\n",
    "            self.order_target_percent(d, target=pos_size)\n",
    "\n",
    "    def next(self):\n",
    "        self.notify_timer(self, self.p.timer, self.p.when)\n",
    "\n",
    "    def stop(self):\n",
    "        self.log('| %2d | %2d |  %.2f |' %\n",
    "                 (self.p.momentum_period,\n",
    "                  self.p.num_positions,\n",
    "                  self.broker.getvalue()),\n",
    "                 doprint=True)"
   ]
  },
  {
   "cell_type": "code",
   "execution_count": 12,
   "metadata": {},
   "outputs": [],
   "source": [
    "cerebro = bt.Cerebro()\n",
    "cerebro.addstrategy(Strategy)\n",
    "cerebro.broker.setcash(1337.0)\n",
    "cerebro.broker.setcommission(commission=0.001)"
   ]
  },
  {
   "cell_type": "code",
   "execution_count": 13,
   "metadata": {},
   "outputs": [
    {
     "data": {
      "text/plain": [
       "<backtrader.feeds.yahoo.YahooFinanceData at 0x227a5535f28>"
      ]
     },
     "execution_count": 13,
     "metadata": {},
     "output_type": "execute_result"
    }
   ],
   "source": [
    "cerebro.adddata(data)"
   ]
  },
  {
   "cell_type": "code",
   "execution_count": 14,
   "metadata": {},
   "outputs": [
    {
     "name": "stdout",
     "output_type": "stream",
     "text": [
      "Starting Portfolio Value: 1337.00\n"
     ]
    }
   ],
   "source": [
    "print('Starting Portfolio Value: %.2f' % cerebro.broker.getvalue())"
   ]
  },
  {
   "cell_type": "code",
   "execution_count": 15,
   "metadata": {},
   "outputs": [
    {
     "name": "stdout",
     "output_type": "stream",
     "text": [
      "2017-12-29, | 180 |  2 |  1337.00 |\n"
     ]
    },
    {
     "data": {
      "text/plain": [
       "[<__main__.Strategy at 0x227a092d358>]"
      ]
     },
     "execution_count": 15,
     "metadata": {},
     "output_type": "execute_result"
    }
   ],
   "source": [
    "cerebro.run()"
   ]
  },
  {
   "cell_type": "code",
   "execution_count": 16,
   "metadata": {},
   "outputs": [
    {
     "name": "stdout",
     "output_type": "stream",
     "text": [
      "Ending Portfolio Value: 1337.00\n"
     ]
    }
   ],
   "source": [
    "print('Ending Portfolio Value: %.2f' % cerebro.broker.getvalue())"
   ]
  },
  {
   "cell_type": "code",
   "execution_count": 17,
   "metadata": {},
   "outputs": [
    {
     "name": "stderr",
     "output_type": "stream",
     "text": [
      "C:\\anaconda\\envs\\quantum\\lib\\site-packages\\backtrader\\plot\\plot.py:127: UserWarning: matplotlib.pyplot as already been imported, this call will have no effect.\n",
      "  matplotlib.use('nbagg')\n"
     ]
    },
    {
     "data": {
      "text/plain": [
       "[[<Figure size 640x480 with 4 Axes>]]"
      ]
     },
     "execution_count": 17,
     "metadata": {},
     "output_type": "execute_result"
    }
   ],
   "source": [
    "cerebro.plot(width=22,height=12)"
   ]
  },
  {
   "cell_type": "code",
   "execution_count": null,
   "metadata": {},
   "outputs": [],
   "source": []
  }
 ],
 "metadata": {
  "kernelspec": {
   "display_name": "Python 3",
   "language": "python",
   "name": "python3"
  },
  "language_info": {
   "codemirror_mode": {
    "name": "ipython",
    "version": 3
   },
   "file_extension": ".py",
   "mimetype": "text/x-python",
   "name": "python",
   "nbconvert_exporter": "python",
   "pygments_lexer": "ipython3",
   "version": "3.5.6"
  }
 },
 "nbformat": 4,
 "nbformat_minor": 4
}
