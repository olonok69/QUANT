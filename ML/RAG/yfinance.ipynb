{
 "cells": [
  {
   "cell_type": "markdown",
   "id": "2c9454d7-21b9-4580-b41b-65d86473664b",
   "metadata": {},
   "source": [
    "# Rag Simple Financial Analisys (fundamental Analysis)\n",
    "\n",
    "### Fundamental vs. Technical Analysis: An Overview\n",
    "There are two main schools of thought when evaluating investments and making trading decisions: fundamental analysis and technical analysis. While both aim to predict future price movements and identify profitable opportunities, they take very different approaches. Fundamental analysis examines an asset's intrinsic value by examining economic and financial factors, while technical analysis focuses solely on price action and chart patterns. \n",
    "\n",
    "\n",
    "### Company's balance sheet\n",
    "A company's balance sheet, also known as a \"statement of financial position,\" reveals the firm's assets, liabilities, and owners' equity (net worth) at a specific point in time. The balance sheet, together with the income statement and cash flow statement, make up the cornerstone of any company's financial statements.\n",
    "\n",
    "### What Is an Income Statement?\n",
    "An income statement is a financial report used by a business. It tracks the company's revenue, expenses, gains, and losses during a set period. Also known as the profit and loss (P&L) statement or the statement of revenue and expense, it provides valuable insights into a company’s operations, the efficiency of its management, underperforming sectors, and its performance relative to industry peers.\n",
    "### Cash Flow Statement\n",
    "\n",
    "A cash flow statement is a financial statement that provides aggregate data regarding all cash inflows that a company receives from its ongoing operations and external investment sources. It also includes all cash outflows that pay for business activities and investments during a given period. \n",
    "\n",
    "\n",
    "#### LINKS\n",
    "- https://www.investopedia.com/ask/answers/difference-between-fundamental-and-technical-analysis/\n",
    "- https://uk.finance.yahoo.com/\n",
    "- https://ranaroussi.github.io/yfinance/reference/index.html\n",
    "- https://site.financialmodelingprep.com/\n",
    "- https://pypi.org/project/fmpsdk/\n",
    "- https://www.morningstar.com/business/brands/data-analytics/products/direct/features/python-package\n",
    "- https://www.quantconnect.com/docs/v2/cloud-platform/api-reference\n"
   ]
  },
  {
   "cell_type": "code",
   "execution_count": 1,
   "id": "5051499e-7e8d-4868-babd-1d7f6fb76d49",
   "metadata": {},
   "outputs": [],
   "source": [
    "\n",
    "import time\n",
    "import pandas as pd\n",
    "\n",
    "import matplotlib.pyplot as plt\n",
    "import numpy as np\n",
    "import matplotlib.ticker as ticker\n",
    "\n",
    "#streamlit\n",
    "import streamlit as st\n",
    "\n",
    "#rag library\n",
    "from langchain.chains import RetrievalQA\n",
    "from langchain.docstore.document import Document\n",
    "\n",
    "from langchain_core.prompts import ChatPromptTemplate\n",
    "from langchain_google_genai import GoogleGenerativeAIEmbeddings\n",
    "from langchain_google_genai import ChatGoogleGenerativeAI\n",
    "from langchain.storage import InMemoryStore\n",
    "\n",
    "import pandas as pd\n",
    "import json\n",
    "\n",
    "from langchain_qdrant import QdrantVectorStore\n",
    "from qdrant_client import QdrantClient\n",
    "from qdrant_client.http.models import Distance, VectorParams"
   ]
  },
  {
   "cell_type": "code",
   "execution_count": 2,
   "id": "789845ed-7d53-4b05-8deb-66d9bcda6977",
   "metadata": {},
   "outputs": [
    {
     "data": {
      "text/plain": [
       "True"
      ]
     },
     "execution_count": 2,
     "metadata": {},
     "output_type": "execute_result"
    }
   ],
   "source": [
    "from dotenv import load_dotenv, dotenv_values\n",
    "import os\n",
    "import pandas as pd\n",
    "\n",
    "env_path = os.path.join( \".env\")\n",
    "load_dotenv(env_path)"
   ]
  },
  {
   "cell_type": "code",
   "execution_count": 3,
   "id": "c8b8b168-55f4-4c25-b814-91886ced9acc",
   "metadata": {},
   "outputs": [],
   "source": [
    "ROOT_DIR = os.getcwd()\n",
    "\n",
    "with open(os.path.join(ROOT_DIR, \"complete-tube-421007-208a4862c992.json\",)) as source:\n",
    "    info = json.load(source)"
   ]
  },
  {
   "cell_type": "code",
   "execution_count": 4,
   "id": "fc0a80da-c3e6-4229-807a-a2882e1530b5",
   "metadata": {},
   "outputs": [],
   "source": [
    "from google.oauth2 import service_account\n",
    "import vertexai"
   ]
  },
  {
   "cell_type": "code",
   "execution_count": 5,
   "id": "44b829c5-40aa-455a-af66-b6716d174d2c",
   "metadata": {},
   "outputs": [],
   "source": [
    "GEMINI_API_KEY = os.getenv(\"GEMINI-API-KEY\")\n",
    "vertex_credentials = service_account.Credentials.from_service_account_info(\n",
    "                info\n",
    "            )"
   ]
  },
  {
   "cell_type": "code",
   "execution_count": 6,
   "id": "d508f4b1-2d01-4474-8928-9adae102b1c3",
   "metadata": {},
   "outputs": [],
   "source": [
    "key = os.getenv(\"GEMINI_API_KEY\") #API KEY\n",
    "embeddings = GoogleGenerativeAIEmbeddings(google_api_key=key, model=\"models/embedding-001\",credentials=vertex_credentials)\n",
    "#define LLM\n",
    "llm = ChatGoogleGenerativeAI(google_api_key=key, temperature=0.01, model=\"gemini-1.5-pro\",credentials=vertex_credentials)"
   ]
  },
  {
   "cell_type": "code",
   "execution_count": 7,
   "id": "3df291ac-7db0-4ee2-a96c-cdbc08f72a48",
   "metadata": {},
   "outputs": [],
   "source": [
    "def table_transform(df):\n",
    "  table = df\n",
    "  table = table.transpose()\n",
    "  col = table.iloc[0].str.strip()\n",
    "  table = table[1:]\n",
    "  table.columns = col\n",
    "  table.replace('-- ', 0, inplace=True)\n",
    "  table = table.replace(',', '', regex=True).astype(float)\n",
    "  table = table.iloc[::-1]\n",
    "\n",
    "  return table\n",
    "\n",
    "def format_numbers(x, pos):\n",
    "    sign = '-' if x < 0 else ''\n",
    "    x = abs(x)\n",
    "\n",
    "    if x >= 1e12:\n",
    "        return f'{sign}{x*1e-12:.1f}T'\n",
    "    elif x >= 1e9:\n",
    "        return f'{sign}{x*1e-9:.1f}B'\n",
    "    elif x >= 1e6:\n",
    "        return f'{sign}{x*1e-6:.1f}M'\n",
    "    else:\n",
    "        return f'{sign}{x:.0f}'"
   ]
  },
  {
   "cell_type": "code",
   "execution_count": 8,
   "id": "49174312-89b4-48ea-845b-3e3c203a1669",
   "metadata": {},
   "outputs": [],
   "source": [
    "import yfinance as yf\n",
    "dat = yf.Ticker(\"MSFT\")"
   ]
  },
  {
   "cell_type": "code",
   "execution_count": 9,
   "id": "8f5b7eb7-251f-4bae-b55d-f93ef849520f",
   "metadata": {},
   "outputs": [],
   "source": [
    "description = dat.info.get('longBusinessSummary')"
   ]
  },
  {
   "cell_type": "code",
   "execution_count": 18,
   "id": "6f878c4d-6edf-4c21-853e-bd8c50fcb107",
   "metadata": {},
   "outputs": [
    {
     "data": {
      "text/plain": [
       "Index(['OrdinarySharesNumber', 'ShareIssued', 'NetDebt', 'TotalDebt',\n",
       "       'TangibleBookValue', 'InvestedCapital', 'WorkingCapital',\n",
       "       'NetTangibleAssets', 'CapitalLeaseObligations', 'CommonStockEquity',\n",
       "       'TotalCapitalization', 'TotalEquityGrossMinorityInterest',\n",
       "       'StockholdersEquity', 'GainsLossesNotAffectingRetainedEarnings',\n",
       "       'OtherEquityAdjustments', 'RetainedEarnings', 'CapitalStock',\n",
       "       'CommonStock', 'TotalLiabilitiesNetMinorityInterest',\n",
       "       'TotalNonCurrentLiabilitiesNetMinorityInterest',\n",
       "       'OtherNonCurrentLiabilities', 'TradeandOtherPayablesNonCurrent',\n",
       "       'NonCurrentDeferredLiabilities', 'NonCurrentDeferredRevenue',\n",
       "       'NonCurrentDeferredTaxesLiabilities',\n",
       "       'LongTermDebtAndCapitalLeaseObligation',\n",
       "       'LongTermCapitalLeaseObligation', 'LongTermDebt', 'CurrentLiabilities',\n",
       "       'OtherCurrentLiabilities', 'CurrentDeferredLiabilities',\n",
       "       'CurrentDeferredRevenue', 'CurrentDebtAndCapitalLeaseObligation',\n",
       "       'CurrentDebt', 'OtherCurrentBorrowings', 'CommercialPaper',\n",
       "       'PensionandOtherPostRetirementBenefitPlansCurrent',\n",
       "       'PayablesAndAccruedExpenses', 'Payables', 'TotalTaxPayable',\n",
       "       'IncomeTaxPayable', 'AccountsPayable', 'TotalAssets',\n",
       "       'TotalNonCurrentAssets', 'OtherNonCurrentAssets', 'FinancialAssets',\n",
       "       'InvestmentsAndAdvances', 'InvestmentinFinancialAssets',\n",
       "       'AvailableForSaleSecurities', 'LongTermEquityInvestment',\n",
       "       'GoodwillAndOtherIntangibleAssets', 'OtherIntangibleAssets', 'Goodwill',\n",
       "       'NetPPE', 'AccumulatedDepreciation', 'GrossPPE', 'Leases',\n",
       "       'OtherProperties', 'MachineryFurnitureEquipment',\n",
       "       'BuildingsAndImprovements', 'LandAndImprovements', 'Properties',\n",
       "       'CurrentAssets', 'OtherCurrentAssets', 'HedgingAssetsCurrent',\n",
       "       'Inventory', 'FinishedGoods', 'WorkInProcess', 'RawMaterials',\n",
       "       'Receivables', 'AccountsReceivable',\n",
       "       'AllowanceForDoubtfulAccountsReceivable', 'GrossAccountsReceivable',\n",
       "       'CashCashEquivalentsAndShortTermInvestments',\n",
       "       'OtherShortTermInvestments', 'CashAndCashEquivalents',\n",
       "       'CashEquivalents', 'CashFinancial'],\n",
       "      dtype='object')"
      ]
     },
     "execution_count": 18,
     "metadata": {},
     "output_type": "execute_result"
    }
   ],
   "source": [
    "dat.get_balance_sheet().index"
   ]
  },
  {
   "cell_type": "code",
   "execution_count": 19,
   "id": "9099734e-6ced-49b2-8ac1-94896d67236a",
   "metadata": {},
   "outputs": [],
   "source": [
    "#dat.get_info()"
   ]
  },
  {
   "cell_type": "code",
   "execution_count": 10,
   "id": "57050a73-29f1-474d-888e-03310080f79f",
   "metadata": {},
   "outputs": [
    {
     "data": {
      "text/plain": [
       "'Microsoft Corporation develops and supports software, services, devices and solutions worldwide. The Productivity and Business Processes segment offers office, exchange, SharePoint, Microsoft Teams, office 365 Security and Compliance, Microsoft viva, and Microsoft 365 copilot; and office consumer services, such as Microsoft 365 consumer subscriptions, Office licensed on-premises, and other office services. This segment also provides LinkedIn; and dynamics business solutions, including Dynamics 365, a set of intelligent, cloud-based applications across ERP, CRM, power apps, and power automate; and on-premises ERP and CRM applications. The Intelligent Cloud segment offers server products and cloud services, such as azure and other cloud services; SQL and windows server, visual studio, system center, and related client access licenses, as well as nuance and GitHub; and enterprise services including enterprise support services, industry solutions, and nuance professional services. The More Personal Computing segment offers Windows, including windows OEM licensing and other non-volume licensing of the Windows operating system; Windows commercial comprising volume licensing of the Windows operating system, windows cloud services, and other Windows commercial offerings; patent licensing; and windows Internet of Things; and devices, such as surface, HoloLens, and PC accessories. Additionally, this segment provides gaming, which includes Xbox hardware and content, and first- and third-party content; Xbox game pass and other subscriptions, cloud gaming, advertising, third-party disc royalties, and other cloud services; and search and news advertising, which includes Bing, Microsoft News and Edge, and third-party affiliates. The company sells its products through OEMs, distributors, and resellers; and directly through digital marketplaces, online, and retail stores. The company was founded in 1975 and is headquartered in Redmond, Washington.'"
      ]
     },
     "execution_count": 10,
     "metadata": {},
     "output_type": "execute_result"
    }
   ],
   "source": [
    "description"
   ]
  },
  {
   "cell_type": "code",
   "execution_count": 21,
   "id": "97b58709-cea5-4322-a780-25197ae7ec81",
   "metadata": {},
   "outputs": [
    {
     "name": "stdout",
     "output_type": "stream",
     "text": [
      "Company Profile: [{'symbol': 'MSFT', 'price': 410.54, 'beta': 0.904, 'volAvg': 21902640, 'mktCap': 3051946149200, 'lastDiv': 3.08, 'range': '385.58-468.35', 'changes': 1.5, 'companyName': 'Microsoft Corporation', 'currency': 'USD', 'cik': '0000789019', 'isin': 'US5949181045', 'cusip': '594918104', 'exchange': 'NASDAQ Global Select', 'exchangeShortName': 'NASDAQ', 'industry': 'Software - Infrastructure', 'website': 'https://www.microsoft.com', 'description': 'Microsoft Corporation develops, licenses, and supports software, services, devices, and solutions worldwide. The company operates in three segments: Productivity and Business Processes, Intelligent Cloud, and More Personal Computing. The Productivity and Business Processes segment offers Office, Exchange, SharePoint, Microsoft Teams, Office 365 Security and Compliance, Microsoft Viva, and Skype for Business; Skype, Outlook.com, OneDrive, and LinkedIn; and Dynamics 365, a set of cloud-based and on-premises business solutions for organizations and enterprise divisions. The Intelligent Cloud segment licenses SQL, Windows Servers, Visual Studio, System Center, and related Client Access Licenses; GitHub that provides a collaboration platform and code hosting service for developers; Nuance provides healthcare and enterprise AI solutions; and Azure, a cloud platform. It also offers enterprise support, Microsoft consulting, and nuance professional services to assist customers in developing, deploying, and managing Microsoft server and desktop solutions; and training and certification on Microsoft products. The More Personal Computing segment provides Windows original equipment manufacturer (OEM) licensing and other non-volume licensing of the Windows operating system; Windows Commercial, such as volume licensing of the Windows operating system, Windows cloud services, and other Windows commercial offerings; patent licensing; and Windows Internet of Things. It also offers Surface, PC accessories, PCs, tablets, gaming and entertainment consoles, and other devices; Gaming, including Xbox hardware, and Xbox content and services; video games and third-party video game royalties; and Search, including Bing and Microsoft advertising. The company sells its products through OEMs, distributors, and resellers; and directly through digital marketplaces, online stores, and retail stores. Microsoft Corporation was founded in 1975 and is headquartered in Redmond, Washington.', 'ceo': 'Mr. Satya  Nadella', 'sector': 'Technology', 'country': 'US', 'fullTimeEmployees': '228000', 'phone': '425 882 8080', 'address': 'One Microsoft Way', 'city': 'Redmond', 'state': 'WA', 'zip': '98052-6399', 'dcfDiff': 55.85291, 'dcf': 352.30709320952855, 'image': 'https://images.financialmodelingprep.com/symbol/MSFT.png', 'ipoDate': '1986-03-13', 'defaultImage': False, 'isEtf': False, 'isActivelyTrading': True, 'isAdr': False, 'isFund': False}]\n"
     ]
    }
   ],
   "source": [
    "import typing\n",
    "import fmpsdk\n",
    "apikey = os.environ.get(\"FMP\")\n",
    "\n",
    "# Company Valuation Methods\n",
    "symbol: str = \"MSFT\"\n",
    "print(f\"Company Profile: {fmpsdk.company_profile(apikey=apikey, symbol=symbol)}\")"
   ]
  },
  {
   "cell_type": "code",
   "execution_count": 22,
   "id": "01943cb7-6b04-4509-886f-d20a0bd1c8df",
   "metadata": {},
   "outputs": [],
   "source": [
    "msft = fmpsdk.company_profile(apikey=apikey, symbol=symbol)"
   ]
  },
  {
   "cell_type": "code",
   "execution_count": 23,
   "id": "63aa2fcd-91ef-47bf-b833-3de8ada205d6",
   "metadata": {},
   "outputs": [
    {
     "data": {
      "text/plain": [
       "dict_keys(['symbol', 'price', 'beta', 'volAvg', 'mktCap', 'lastDiv', 'range', 'changes', 'companyName', 'currency', 'cik', 'isin', 'cusip', 'exchange', 'exchangeShortName', 'industry', 'website', 'description', 'ceo', 'sector', 'country', 'fullTimeEmployees', 'phone', 'address', 'city', 'state', 'zip', 'dcfDiff', 'dcf', 'image', 'ipoDate', 'defaultImage', 'isEtf', 'isActivelyTrading', 'isAdr', 'isFund'])"
      ]
     },
     "execution_count": 23,
     "metadata": {},
     "output_type": "execute_result"
    }
   ],
   "source": [
    "msft[0].keys()"
   ]
  },
  {
   "cell_type": "code",
   "execution_count": 90,
   "id": "1d133539-6987-4220-a5f4-ad01ca1ac817",
   "metadata": {},
   "outputs": [
    {
     "data": {
      "text/plain": [
       "'Microsoft Corporation develops, licenses, and supports software, services, devices, and solutions worldwide. The company operates in three segments: Productivity and Business Processes, Intelligent Cloud, and More Personal Computing. The Productivity and Business Processes segment offers Office, Exchange, SharePoint, Microsoft Teams, Office 365 Security and Compliance, Microsoft Viva, and Skype for Business; Skype, Outlook.com, OneDrive, and LinkedIn; and Dynamics 365, a set of cloud-based and on-premises business solutions for organizations and enterprise divisions. The Intelligent Cloud segment licenses SQL, Windows Servers, Visual Studio, System Center, and related Client Access Licenses; GitHub that provides a collaboration platform and code hosting service for developers; Nuance provides healthcare and enterprise AI solutions; and Azure, a cloud platform. It also offers enterprise support, Microsoft consulting, and nuance professional services to assist customers in developing, deploying, and managing Microsoft server and desktop solutions; and training and certification on Microsoft products. The More Personal Computing segment provides Windows original equipment manufacturer (OEM) licensing and other non-volume licensing of the Windows operating system; Windows Commercial, such as volume licensing of the Windows operating system, Windows cloud services, and other Windows commercial offerings; patent licensing; and Windows Internet of Things. It also offers Surface, PC accessories, PCs, tablets, gaming and entertainment consoles, and other devices; Gaming, including Xbox hardware, and Xbox content and services; video games and third-party video game royalties; and Search, including Bing and Microsoft advertising. The company sells its products through OEMs, distributors, and resellers; and directly through digital marketplaces, online stores, and retail stores. Microsoft Corporation was founded in 1975 and is headquartered in Redmond, Washington.'"
      ]
     },
     "execution_count": 90,
     "metadata": {},
     "output_type": "execute_result"
    }
   ],
   "source": [
    "msft[0]['description']"
   ]
  },
  {
   "cell_type": "code",
   "execution_count": 25,
   "id": "13e44f6f-432c-4962-b36d-90d21e219f99",
   "metadata": {},
   "outputs": [],
   "source": [
    "#fmpsdk.balance_sheet_statement(apikey=apikey, symbol=symbol)"
   ]
  },
  {
   "cell_type": "code",
   "execution_count": 26,
   "id": "6c7965fa-eece-4b37-87e3-a8862cc84470",
   "metadata": {},
   "outputs": [],
   "source": [
    "import pandas as pd"
   ]
  },
  {
   "cell_type": "code",
   "execution_count": 27,
   "id": "3df08d5b-4e0f-4b94-b9e8-984daf462341",
   "metadata": {},
   "outputs": [
    {
     "data": {
      "text/plain": [
       "pandas.core.frame.DataFrame"
      ]
     },
     "execution_count": 27,
     "metadata": {},
     "output_type": "execute_result"
    }
   ],
   "source": [
    "info = pd.DataFrame(dat.get_info())\n",
    "type(info)"
   ]
  },
  {
   "cell_type": "code",
   "execution_count": 28,
   "id": "9a65a212-00ae-4946-abd8-fc7a1e45ba96",
   "metadata": {},
   "outputs": [],
   "source": [
    "#dat.get_news()"
   ]
  },
  {
   "cell_type": "code",
   "execution_count": 29,
   "id": "d05efe63-8407-47e3-903c-475fb1fa612f",
   "metadata": {},
   "outputs": [
    {
     "data": {
      "text/plain": [
       "dict"
      ]
     },
     "execution_count": 29,
     "metadata": {},
     "output_type": "execute_result"
    }
   ],
   "source": [
    "desc = dat.get_info()\n",
    "type(desc)"
   ]
  },
  {
   "cell_type": "code",
   "execution_count": 30,
   "id": "be1fc52b-ca0c-436f-899e-5364aaab44ac",
   "metadata": {},
   "outputs": [],
   "source": [
    "IS = dat.income_stmt"
   ]
  },
  {
   "cell_type": "code",
   "execution_count": 31,
   "id": "d72a3918-bb90-45b5-b182-e83d139b716e",
   "metadata": {},
   "outputs": [],
   "source": [
    "IS_final = IS.transpose()"
   ]
  },
  {
   "cell_type": "code",
   "execution_count": 32,
   "id": "bcaf6135-3863-4f90-be9b-fd752bc507ef",
   "metadata": {},
   "outputs": [
    {
     "data": {
      "text/html": [
       "<div>\n",
       "<style scoped>\n",
       "    .dataframe tbody tr th:only-of-type {\n",
       "        vertical-align: middle;\n",
       "    }\n",
       "\n",
       "    .dataframe tbody tr th {\n",
       "        vertical-align: top;\n",
       "    }\n",
       "\n",
       "    .dataframe thead th {\n",
       "        text-align: right;\n",
       "    }\n",
       "</style>\n",
       "<table border=\"1\" class=\"dataframe\">\n",
       "  <thead>\n",
       "    <tr style=\"text-align: right;\">\n",
       "      <th></th>\n",
       "      <th>Tax Effect Of Unusual Items</th>\n",
       "      <th>Tax Rate For Calcs</th>\n",
       "      <th>Normalized EBITDA</th>\n",
       "      <th>Total Unusual Items</th>\n",
       "      <th>Total Unusual Items Excluding Goodwill</th>\n",
       "      <th>Net Income From Continuing Operation Net Minority Interest</th>\n",
       "      <th>Reconciled Depreciation</th>\n",
       "      <th>Reconciled Cost Of Revenue</th>\n",
       "      <th>EBITDA</th>\n",
       "      <th>EBIT</th>\n",
       "      <th>...</th>\n",
       "      <th>Operating Expense</th>\n",
       "      <th>Research And Development</th>\n",
       "      <th>Selling General And Administration</th>\n",
       "      <th>Selling And Marketing Expense</th>\n",
       "      <th>General And Administrative Expense</th>\n",
       "      <th>Other Gand A</th>\n",
       "      <th>Gross Profit</th>\n",
       "      <th>Cost Of Revenue</th>\n",
       "      <th>Total Revenue</th>\n",
       "      <th>Operating Revenue</th>\n",
       "    </tr>\n",
       "  </thead>\n",
       "  <tbody>\n",
       "    <tr>\n",
       "      <th>2024-06-30</th>\n",
       "      <td>-99918000.0</td>\n",
       "      <td>0.182</td>\n",
       "      <td>133558000000.0</td>\n",
       "      <td>-549000000.0</td>\n",
       "      <td>-549000000.0</td>\n",
       "      <td>88136000000.0</td>\n",
       "      <td>22287000000.0</td>\n",
       "      <td>74114000000.0</td>\n",
       "      <td>133009000000.0</td>\n",
       "      <td>110722000000.0</td>\n",
       "      <td>...</td>\n",
       "      <td>61575000000.0</td>\n",
       "      <td>29510000000.0</td>\n",
       "      <td>32065000000.0</td>\n",
       "      <td>24456000000.0</td>\n",
       "      <td>7609000000.0</td>\n",
       "      <td>7609000000.0</td>\n",
       "      <td>171008000000.0</td>\n",
       "      <td>74114000000.0</td>\n",
       "      <td>245122000000.0</td>\n",
       "      <td>245122000000.0</td>\n",
       "    </tr>\n",
       "    <tr>\n",
       "      <th>2023-06-30</th>\n",
       "      <td>-2850000.0</td>\n",
       "      <td>0.19</td>\n",
       "      <td>105155000000.0</td>\n",
       "      <td>-15000000.0</td>\n",
       "      <td>-15000000.0</td>\n",
       "      <td>72361000000.0</td>\n",
       "      <td>13861000000.0</td>\n",
       "      <td>65863000000.0</td>\n",
       "      <td>105140000000.0</td>\n",
       "      <td>91279000000.0</td>\n",
       "      <td>...</td>\n",
       "      <td>57529000000.0</td>\n",
       "      <td>27195000000.0</td>\n",
       "      <td>30334000000.0</td>\n",
       "      <td>22759000000.0</td>\n",
       "      <td>7575000000.0</td>\n",
       "      <td>7575000000.0</td>\n",
       "      <td>146052000000.0</td>\n",
       "      <td>65863000000.0</td>\n",
       "      <td>211915000000.0</td>\n",
       "      <td>211915000000.0</td>\n",
       "    </tr>\n",
       "    <tr>\n",
       "      <th>2022-06-30</th>\n",
       "      <td>43754000.0</td>\n",
       "      <td>0.131</td>\n",
       "      <td>99905000000.0</td>\n",
       "      <td>334000000.0</td>\n",
       "      <td>334000000.0</td>\n",
       "      <td>72738000000.0</td>\n",
       "      <td>14460000000.0</td>\n",
       "      <td>62650000000.0</td>\n",
       "      <td>100239000000.0</td>\n",
       "      <td>85779000000.0</td>\n",
       "      <td>...</td>\n",
       "      <td>52237000000.0</td>\n",
       "      <td>24512000000.0</td>\n",
       "      <td>27725000000.0</td>\n",
       "      <td>21825000000.0</td>\n",
       "      <td>5900000000.0</td>\n",
       "      <td>5900000000.0</td>\n",
       "      <td>135620000000.0</td>\n",
       "      <td>62650000000.0</td>\n",
       "      <td>198270000000.0</td>\n",
       "      <td>198270000000.0</td>\n",
       "    </tr>\n",
       "    <tr>\n",
       "      <th>2021-06-30</th>\n",
       "      <td>180160797.164637</td>\n",
       "      <td>0.138266</td>\n",
       "      <td>83831000000.0</td>\n",
       "      <td>1303000000.0</td>\n",
       "      <td>1303000000.0</td>\n",
       "      <td>61271000000.0</td>\n",
       "      <td>11686000000.0</td>\n",
       "      <td>52232000000.0</td>\n",
       "      <td>85134000000.0</td>\n",
       "      <td>73448000000.0</td>\n",
       "      <td>...</td>\n",
       "      <td>45940000000.0</td>\n",
       "      <td>20716000000.0</td>\n",
       "      <td>25224000000.0</td>\n",
       "      <td>20117000000.0</td>\n",
       "      <td>5107000000.0</td>\n",
       "      <td>5107000000.0</td>\n",
       "      <td>115856000000.0</td>\n",
       "      <td>52232000000.0</td>\n",
       "      <td>168088000000.0</td>\n",
       "      <td>168088000000.0</td>\n",
       "    </tr>\n",
       "  </tbody>\n",
       "</table>\n",
       "<p>4 rows × 47 columns</p>\n",
       "</div>"
      ],
      "text/plain": [
       "           Tax Effect Of Unusual Items Tax Rate For Calcs Normalized EBITDA  \\\n",
       "2024-06-30                 -99918000.0              0.182    133558000000.0   \n",
       "2023-06-30                  -2850000.0               0.19    105155000000.0   \n",
       "2022-06-30                  43754000.0              0.131     99905000000.0   \n",
       "2021-06-30            180160797.164637           0.138266     83831000000.0   \n",
       "\n",
       "           Total Unusual Items Total Unusual Items Excluding Goodwill  \\\n",
       "2024-06-30        -549000000.0                           -549000000.0   \n",
       "2023-06-30         -15000000.0                            -15000000.0   \n",
       "2022-06-30         334000000.0                            334000000.0   \n",
       "2021-06-30        1303000000.0                           1303000000.0   \n",
       "\n",
       "           Net Income From Continuing Operation Net Minority Interest  \\\n",
       "2024-06-30                                      88136000000.0           \n",
       "2023-06-30                                      72361000000.0           \n",
       "2022-06-30                                      72738000000.0           \n",
       "2021-06-30                                      61271000000.0           \n",
       "\n",
       "           Reconciled Depreciation Reconciled Cost Of Revenue          EBITDA  \\\n",
       "2024-06-30           22287000000.0              74114000000.0  133009000000.0   \n",
       "2023-06-30           13861000000.0              65863000000.0  105140000000.0   \n",
       "2022-06-30           14460000000.0              62650000000.0  100239000000.0   \n",
       "2021-06-30           11686000000.0              52232000000.0   85134000000.0   \n",
       "\n",
       "                      EBIT  ... Operating Expense Research And Development  \\\n",
       "2024-06-30  110722000000.0  ...     61575000000.0            29510000000.0   \n",
       "2023-06-30   91279000000.0  ...     57529000000.0            27195000000.0   \n",
       "2022-06-30   85779000000.0  ...     52237000000.0            24512000000.0   \n",
       "2021-06-30   73448000000.0  ...     45940000000.0            20716000000.0   \n",
       "\n",
       "           Selling General And Administration Selling And Marketing Expense  \\\n",
       "2024-06-30                      32065000000.0                 24456000000.0   \n",
       "2023-06-30                      30334000000.0                 22759000000.0   \n",
       "2022-06-30                      27725000000.0                 21825000000.0   \n",
       "2021-06-30                      25224000000.0                 20117000000.0   \n",
       "\n",
       "           General And Administrative Expense  Other Gand A    Gross Profit  \\\n",
       "2024-06-30                       7609000000.0  7609000000.0  171008000000.0   \n",
       "2023-06-30                       7575000000.0  7575000000.0  146052000000.0   \n",
       "2022-06-30                       5900000000.0  5900000000.0  135620000000.0   \n",
       "2021-06-30                       5107000000.0  5107000000.0  115856000000.0   \n",
       "\n",
       "           Cost Of Revenue   Total Revenue Operating Revenue  \n",
       "2024-06-30   74114000000.0  245122000000.0    245122000000.0  \n",
       "2023-06-30   65863000000.0  211915000000.0    211915000000.0  \n",
       "2022-06-30   62650000000.0  198270000000.0    198270000000.0  \n",
       "2021-06-30   52232000000.0  168088000000.0    168088000000.0  \n",
       "\n",
       "[4 rows x 47 columns]"
      ]
     },
     "execution_count": 32,
     "metadata": {},
     "output_type": "execute_result"
    }
   ],
   "source": [
    "zero_percentage = (IS_final == 0).sum(axis=1) / IS_final.shape[0]\n",
    "threshold = 0.7\n",
    "IS_final = IS_final.loc[zero_percentage < threshold]\n",
    "IS_final"
   ]
  },
  {
   "cell_type": "code",
   "execution_count": 33,
   "id": "0e90cbaf-ace7-415e-8e16-4241c1fd9cb4",
   "metadata": {},
   "outputs": [],
   "source": [
    "BS = dat.balance_sheet"
   ]
  },
  {
   "cell_type": "code",
   "execution_count": 34,
   "id": "cc447417-f70c-480f-9cc6-dc40de2ffc79",
   "metadata": {},
   "outputs": [],
   "source": [
    "BS_annual = BS.transpose()"
   ]
  },
  {
   "cell_type": "code",
   "execution_count": 35,
   "id": "ede8e657-3f18-474f-85c2-eda61545349a",
   "metadata": {},
   "outputs": [
    {
     "data": {
      "text/html": [
       "<div>\n",
       "<style scoped>\n",
       "    .dataframe tbody tr th:only-of-type {\n",
       "        vertical-align: middle;\n",
       "    }\n",
       "\n",
       "    .dataframe tbody tr th {\n",
       "        vertical-align: top;\n",
       "    }\n",
       "\n",
       "    .dataframe thead th {\n",
       "        text-align: right;\n",
       "    }\n",
       "</style>\n",
       "<table border=\"1\" class=\"dataframe\">\n",
       "  <thead>\n",
       "    <tr style=\"text-align: right;\">\n",
       "      <th></th>\n",
       "      <th>Ordinary Shares Number</th>\n",
       "      <th>Share Issued</th>\n",
       "      <th>Net Debt</th>\n",
       "      <th>Total Debt</th>\n",
       "      <th>Tangible Book Value</th>\n",
       "      <th>Invested Capital</th>\n",
       "      <th>Working Capital</th>\n",
       "      <th>Net Tangible Assets</th>\n",
       "      <th>Capital Lease Obligations</th>\n",
       "      <th>Common Stock Equity</th>\n",
       "      <th>...</th>\n",
       "      <th>Raw Materials</th>\n",
       "      <th>Receivables</th>\n",
       "      <th>Accounts Receivable</th>\n",
       "      <th>Allowance For Doubtful Accounts Receivable</th>\n",
       "      <th>Gross Accounts Receivable</th>\n",
       "      <th>Cash Cash Equivalents And Short Term Investments</th>\n",
       "      <th>Other Short Term Investments</th>\n",
       "      <th>Cash And Cash Equivalents</th>\n",
       "      <th>Cash Equivalents</th>\n",
       "      <th>Cash Financial</th>\n",
       "    </tr>\n",
       "  </thead>\n",
       "  <tbody>\n",
       "    <tr>\n",
       "      <th>2024-06-30</th>\n",
       "      <td>7434138859.0</td>\n",
       "      <td>7434138859.0</td>\n",
       "      <td>33315000000.0</td>\n",
       "      <td>67127000000.0</td>\n",
       "      <td>121660000000.0</td>\n",
       "      <td>320107000000.0</td>\n",
       "      <td>34448000000.0</td>\n",
       "      <td>121660000000.0</td>\n",
       "      <td>15497000000.0</td>\n",
       "      <td>268477000000.0</td>\n",
       "      <td>...</td>\n",
       "      <td>394000000.0</td>\n",
       "      <td>56924000000.0</td>\n",
       "      <td>56924000000.0</td>\n",
       "      <td>-830000000.0</td>\n",
       "      <td>57754000000.0</td>\n",
       "      <td>75531000000.0</td>\n",
       "      <td>57216000000.0</td>\n",
       "      <td>18315000000.0</td>\n",
       "      <td>6744000000.0</td>\n",
       "      <td>11571000000.0</td>\n",
       "    </tr>\n",
       "    <tr>\n",
       "      <th>2023-06-30</th>\n",
       "      <td>7432000000.0</td>\n",
       "      <td>7432000000.0</td>\n",
       "      <td>12533000000.0</td>\n",
       "      <td>59965000000.0</td>\n",
       "      <td>128971000000.0</td>\n",
       "      <td>253460000000.0</td>\n",
       "      <td>80108000000.0</td>\n",
       "      <td>128971000000.0</td>\n",
       "      <td>12728000000.0</td>\n",
       "      <td>206223000000.0</td>\n",
       "      <td>...</td>\n",
       "      <td>709000000.0</td>\n",
       "      <td>48688000000.0</td>\n",
       "      <td>48688000000.0</td>\n",
       "      <td>-650000000.0</td>\n",
       "      <td>49338000000.0</td>\n",
       "      <td>111256000000.0</td>\n",
       "      <td>76552000000.0</td>\n",
       "      <td>34704000000.0</td>\n",
       "      <td>26226000000.0</td>\n",
       "      <td>8478000000.0</td>\n",
       "    </tr>\n",
       "    <tr>\n",
       "      <th>2022-06-30</th>\n",
       "      <td>7464000000.0</td>\n",
       "      <td>7464000000.0</td>\n",
       "      <td>35850000000.0</td>\n",
       "      <td>61270000000.0</td>\n",
       "      <td>87720000000.0</td>\n",
       "      <td>216323000000.0</td>\n",
       "      <td>74602000000.0</td>\n",
       "      <td>87720000000.0</td>\n",
       "      <td>11489000000.0</td>\n",
       "      <td>166542000000.0</td>\n",
       "      <td>...</td>\n",
       "      <td>1144000000.0</td>\n",
       "      <td>44261000000.0</td>\n",
       "      <td>44261000000.0</td>\n",
       "      <td>-633000000.0</td>\n",
       "      <td>44894000000.0</td>\n",
       "      <td>104749000000.0</td>\n",
       "      <td>90818000000.0</td>\n",
       "      <td>13931000000.0</td>\n",
       "      <td>5673000000.0</td>\n",
       "      <td>8258000000.0</td>\n",
       "    </tr>\n",
       "    <tr>\n",
       "      <th>2021-06-30</th>\n",
       "      <td>7519000000.0</td>\n",
       "      <td>7519000000.0</td>\n",
       "      <td>43922000000.0</td>\n",
       "      <td>67775000000.0</td>\n",
       "      <td>84477000000.0</td>\n",
       "      <td>200134000000.0</td>\n",
       "      <td>95749000000.0</td>\n",
       "      <td>84477000000.0</td>\n",
       "      <td>9629000000.0</td>\n",
       "      <td>141988000000.0</td>\n",
       "      <td>...</td>\n",
       "      <td>1190000000.0</td>\n",
       "      <td>38043000000.0</td>\n",
       "      <td>38043000000.0</td>\n",
       "      <td>-751000000.0</td>\n",
       "      <td>38794000000.0</td>\n",
       "      <td>130256000000.0</td>\n",
       "      <td>116032000000.0</td>\n",
       "      <td>14224000000.0</td>\n",
       "      <td>6952000000.0</td>\n",
       "      <td>7272000000.0</td>\n",
       "    </tr>\n",
       "  </tbody>\n",
       "</table>\n",
       "<p>4 rows × 78 columns</p>\n",
       "</div>"
      ],
      "text/plain": [
       "           Ordinary Shares Number  Share Issued       Net Debt     Total Debt  \\\n",
       "2024-06-30           7434138859.0  7434138859.0  33315000000.0  67127000000.0   \n",
       "2023-06-30           7432000000.0  7432000000.0  12533000000.0  59965000000.0   \n",
       "2022-06-30           7464000000.0  7464000000.0  35850000000.0  61270000000.0   \n",
       "2021-06-30           7519000000.0  7519000000.0  43922000000.0  67775000000.0   \n",
       "\n",
       "           Tangible Book Value Invested Capital Working Capital  \\\n",
       "2024-06-30      121660000000.0   320107000000.0   34448000000.0   \n",
       "2023-06-30      128971000000.0   253460000000.0   80108000000.0   \n",
       "2022-06-30       87720000000.0   216323000000.0   74602000000.0   \n",
       "2021-06-30       84477000000.0   200134000000.0   95749000000.0   \n",
       "\n",
       "           Net Tangible Assets Capital Lease Obligations Common Stock Equity  \\\n",
       "2024-06-30      121660000000.0             15497000000.0      268477000000.0   \n",
       "2023-06-30      128971000000.0             12728000000.0      206223000000.0   \n",
       "2022-06-30       87720000000.0             11489000000.0      166542000000.0   \n",
       "2021-06-30       84477000000.0              9629000000.0      141988000000.0   \n",
       "\n",
       "            ... Raw Materials    Receivables Accounts Receivable  \\\n",
       "2024-06-30  ...   394000000.0  56924000000.0       56924000000.0   \n",
       "2023-06-30  ...   709000000.0  48688000000.0       48688000000.0   \n",
       "2022-06-30  ...  1144000000.0  44261000000.0       44261000000.0   \n",
       "2021-06-30  ...  1190000000.0  38043000000.0       38043000000.0   \n",
       "\n",
       "           Allowance For Doubtful Accounts Receivable  \\\n",
       "2024-06-30                               -830000000.0   \n",
       "2023-06-30                               -650000000.0   \n",
       "2022-06-30                               -633000000.0   \n",
       "2021-06-30                               -751000000.0   \n",
       "\n",
       "           Gross Accounts Receivable  \\\n",
       "2024-06-30             57754000000.0   \n",
       "2023-06-30             49338000000.0   \n",
       "2022-06-30             44894000000.0   \n",
       "2021-06-30             38794000000.0   \n",
       "\n",
       "           Cash Cash Equivalents And Short Term Investments  \\\n",
       "2024-06-30                                    75531000000.0   \n",
       "2023-06-30                                   111256000000.0   \n",
       "2022-06-30                                   104749000000.0   \n",
       "2021-06-30                                   130256000000.0   \n",
       "\n",
       "           Other Short Term Investments Cash And Cash Equivalents  \\\n",
       "2024-06-30                57216000000.0             18315000000.0   \n",
       "2023-06-30                76552000000.0             34704000000.0   \n",
       "2022-06-30                90818000000.0             13931000000.0   \n",
       "2021-06-30               116032000000.0             14224000000.0   \n",
       "\n",
       "           Cash Equivalents Cash Financial  \n",
       "2024-06-30     6744000000.0  11571000000.0  \n",
       "2023-06-30    26226000000.0   8478000000.0  \n",
       "2022-06-30     5673000000.0   8258000000.0  \n",
       "2021-06-30     6952000000.0   7272000000.0  \n",
       "\n",
       "[4 rows x 78 columns]"
      ]
     },
     "execution_count": 35,
     "metadata": {},
     "output_type": "execute_result"
    }
   ],
   "source": [
    "if IS_final.index[-1]=='TTM ':\n",
    "  BS_quarterly = table_transform(BS[1])\n",
    "  last_row = BS_quarterly.tail(1)\n",
    "  BS_annual = pd.concat([BS_annual, last_row])\n",
    "zero_percentage = (BS_annual == 0).sum(axis=1) / BS_annual.shape[1]\n",
    "threshold = 0.7\n",
    "BS_final = BS_annual.loc[zero_percentage < threshold]\n",
    "BS_final"
   ]
  },
  {
   "cell_type": "code",
   "execution_count": 36,
   "id": "9488799a-6923-4fe9-9e01-7b383b0daa6d",
   "metadata": {},
   "outputs": [],
   "source": [
    "CF = dat.cash_flow.iloc[:, :-1]"
   ]
  },
  {
   "cell_type": "code",
   "execution_count": 37,
   "id": "1aafe94c-5903-4996-b905-bda69b951567",
   "metadata": {},
   "outputs": [
    {
     "data": {
      "text/html": [
       "<div>\n",
       "<style scoped>\n",
       "    .dataframe tbody tr th:only-of-type {\n",
       "        vertical-align: middle;\n",
       "    }\n",
       "\n",
       "    .dataframe tbody tr th {\n",
       "        vertical-align: top;\n",
       "    }\n",
       "\n",
       "    .dataframe thead th {\n",
       "        text-align: right;\n",
       "    }\n",
       "</style>\n",
       "<table border=\"1\" class=\"dataframe\">\n",
       "  <thead>\n",
       "    <tr style=\"text-align: right;\">\n",
       "      <th></th>\n",
       "      <th>Free Cash Flow</th>\n",
       "      <th>Repurchase Of Capital Stock</th>\n",
       "      <th>Repayment Of Debt</th>\n",
       "      <th>Issuance Of Debt</th>\n",
       "      <th>Issuance Of Capital Stock</th>\n",
       "      <th>Capital Expenditure</th>\n",
       "      <th>End Cash Position</th>\n",
       "      <th>Beginning Cash Position</th>\n",
       "      <th>Effect Of Exchange Rate Changes</th>\n",
       "      <th>Changes In Cash</th>\n",
       "      <th>...</th>\n",
       "      <th>Unrealized Gain Loss On Investment Securities</th>\n",
       "      <th>Asset Impairment Charge</th>\n",
       "      <th>Deferred Tax</th>\n",
       "      <th>Deferred Income Tax</th>\n",
       "      <th>Depreciation Amortization Depletion</th>\n",
       "      <th>Depreciation And Amortization</th>\n",
       "      <th>Depreciation</th>\n",
       "      <th>Operating Gains Losses</th>\n",
       "      <th>Gain Loss On Investment Securities</th>\n",
       "      <th>Net Income From Continuing Operations</th>\n",
       "    </tr>\n",
       "  </thead>\n",
       "  <tbody>\n",
       "    <tr>\n",
       "      <th>2024-06-30</th>\n",
       "      <td>74071000000.0</td>\n",
       "      <td>-17254000000.0</td>\n",
       "      <td>-29070000000.0</td>\n",
       "      <td>29645000000.0</td>\n",
       "      <td>2002000000.0</td>\n",
       "      <td>-44477000000.0</td>\n",
       "      <td>18315000000.0</td>\n",
       "      <td>34704000000.0</td>\n",
       "      <td>-210000000.0</td>\n",
       "      <td>-16179000000.0</td>\n",
       "      <td>...</td>\n",
       "      <td>-146000000.0</td>\n",
       "      <td>206000000.0</td>\n",
       "      <td>-4738000000.0</td>\n",
       "      <td>-4738000000.0</td>\n",
       "      <td>22287000000.0</td>\n",
       "      <td>22287000000.0</td>\n",
       "      <td>22287000000.0</td>\n",
       "      <td>245000000.0</td>\n",
       "      <td>245000000.0</td>\n",
       "      <td>88136000000.0</td>\n",
       "    </tr>\n",
       "    <tr>\n",
       "      <th>2023-06-30</th>\n",
       "      <td>59475000000.0</td>\n",
       "      <td>-22245000000.0</td>\n",
       "      <td>-2750000000.0</td>\n",
       "      <td>0.0</td>\n",
       "      <td>1866000000.0</td>\n",
       "      <td>-28107000000.0</td>\n",
       "      <td>34704000000.0</td>\n",
       "      <td>13931000000.0</td>\n",
       "      <td>-194000000.0</td>\n",
       "      <td>20967000000.0</td>\n",
       "      <td>...</td>\n",
       "      <td>-303000000.0</td>\n",
       "      <td>30000000.0</td>\n",
       "      <td>-6059000000.0</td>\n",
       "      <td>-6059000000.0</td>\n",
       "      <td>13861000000.0</td>\n",
       "      <td>13861000000.0</td>\n",
       "      <td>13861000000.0</td>\n",
       "      <td>469000000.0</td>\n",
       "      <td>469000000.0</td>\n",
       "      <td>72361000000.0</td>\n",
       "    </tr>\n",
       "    <tr>\n",
       "      <th>2022-06-30</th>\n",
       "      <td>65149000000.0</td>\n",
       "      <td>-32696000000.0</td>\n",
       "      <td>-9023000000.0</td>\n",
       "      <td>0.0</td>\n",
       "      <td>1841000000.0</td>\n",
       "      <td>-23886000000.0</td>\n",
       "      <td>13931000000.0</td>\n",
       "      <td>14224000000.0</td>\n",
       "      <td>-141000000.0</td>\n",
       "      <td>-152000000.0</td>\n",
       "      <td>...</td>\n",
       "      <td>-509000000.0</td>\n",
       "      <td>101000000.0</td>\n",
       "      <td>-5702000000.0</td>\n",
       "      <td>-5702000000.0</td>\n",
       "      <td>14460000000.0</td>\n",
       "      <td>14460000000.0</td>\n",
       "      <td>14460000000.0</td>\n",
       "      <td>-1000000.0</td>\n",
       "      <td>-1000000.0</td>\n",
       "      <td>72738000000.0</td>\n",
       "    </tr>\n",
       "    <tr>\n",
       "      <th>2021-06-30</th>\n",
       "      <td>56118000000.0</td>\n",
       "      <td>-27385000000.0</td>\n",
       "      <td>-3750000000.0</td>\n",
       "      <td>NaN</td>\n",
       "      <td>1693000000.0</td>\n",
       "      <td>-20622000000.0</td>\n",
       "      <td>14224000000.0</td>\n",
       "      <td>13576000000.0</td>\n",
       "      <td>-29000000.0</td>\n",
       "      <td>677000000.0</td>\n",
       "      <td>...</td>\n",
       "      <td>-1057000000.0</td>\n",
       "      <td>13000000.0</td>\n",
       "      <td>-150000000.0</td>\n",
       "      <td>-150000000.0</td>\n",
       "      <td>11686000000.0</td>\n",
       "      <td>11686000000.0</td>\n",
       "      <td>11686000000.0</td>\n",
       "      <td>-205000000.0</td>\n",
       "      <td>-205000000.0</td>\n",
       "      <td>61271000000.0</td>\n",
       "    </tr>\n",
       "  </tbody>\n",
       "</table>\n",
       "<p>4 rows × 60 columns</p>\n",
       "</div>"
      ],
      "text/plain": [
       "           Free Cash Flow Repurchase Of Capital Stock Repayment Of Debt  \\\n",
       "2024-06-30  74071000000.0              -17254000000.0    -29070000000.0   \n",
       "2023-06-30  59475000000.0              -22245000000.0     -2750000000.0   \n",
       "2022-06-30  65149000000.0              -32696000000.0     -9023000000.0   \n",
       "2021-06-30  56118000000.0              -27385000000.0     -3750000000.0   \n",
       "\n",
       "           Issuance Of Debt Issuance Of Capital Stock Capital Expenditure  \\\n",
       "2024-06-30    29645000000.0              2002000000.0      -44477000000.0   \n",
       "2023-06-30              0.0              1866000000.0      -28107000000.0   \n",
       "2022-06-30              0.0              1841000000.0      -23886000000.0   \n",
       "2021-06-30              NaN              1693000000.0      -20622000000.0   \n",
       "\n",
       "           End Cash Position Beginning Cash Position  \\\n",
       "2024-06-30     18315000000.0           34704000000.0   \n",
       "2023-06-30     34704000000.0           13931000000.0   \n",
       "2022-06-30     13931000000.0           14224000000.0   \n",
       "2021-06-30     14224000000.0           13576000000.0   \n",
       "\n",
       "           Effect Of Exchange Rate Changes Changes In Cash  ...  \\\n",
       "2024-06-30                    -210000000.0  -16179000000.0  ...   \n",
       "2023-06-30                    -194000000.0   20967000000.0  ...   \n",
       "2022-06-30                    -141000000.0    -152000000.0  ...   \n",
       "2021-06-30                     -29000000.0     677000000.0  ...   \n",
       "\n",
       "           Unrealized Gain Loss On Investment Securities  \\\n",
       "2024-06-30                                  -146000000.0   \n",
       "2023-06-30                                  -303000000.0   \n",
       "2022-06-30                                  -509000000.0   \n",
       "2021-06-30                                 -1057000000.0   \n",
       "\n",
       "           Asset Impairment Charge  Deferred Tax Deferred Income Tax  \\\n",
       "2024-06-30             206000000.0 -4738000000.0       -4738000000.0   \n",
       "2023-06-30              30000000.0 -6059000000.0       -6059000000.0   \n",
       "2022-06-30             101000000.0 -5702000000.0       -5702000000.0   \n",
       "2021-06-30              13000000.0  -150000000.0        -150000000.0   \n",
       "\n",
       "           Depreciation Amortization Depletion Depreciation And Amortization  \\\n",
       "2024-06-30                       22287000000.0                 22287000000.0   \n",
       "2023-06-30                       13861000000.0                 13861000000.0   \n",
       "2022-06-30                       14460000000.0                 14460000000.0   \n",
       "2021-06-30                       11686000000.0                 11686000000.0   \n",
       "\n",
       "             Depreciation Operating Gains Losses  \\\n",
       "2024-06-30  22287000000.0            245000000.0   \n",
       "2023-06-30  13861000000.0            469000000.0   \n",
       "2022-06-30  14460000000.0             -1000000.0   \n",
       "2021-06-30  11686000000.0           -205000000.0   \n",
       "\n",
       "           Gain Loss On Investment Securities  \\\n",
       "2024-06-30                        245000000.0   \n",
       "2023-06-30                        469000000.0   \n",
       "2022-06-30                         -1000000.0   \n",
       "2021-06-30                       -205000000.0   \n",
       "\n",
       "           Net Income From Continuing Operations  \n",
       "2024-06-30                         88136000000.0  \n",
       "2023-06-30                         72361000000.0  \n",
       "2022-06-30                         72738000000.0  \n",
       "2021-06-30                         61271000000.0  \n",
       "\n",
       "[4 rows x 60 columns]"
      ]
     },
     "execution_count": 37,
     "metadata": {},
     "output_type": "execute_result"
    }
   ],
   "source": [
    "CF_final = CF.transpose()\n",
    "# zero_percentage = (CF_final == 0).sum(axis=1) / CF_final.shape[0]\n",
    "# threshold = 0.5\n",
    "# CF_final = CF_final.loc[zero_percentage < threshold]\n",
    "CF_final"
   ]
  },
  {
   "cell_type": "code",
   "execution_count": 38,
   "id": "596a540b-c530-4cda-ab06-3efe84b0cd0e",
   "metadata": {},
   "outputs": [
    {
     "data": {
      "text/plain": [
       "(2024-06-30    35.955973\n",
       " 2023-06-30    34.146238\n",
       " 2022-06-30    36.686337\n",
       " 2021-06-30     36.45174\n",
       " dtype: object,\n",
       " 2024-06-30    54.262367\n",
       " 2023-06-30    49.614232\n",
       " 2022-06-30    50.556816\n",
       " 2021-06-30     50.64847\n",
       " dtype: object)"
      ]
     },
     "execution_count": 38,
     "metadata": {},
     "output_type": "execute_result"
    }
   ],
   "source": [
    "npm = IS_final['Net Income Common Stockholders']/IS_final['Total Revenue']*100\n",
    "net_profit = IS_final['Net Income Common Stockholders']\n",
    "revenue = IS_final['Total Revenue']\n",
    "ebitda = IS_final['EBITDA']/IS_final['Total Revenue']*100\n",
    "npm ,ebitda"
   ]
  },
  {
   "cell_type": "code",
   "execution_count": 39,
   "id": "44bccefe-42bb-4a56-bb36-816dab8569cb",
   "metadata": {},
   "outputs": [
    {
     "data": {
      "image/png": "[encoded data removed]",
      "text/plain": [
       "<Figure size 1000x600 with 1 Axes>"
      ]
     },
     "metadata": {},
     "output_type": "display_data"
    }
   ],
   "source": [
    "#plot 1\n",
    "categories = IS_final.index\n",
    "x = np.arange(len(categories))\n",
    "width = 0.2  # Width of the bars\n",
    "\n",
    "# Create figure and axis objects\n",
    "fig, ax1 = plt.subplots(figsize=(10, 6))\n",
    "\n",
    "# Plotting Net Profit and Revenue as bar charts\n",
    "ax1.bar(x - width/2, net_profit, width=width, label='Net Profit', color='royalblue', align='center')\n",
    "ax1.bar(x + width/2, revenue, width=width, label='Revenue', color='goldenrod', align='center')\n",
    "\n",
    "# Setting X-axis labels\n",
    "ax1.set_xticks(x)\n",
    "ax1.set_xticklabels(categories)\n",
    "ax1.set_ylabel('(Dollar)', fontsize=12)\n",
    "\n",
    "# Apply the custom formatter to the Y-axis\n",
    "ax1.yaxis.set_major_formatter(ticker.FuncFormatter(format_numbers))\n",
    "\n",
    "\n",
    "min_value = min(min(net_profit), min(revenue))\n",
    "max_value = max(max(net_profit), max(revenue))\n",
    "ax1.set_ylim([min_value*1.2, max_value*1.2])\n",
    "\n",
    "\n",
    "# Adding legends\n",
    "fig.legend(loc=\"upper left\", bbox_to_anchor=(0.1, 0.9))\n",
    "\n",
    "ax1.grid(True, axis='y', linestyle='-', linewidth=0.5, color='gray')\n",
    "ax1.set_axisbelow(True)"
   ]
  },
  {
   "cell_type": "code",
   "execution_count": 40,
   "id": "f4f130ca-6008-43f0-9e58-451ec3a46cd8",
   "metadata": {},
   "outputs": [
    {
     "data": {
      "text/plain": [
       "<matplotlib.legend.Legend at 0x1ac61e8dd90>"
      ]
     },
     "execution_count": 40,
     "metadata": {},
     "output_type": "execute_result"
    },
    {
     "data": {
      "image/png": "[encoded data removed]",
      "text/plain": [
       "<Figure size 1000x600 with 1 Axes>"
      ]
     },
     "metadata": {},
     "output_type": "display_data"
    }
   ],
   "source": [
    "#plot 2\n",
    "categories = IS_final.index\n",
    "x = np.arange(len(categories))\n",
    "\n",
    "# Create figure and axis objects\n",
    "fig, ax1 = plt.subplots(figsize=(10, 6))\n",
    "\n",
    "# Plotting Net Profit and Revenue as bar charts\n",
    "ax1.plot(x, npm, color='olivedrab', marker='o', label='Net Profit Margin')\n",
    "ax1.plot(x, ebitda, color='royalblue', marker='o', label='EBITDA Margin')\n",
    "\n",
    "#set limit\n",
    "# min_val = min(min(npm), min(ebitda))\n",
    "# max_val = max(max(npm), max(ebitda))\n",
    "# ax1.set_ylim([min_val*1.2, max_val*1.2])\n",
    "\n",
    "# Setting X-axis labels\n",
    "ax1.set_xticks(x)\n",
    "ax1.set_xticklabels(categories)\n",
    "ax1.set_ylabel('(%)', fontsize=12)\n",
    "\n",
    "# Adding legends\n",
    "fig.legend(loc=\"upper left\", bbox_to_anchor=(0.1, 0.9))"
   ]
  },
  {
   "cell_type": "code",
   "execution_count": 41,
   "id": "f680276f-71a1-4a2c-9e64-f4dd10724d48",
   "metadata": {},
   "outputs": [
    {
     "data": {
      "text/plain": [
       "Index(['Ordinary Shares Number', 'Share Issued', 'Net Debt', 'Total Debt',\n",
       "       'Tangible Book Value', 'Invested Capital', 'Working Capital',\n",
       "       'Net Tangible Assets', 'Capital Lease Obligations',\n",
       "       'Common Stock Equity', 'Total Capitalization',\n",
       "       'Total Equity Gross Minority Interest', 'Stockholders Equity',\n",
       "       'Gains Losses Not Affecting Retained Earnings',\n",
       "       'Other Equity Adjustments', 'Retained Earnings', 'Capital Stock',\n",
       "       'Common Stock', 'Total Liabilities Net Minority Interest',\n",
       "       'Total Non Current Liabilities Net Minority Interest',\n",
       "       'Other Non Current Liabilities', 'Tradeand Other Payables Non Current',\n",
       "       'Non Current Deferred Liabilities', 'Non Current Deferred Revenue',\n",
       "       'Non Current Deferred Taxes Liabilities',\n",
       "       'Long Term Debt And Capital Lease Obligation',\n",
       "       'Long Term Capital Lease Obligation', 'Long Term Debt',\n",
       "       'Current Liabilities', 'Other Current Liabilities',\n",
       "       'Current Deferred Liabilities', 'Current Deferred Revenue',\n",
       "       'Current Debt And Capital Lease Obligation', 'Current Debt',\n",
       "       'Other Current Borrowings', 'Commercial Paper',\n",
       "       'Pensionand Other Post Retirement Benefit Plans Current',\n",
       "       'Payables And Accrued Expenses', 'Payables', 'Total Tax Payable',\n",
       "       'Income Tax Payable', 'Accounts Payable', 'Total Assets',\n",
       "       'Total Non Current Assets', 'Other Non Current Assets',\n",
       "       'Financial Assets', 'Investments And Advances',\n",
       "       'Investmentin Financial Assets', 'Available For Sale Securities',\n",
       "       'Long Term Equity Investment', 'Goodwill And Other Intangible Assets',\n",
       "       'Other Intangible Assets', 'Goodwill', 'Net PPE',\n",
       "       'Accumulated Depreciation', 'Gross PPE', 'Leases', 'Other Properties',\n",
       "       'Machinery Furniture Equipment', 'Buildings And Improvements',\n",
       "       'Land And Improvements', 'Properties', 'Current Assets',\n",
       "       'Other Current Assets', 'Hedging Assets Current', 'Inventory',\n",
       "       'Finished Goods', 'Work In Process', 'Raw Materials', 'Receivables',\n",
       "       'Accounts Receivable', 'Allowance For Doubtful Accounts Receivable',\n",
       "       'Gross Accounts Receivable',\n",
       "       'Cash Cash Equivalents And Short Term Investments',\n",
       "       'Other Short Term Investments', 'Cash And Cash Equivalents',\n",
       "       'Cash Equivalents', 'Cash Financial'],\n",
       "      dtype='object')"
      ]
     },
     "execution_count": 41,
     "metadata": {},
     "output_type": "execute_result"
    }
   ],
   "source": [
    "BS_final.columns"
   ]
  },
  {
   "cell_type": "code",
   "execution_count": 42,
   "id": "8aa3ef8a-deb3-4d37-b153-e7e855e63e8b",
   "metadata": {},
   "outputs": [
    {
     "data": {
      "image/png": "[encoded data removed]",
      "text/plain": [
       "<Figure size 1000x600 with 1 Axes>"
      ]
     },
     "metadata": {},
     "output_type": "display_data"
    }
   ],
   "source": [
    "#Balance sheets\n",
    "liabilities_long = BS_final['Current Liabilities']\n",
    "liabilities_short = BS_final['Total Non Current Liabilities Net Minority Interest']\n",
    "equity = BS_final['Total Equity Gross Minority Interest']\n",
    "assets = equity + liabilities_long + liabilities_short\n",
    "non_currect_assets = BS_final['Total Non Current Assets']\n",
    "DER = (liabilities_long + liabilities_short)/equity*100\n",
    "\n",
    "#plot 3\n",
    "categories = BS_final.index\n",
    "x = np.arange(len(categories))\n",
    "width = 0.2  # Width of the bars\n",
    "\n",
    "# Create figure and axis objects\n",
    "fig, ax1 = plt.subplots(figsize=(10, 6))\n",
    "\n",
    "# Plotting Net Profit and Revenue as bar charts\n",
    "ax1.bar(x - width, equity, width=width, label='Equity', color='royalblue', align='center')\n",
    "ax1.bar(x, liabilities_long, width=width, label='liabilities(Long Term)', color='red', align='center')\n",
    "ax1.bar(x, liabilities_short, width=width, label='liabilities(Short Tem)', color='darkred', align='center', bottom=liabilities_long)\n",
    "ax1.bar(x + width, assets, width=width, label='Assets', color='goldenrod', align='center')\n",
    "\n",
    "# Setting X-axis labels\n",
    "ax1.set_xticks(x)\n",
    "ax1.set_xticklabels(categories)\n",
    "ax1.set_ylabel('(Dollar)', fontsize=12)\n",
    "\n",
    "# Apply the custom formatter to the Y-axis\n",
    "ax1.yaxis.set_major_formatter(ticker.FuncFormatter(format_numbers))\n",
    "\n",
    "# Adding legends\n",
    "fig.legend(loc=\"upper left\", bbox_to_anchor=(0.1, 0.9))\n",
    "\n",
    "ax1.grid(True, axis='y', linestyle='-', linewidth=0.5, color='gray')\n",
    "ax1.set_axisbelow(True)"
   ]
  },
  {
   "cell_type": "code",
   "execution_count": 43,
   "id": "4cbb02e5-b0ff-4c10-b074-ad3504d597b2",
   "metadata": {},
   "outputs": [
    {
     "data": {
      "image/png": "[encoded data removed]",
      "text/plain": [
       "<Figure size 1000x600 with 1 Axes>"
      ]
     },
     "metadata": {},
     "output_type": "display_data"
    }
   ],
   "source": [
    "#plot 4\n",
    "categories = BS_final.index\n",
    "x = np.arange(len(categories))\n",
    "\n",
    "# Create figure and axis objects\n",
    "fig, ax1 = plt.subplots(figsize=(10, 6))\n",
    "\n",
    "# Plotting Net Profit and Revenue as bar charts\n",
    "ax1.plot(x, DER, color='olivedrab', marker='o', label='Debt to Equity Ratio')\n",
    "\n",
    "# Setting X-axis labels\n",
    "ax1.set_xticks(x)\n",
    "ax1.set_xticklabels(categories)\n",
    "ax1.set_ylabel('(%)', fontsize=12)\n",
    "\n",
    "# Adding legends\n",
    "fig.legend(loc=\"upper left\", bbox_to_anchor=(0.1, 0.9))\n",
    "\n",
    "ax1.grid(True, axis='y', linestyle='-', linewidth=0.5, color='gray')\n",
    "ax1.set_axisbelow(True)"
   ]
  },
  {
   "cell_type": "code",
   "execution_count": 44,
   "id": "bab8b3f4-5ab8-41cb-9e88-488d1a17c511",
   "metadata": {},
   "outputs": [
    {
     "data": {
      "text/plain": [
       "Index(['Free Cash Flow', 'Repurchase Of Capital Stock', 'Repayment Of Debt',\n",
       "       'Issuance Of Debt', 'Issuance Of Capital Stock', 'Capital Expenditure',\n",
       "       'End Cash Position', 'Beginning Cash Position',\n",
       "       'Effect Of Exchange Rate Changes', 'Changes In Cash',\n",
       "       'Financing Cash Flow', 'Cash Flow From Continuing Financing Activities',\n",
       "       'Net Other Financing Charges', 'Cash Dividends Paid',\n",
       "       'Common Stock Dividend Paid', 'Net Common Stock Issuance',\n",
       "       'Common Stock Payments', 'Common Stock Issuance',\n",
       "       'Net Issuance Payments Of Debt', 'Net Short Term Debt Issuance',\n",
       "       'Short Term Debt Payments', 'Short Term Debt Issuance',\n",
       "       'Net Long Term Debt Issuance', 'Long Term Debt Payments',\n",
       "       'Long Term Debt Issuance', 'Investing Cash Flow',\n",
       "       'Cash Flow From Continuing Investing Activities',\n",
       "       'Net Other Investing Changes', 'Net Investment Purchase And Sale',\n",
       "       'Sale Of Investment', 'Purchase Of Investment',\n",
       "       'Net Business Purchase And Sale', 'Purchase Of Business',\n",
       "       'Net PPE Purchase And Sale', 'Purchase Of PPE', 'Operating Cash Flow',\n",
       "       'Cash Flow From Continuing Operating Activities',\n",
       "       'Change In Working Capital', 'Change In Other Working Capital',\n",
       "       'Change In Other Current Liabilities', 'Change In Other Current Assets',\n",
       "       'Change In Payables And Accrued Expense', 'Change In Payable',\n",
       "       'Change In Account Payable', 'Change In Tax Payable',\n",
       "       'Change In Income Tax Payable', 'Change In Inventory',\n",
       "       'Change In Receivables', 'Changes In Account Receivables',\n",
       "       'Stock Based Compensation',\n",
       "       'Unrealized Gain Loss On Investment Securities',\n",
       "       'Asset Impairment Charge', 'Deferred Tax', 'Deferred Income Tax',\n",
       "       'Depreciation Amortization Depletion', 'Depreciation And Amortization',\n",
       "       'Depreciation', 'Operating Gains Losses',\n",
       "       'Gain Loss On Investment Securities',\n",
       "       'Net Income From Continuing Operations'],\n",
       "      dtype='object')"
      ]
     },
     "execution_count": 44,
     "metadata": {},
     "output_type": "execute_result"
    }
   ],
   "source": [
    "CF_final.columns"
   ]
  },
  {
   "cell_type": "code",
   "execution_count": 45,
   "id": "3f76f625-4902-4726-8a64-f17a3ca5e96f",
   "metadata": {},
   "outputs": [
    {
     "data": {
      "image/png": "[encoded data removed]",
      "text/plain": [
       "<Figure size 1000x600 with 1 Axes>"
      ]
     },
     "metadata": {},
     "output_type": "display_data"
    }
   ],
   "source": [
    "#Cash Flow\n",
    "operating = CF_final['Cash Flow From Continuing Operating Activities']\n",
    "investing = CF_final['Investing Cash Flow']\n",
    "financing = CF_final['Financing Cash Flow']\n",
    "beginning_cash = CF_final['Beginning Cash Position']\n",
    "cash_reserve = beginning_cash + operating + investing + financing\n",
    "end_cash = CF_final['End Cash Position']\n",
    "\n",
    "#plot 5\n",
    "categories = CF_final.index\n",
    "x = np.arange(len(categories))\n",
    "\n",
    "# Create figure and axis objects\n",
    "fig, ax1 = plt.subplots(figsize=(10, 6))\n",
    "\n",
    "# Plotting Net Profit and Revenue as bar charts\n",
    "ax1.plot(x, operating, color='olivedrab', marker='o', label='operating cash flow')\n",
    "ax1.plot(x, investing, color='royalblue', marker='o', label='investing cash flow')\n",
    "ax1.plot(x, financing, color='darkred', marker='o', label='financing cash flow')\n",
    "\n",
    "# Setting X-axis labels\n",
    "ax1.set_xticks(x)\n",
    "ax1.set_xticklabels(categories)\n",
    "ax1.set_ylabel('(Dollar)', fontsize=12)\n",
    "ax1.yaxis.set_major_formatter(ticker.FuncFormatter(format_numbers))\n",
    "\n",
    "# Adding legends\n",
    "fig.legend(loc=\"upper left\", bbox_to_anchor=(0.1, 0.9))\n",
    "\n",
    "ax1.grid(True, axis='y', linestyle='-', linewidth=0.5, color='gray')\n",
    "ax1.set_axisbelow(True)"
   ]
  },
  {
   "cell_type": "code",
   "execution_count": 49,
   "id": "d9c5a8e1-6509-4650-8b9b-8c73cc0c0dc8",
   "metadata": {},
   "outputs": [
    {
     "data": {
      "text/plain": [
       "'{\"address1\": \"One Microsoft Way\", \"city\": \"Redmond\", \"state\": \"WA\", \"zip\": \"98052-6399\", \"country\": \"United States\", \"phone\": \"425 882 8080\", \"website\": \"https://www.microsoft.com\", \"industry\": \"Software - Infrastructure\", \"industryKey\": \"software-infrastructure\", \"industryDisp\": \"Software - Infrastructure\", \"sector\": \"Technology\", \"sectorKey\": \"technology\", \"sectorDisp\": \"Technology\", \"longBusinessSummary\": \"Microsoft Corporation develops and supports software, services, devices and solutions worldwide. The Productivity and Business Processes segment offers office, exchange, SharePoint, Microsoft Teams, office 365 Security and Compliance, Microsoft viva, and Microsoft 365 copilot; and office consumer services, such as Microsoft 365 consumer subscriptions, Office licensed on-premises, and other office services. This segment also provides LinkedIn; and dynamics business solutions, including Dynamics 365, a set of intelligent, cloud-based applications across ERP, CRM, power apps, and power automate; and on-premises ERP and CRM applications. The Intelligent Cloud segment offers server products and cloud services, such as azure and other cloud services; SQL and windows server, visual studio, system center, and related client access licenses, as well as nuance and GitHub; and enterprise services including enterprise support services, industry solutions, and nuance professional services. The More Personal Computing segment offers Windows, including windows OEM licensing and other non-volume licensing of the Windows operating system; Windows commercial comprising volume licensing of the Windows operating system, windows cloud services, and other Windows commercial offerings; patent licensing; and windows Internet of Things; and devices, such as surface, HoloLens, and PC accessories. Additionally, this segment provides gaming, which includes Xbox hardware and content, and first- and third-party content; Xbox game pass and other subscriptions, cloud gaming, advertising, third-party disc royalties, and other cloud services; and search and news advertising, which includes Bing, Microsoft News and Edge, and third-party affiliates. The company sells its products through OEMs, distributors, and resellers; and directly through digital marketplaces, online, and retail stores. The company was founded in 1975 and is headquartered in Redmond, Washington.\", \"fullTimeEmployees\": 228000, \"companyOfficers\": [{\"maxAge\": 1, \"name\": \"Mr. Satya  Nadella\", \"age\": 57, \"title\": \"Chairman & CEO\", \"yearBorn\": 1967, \"fiscalYear\": 2024, \"totalPay\": 7869791, \"exercisedValue\": 0, \"unexercisedValue\": 0}, {\"maxAge\": 1, \"name\": \"Mr. Bradford L. Smith LCA\", \"age\": 65, \"title\": \"President & Vice Chairman\", \"yearBorn\": 1959, \"fiscalYear\": 2024, \"totalPay\": 4755618, \"exercisedValue\": 0, \"unexercisedValue\": 0}, {\"maxAge\": 1, \"name\": \"Ms. Amy E. Hood\", \"age\": 52, \"title\": \"Executive VP & CFO\", \"yearBorn\": 1972, \"fiscalYear\": 2024, \"totalPay\": 4704250, \"exercisedValue\": 0, \"unexercisedValue\": 0}, {\"maxAge\": 1, \"name\": \"Mr. Judson B. Althoff\", \"age\": 51, \"title\": \"Executive VP & Chief Commercial Officer\", \"yearBorn\": 1973, \"fiscalYear\": 2024, \"totalPay\": 4534974, \"exercisedValue\": 0, \"unexercisedValue\": 0}, {\"maxAge\": 1, \"name\": \"Mr. Christopher David Young\", \"age\": 52, \"title\": \"Executive Officer\", \"yearBorn\": 1972, \"fiscalYear\": 2024, \"totalPay\": 2993772, \"exercisedValue\": 0, \"unexercisedValue\": 0}, {\"maxAge\": 1, \"name\": \"Ms. Carolina  Dybeck Happe\", \"age\": 52, \"title\": \"Executive VP & COO\", \"yearBorn\": 1972, \"fiscalYear\": 2024, \"exercisedValue\": 0, \"unexercisedValue\": 0}, {\"maxAge\": 1, \"name\": \"Ms. Alice L. Jolla\", \"age\": 58, \"title\": \"Corporate VP & Chief Accounting Officer\", \"yearBorn\": 1966, \"fiscalYear\": 2024, \"exercisedValue\": 0, \"unexercisedValue\": 0}, {\"maxAge\": 1, \"name\": \"Mr. James Kevin Scott\", \"age\": 52, \"title\": \"Executive VP of AI & CTO\", \"yearBorn\": 1972, \"fiscalYear\": 2024, \"exercisedValue\": 0, \"unexercisedValue\": 0}, {\"maxAge\": 1, \"name\": \"Mr. Brett  Iversen\", \"title\": \"Vice President of Investor Relations\", \"fiscalYear\": 2024, \"exercisedValue\": 0, \"unexercisedValue\": 0}, {\"maxAge\": 1, \"name\": \"Mr. Hossein  Nowbar\", \"title\": \"Chief Legal Officer\", \"fiscalYear\": 2024, \"exercisedValue\": 0, \"unexercisedValue\": 0}], \"auditRisk\": 9, \"boardRisk\": 5, \"compensationRisk\": 3, \"shareHolderRightsRisk\": 2, \"overallRisk\": 3, \"governanceEpochDate\": 1735689600, \"compensationAsOfEpochDate\": 1735603200, \"irWebsite\": \"http://www.microsoft.com/investor/default.aspx\", \"maxAge\": 86400, \"priceHint\": 2, \"previousClose\": 409.04, \"open\": 407.032, \"dayLow\": 406.36, \"dayHigh\": 411.0, \"regularMarketPreviousClose\": 409.04, \"regularMarketOpen\": 407.032, \"regularMarketDayLow\": 406.36, \"regularMarketDayHigh\": 411.0, \"dividendRate\": 3.32, \"dividendYield\": 0.0075, \"exDividendDate\": 1740009600, \"payoutRatio\": 0.2477, \"fiveYearAvgDividendYield\": 0.86, \"beta\": 0.904, \"trailingPE\": 33.108067, \"forwardPE\": 27.289612, \"volume\": 22907230, \"regularMarketVolume\": 22907230, \"averageVolume\": 21761588, \"averageVolume10days\": 24861440, \"averageDailyVolume10Day\": 24861440, \"bid\": 410.53, \"ask\": 427.61, \"bidSize\": 100, \"askSize\": 100, \"marketCap\": 3051946246144, \"fiftyTwoWeekLow\": 385.58, \"fiftyTwoWeekHigh\": 468.35, \"priceToSalesTrailing12Months\": 12.006556, \"fiftyDayAverage\": 430.2788, \"twoHundredDayAverage\": 425.9679, \"currency\": \"USD\", \"enterpriseValue\": 3307079729152, \"profitMargins\": 0.35608003, \"floatShares\": 7424694989, \"sharesOutstanding\": 7433979904, \"sharesShort\": 61735926, \"sharesShortPriorMonth\": 60224820, \"sharesShortPreviousMonthDate\": 1734048000, \"dateShortInterest\": 1736899200, \"sharesPercentSharesOut\": 0.0083, \"heldPercentInsiders\": 0.00056, \"heldPercentInstitutions\": 0.73737, \"shortRatio\": 3.1, \"shortPercentOfFloat\": 0.0083, \"impliedSharesOutstanding\": 7433979904, \"bookValue\": 36.115, \"priceToBook\": 11.367576, \"lastFiscalYearEnd\": 1719705600, \"nextFiscalYearEnd\": 1751241600, \"mostRecentQuarter\": 1727654400, \"earningsQuarterlyGrowth\": 0.107, \"netIncomeToCommon\": 90511998976, \"trailingEps\": 12.4, \"forwardEps\": 14.95, \"lastSplitFactor\": \"2:1\", \"lastSplitDate\": 1045526400, \"enterpriseToRevenue\": 13.01, \"enterpriseToEbitda\": 24.218, \"52WeekChange\": 0.012324929, \"SandP52WeekChange\": 0.20904708, \"lastDividendValue\": 0.83, \"lastDividendDate\": 1732147200, \"exchange\": \"NMS\", \"quoteType\": \"EQUITY\", \"symbol\": \"MSFT\", \"underlyingSymbol\": \"MSFT\", \"shortName\": \"Microsoft Corporation\", \"longName\": \"Microsoft Corporation\", \"firstTradeDateEpochUtc\": 511108200, \"timeZoneFullName\": \"America/New_York\", \"timeZoneShortName\": \"EST\", \"uuid\": \"b004b3ec-de24-385e-b2c1-923f10d3fb62\", \"messageBoardId\": \"finmb_21835\", \"gmtOffSetMilliseconds\": -18000000, \"currentPrice\": 410.54, \"targetHighPrice\": 650.0, \"targetLowPrice\": 420.0, \"targetMeanPrice\": 508.051, \"targetMedianPrice\": 500.0, \"recommendationMean\": 1.40351, \"recommendationKey\": \"strong_buy\", \"numberOfAnalystOpinions\": 50, \"totalCash\": 78429003776, \"totalCashPerShare\": 10.549, \"ebitda\": 136551997440, \"totalDebt\": 96838000640, \"quickRatio\": 1.163, \"currentRatio\": 1.301, \"totalRevenue\": 254189993984, \"debtToEquity\": 33.657, \"revenuePerShare\": 34.202, \"returnOnAssets\": 0.14592, \"returnOnEquity\": 0.35604, \"grossProfits\": 176278994944, \"freeCashflow\": 61280874496, \"operatingCashflow\": 122144997376, \"earningsGrowth\": 0.104, \"revenueGrowth\": 0.16, \"grossMargins\": 0.69348997, \"ebitdaMargins\": 0.53720003, \"operatingMargins\": 0.46583998, \"financialCurrency\": \"USD\", \"trailingPegRatio\": 2.1383}'"
      ]
     },
     "execution_count": 49,
     "metadata": {},
     "output_type": "execute_result"
    }
   ],
   "source": [
    "json.dumps(desc)"
   ]
  },
  {
   "cell_type": "code",
   "execution_count": 50,
   "id": "74ff31d8-e5ab-4c78-9a85-3265330c93e2",
   "metadata": {},
   "outputs": [],
   "source": [
    "#Store in Vector DB\n",
    "income_statement_json = IS_final.to_json()\n",
    "cash_flow_json = BS_final.to_json()\n",
    "balance_sheet_json = CF_final.to_json()\n",
    "combined_data = {\n",
    "    \"company_description\": description,\n",
    "    \"company_all_info\": json.dumps(desc),\n",
    "    \"income_statement\": json.loads(income_statement_json),\n",
    "    \"cash_flow\": json.loads(cash_flow_json),\n",
    "    \"balance_sheet\": json.loads(balance_sheet_json)\n",
    "}"
   ]
  },
  {
   "cell_type": "code",
   "execution_count": 51,
   "id": "aa499725-20dc-4a65-8391-887b8523c959",
   "metadata": {},
   "outputs": [],
   "source": [
    "document = Document(page_content=json.dumps(combined_data))"
   ]
  },
  {
   "cell_type": "code",
   "execution_count": 52,
   "id": "3c35a3ea-a08e-4741-af6d-7e64fbc5bdd8",
   "metadata": {},
   "outputs": [],
   "source": [
    "import os\n",
    "ROOT_DIR = os.getcwd()\n",
    "db_local_folder =  os.path.join(ROOT_DIR, \"db3\")"
   ]
  },
  {
   "cell_type": "code",
   "execution_count": 53,
   "id": "17c8b3ab-2700-4e08-b3ff-3cb444349e53",
   "metadata": {},
   "outputs": [],
   "source": [
    "client = QdrantClient(path=db_local_folder)\n",
    "\n",
    "client.create_collection(\n",
    "    collection_name=\"rag-financial\",\n",
    "    vectors_config=VectorParams(size=768, distance=Distance.COSINE),\n",
    ")\n",
    "\n",
    "vector_store = QdrantVectorStore(\n",
    "    client=client,\n",
    "    collection_name=\"rag-financial\",\n",
    "    embedding=embeddings,\n",
    ")\n"
   ]
  },
  {
   "cell_type": "code",
   "execution_count": 54,
   "id": "60b1b61a-f0cc-4885-b896-ca88b88e4707",
   "metadata": {},
   "outputs": [
    {
     "data": {
      "text/plain": [
       "['c11a71342e084bb89da2db391b94bf92']"
      ]
     },
     "execution_count": 54,
     "metadata": {},
     "output_type": "execute_result"
    }
   ],
   "source": [
    "vector_store.add_documents(documents=[document])"
   ]
  },
  {
   "cell_type": "code",
   "execution_count": 55,
   "id": "ff44cfdf-ec2d-4293-8a26-70a9ad4f1831",
   "metadata": {},
   "outputs": [],
   "source": [
    "#retrieval RAG for full analysis\n",
    "prompt_template = \"\"\"\n",
    "        You are a financial analyst. Based on the company profile and the financial reports provided, your task is to provide a detailed financial analysis of the company, focusing on significant increase  or decrease  with a threshold of 10%.\n",
    "        Use only the financial reports provided in the context below. Do not make assumptions or hallucinate information.\n",
    "\n",
    "        {context}\n",
    "\n",
    "        Use the following structure to guide your analysis:\n",
    "        **Company Profile:**\n",
    "        - Describe the complete company profile from company_description.\n",
    "\n",
    "        1. **Income Statement Analysis:**\n",
    "          - **Revenue Growth:**\n",
    "            - Detail the number and percentage changes and the periods they occurred. example \"2020-2021: Increased by 14.2% (Rp 1,9 to Rp 2,5)\"\n",
    "\n",
    "          - **Gross Profit:**\n",
    "            - Detail the number and percentage changes and the periods they occurred.\n",
    "\n",
    "          - **Net Income:**\n",
    "            - Detail the number and percentage changes and the periods they occurred.\n",
    "\n",
    "        2. **Cash Flow Statement Analysis:**\n",
    "          - **Operating Cash Flow:**\n",
    "            - Detail the number and percentage changes and the periods they occurred.\n",
    "\n",
    "          - **Investing Cash Flow:**\n",
    "            - Detail the number and percentage changes and the periods they occurred.\n",
    "          - **Financing Cash Flow:**\n",
    "            - Detail the number and percentage changes and the periods they occurred.\n",
    "\n",
    "        3. **Balance Sheet Analysis:**\n",
    "          - **Total Assets:**\n",
    "            - Detail the number and percentage changes and the periods they occurred.\n",
    "          - **Equity:**\n",
    "            - Detail the number and percentage changes and the periods they occurred.\n",
    "          - **Debt-to-Equity Ratio:**\n",
    "            - Detail the number and percentage changes and the periods they occurred.\n",
    "\n",
    "        4. **Summary:**\n",
    "          - Summarize the overall financial performance for each period.\n",
    "\n",
    "        Now, answer the query for this company: {question}\n",
    "        \"\"\""
   ]
  },
  {
   "cell_type": "code",
   "execution_count": 56,
   "id": "9d4661a4-00e5-41a1-a2f6-f5cc6ffb9491",
   "metadata": {},
   "outputs": [],
   "source": [
    "prompt = ChatPromptTemplate.from_template(prompt_template)"
   ]
  },
  {
   "cell_type": "code",
   "execution_count": 57,
   "id": "03230fab-5f38-4484-8fa3-12df0b6a5fc8",
   "metadata": {},
   "outputs": [],
   "source": [
    "qa_with_sources = RetrievalQA.from_chain_type(\n",
    "            llm=llm,\n",
    "            chain_type=\"stuff\",\n",
    "            retriever=vector_store.as_retriever(),\n",
    "            chain_type_kwargs={\"prompt\": prompt},\n",
    "            return_source_documents=True,\n",
    "        )"
   ]
  },
  {
   "cell_type": "code",
   "execution_count": 58,
   "id": "380a6bbc-270f-44a3-a264-4449de8efab4",
   "metadata": {},
   "outputs": [],
   "source": [
    "analysis = qa_with_sources.invoke(\"Please provide an overall financial analysis and Information available\")\n",
    "report = f\"{analysis['result']}\""
   ]
  },
  {
   "cell_type": "code",
   "execution_count": 59,
   "id": "5b9b31e0-40ee-4ebd-871c-7747100d9d1a",
   "metadata": {},
   "outputs": [
    {
     "name": "stdout",
     "output_type": "stream",
     "text": [
      "**Company Profile:**\n",
      "\n",
      "Microsoft Corporation develops and supports software, services, devices, and solutions worldwide.  Their business is segmented into three key areas:\n",
      "\n",
      "* **Productivity and Business Processes:** This segment includes Office products (Office, Exchange, SharePoint, Microsoft Teams, etc.), Microsoft 365 subscriptions, LinkedIn, and Dynamics business solutions (Dynamics 365, Power Apps, Power Automate, etc.).\n",
      "* **Intelligent Cloud:** This segment encompasses server products and cloud services (Azure, SQL Server, Windows Server, Visual Studio, GitHub, Nuance, etc.) and enterprise services.\n",
      "* **More Personal Computing:** This segment includes Windows operating system licensing, patent licensing, devices (Surface, HoloLens, etc.), gaming (Xbox hardware and content, Xbox Game Pass, etc.), and search and news advertising (Bing, Microsoft News, Edge).\n",
      "\n",
      "Microsoft distributes its products through various channels, including OEMs, distributors, resellers, digital marketplaces, online stores, and retail stores.\n",
      "\n",
      "\n",
      "**1. Income Statement Analysis:**\n",
      "\n",
      "* **Revenue Growth:**\n",
      "    * 2022-2023: Increased by 18.0% ($168.09B to $211.92B)\n",
      "    * 2023-2024: Increased by 11.4% ($211.92B to $245.12B)\n",
      "\n",
      "* **Gross Profit:**\n",
      "    * 2022-2023: Increased by 16.7% ($115.86B to $146.05B)\n",
      "    * 2023-2024: Increased by 13.7% ($146.05B to $171.01B)\n",
      "\n",
      "* **Net Income:**\n",
      "    * 2022-2023: Decreased by 14.4% ($61.27B to $72.74B)\n",
      "    * 2023-2024: Increased by 21.2% ($72.74B to $88.14B)\n",
      "\n",
      "\n",
      "**2. Cash Flow Statement Analysis:**\n",
      "\n",
      "* **Operating Cash Flow:**\n",
      "    * 2022-2023: Increased by 14.5% ($76.74B to $89.04B)\n",
      "    * 2023-2024: Increased by 15.7% ($89.04B to $118.55B)\n",
      "\n",
      "* **Investing Cash Flow:**\n",
      "    * 2022-2023: Increased by 72.6% (-$27.58B to -$30.31B)\n",
      "    * 2023-2024: Increased by 220.5% (-$30.31B to -$96.97B)\n",
      "\n",
      "* **Financing Cash Flow:**\n",
      "    * 2022-2023: Increased by 32.4% (-$48.49B to -$58.88B)\n",
      "    * 2023-2024: Decreased by 35.8% (-$58.88B to -$37.76B)\n",
      "\n",
      "\n",
      "**3. Balance Sheet Analysis:**\n",
      "\n",
      "* **Total Assets:**\n",
      "    * 2022-2023: Increased by 21.9% ($333.78B to $411.98B)\n",
      "    * 2023-2024: Increased by 24.3% ($411.98B to $512.16B)\n",
      "\n",
      "* **Equity:**\n",
      "    * 2022-2023: Increased by 23.8% ($141.99B to $206.22B)\n",
      "    * 2023-2024: Increased by 29.9% ($206.22B to $268.48B)\n",
      "\n",
      "\n",
      "**4. Summary:**\n",
      "\n",
      "* **2022-2023:** Microsoft experienced strong revenue and gross profit growth, but net income declined.  Operating cash flow increased significantly, while investing and financing cash flows saw substantial increases in outflows. Total assets and equity both grew considerably.\n",
      "\n",
      "* **2023-2024:**  Microsoft continued its revenue and gross profit growth trajectory, with a significant rebound in net income. Operating cash flow continued its strong growth, while investing cash flow saw a massive increase in outflow, likely due to acquisitions or increased capital expenditures. Financing cash flow saw a decrease in outflow. Total assets and equity continued their upward trend.\n",
      "\n"
     ]
    }
   ],
   "source": [
    "print(report)"
   ]
  },
  {
   "cell_type": "code",
   "execution_count": null,
   "id": "4a1c4d91-fa9d-4f79-b25d-f7b2560a629e",
   "metadata": {},
   "outputs": [],
   "source": []
  }
 ],
 "metadata": {
  "kernelspec": {
   "display_name": "Python (rag)",
   "language": "python",
   "name": "rag"
  },
  "language_info": {
   "codemirror_mode": {
    "name": "ipython",
    "version": 3
   },
   "file_extension": ".py",
   "mimetype": "text/x-python",
   "name": "python",
   "nbconvert_exporter": "python",
   "pygments_lexer": "ipython3",
   "version": "3.11.10"
  }
 },
 "nbformat": 4,
 "nbformat_minor": 5
}
