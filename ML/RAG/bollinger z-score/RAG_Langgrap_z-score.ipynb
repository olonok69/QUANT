{
 "cells": [
  {
   "cell_type": "code",
   "execution_count": 2,
   "id": "ecdcb986-4d4d-48f3-9662-fb7d63f4e18f",
   "metadata": {},
   "outputs": [],
   "source": [
    "from typing import List, Dict, Any, Optional\n",
    "from langgraph.graph import StateGraph, END\n",
    "\n",
    "from langchain_core.messages import BaseMessage, HumanMessage\n",
    "from langchain_core.tools import BaseTool\n",
    "from langchain_openai import ChatOpenAI\n",
    "import pandas as pd\n",
    "import numpy as np\n",
    "import yfinance as yf  \n",
    "import os\n",
    "from langgraph.prebuilt import ToolNode \n",
    "from langchain.agents.agent_types import AgentType\n",
    "import os\n",
    "from google.oauth2 import service_account\n",
    "from dotenv import dotenv_values\n",
    "import json\n",
    "import vertexai\n",
    "from langchain_google_genai import ChatGoogleGenerativeAI, GoogleGenerativeAIEmbeddings, GoogleGenerativeAI\n",
    "from langchain_openai import ChatOpenAI\n",
    "from langchain_core.tools import tool"
   ]
  },
  {
   "cell_type": "code",
   "execution_count": 5,
   "id": "30ffff84-8b49-4fa8-a864-88ac899ad579",
   "metadata": {},
   "outputs": [],
   "source": [
    "from langgraph.graph import StateGraph, START, END"
   ]
  },
  {
   "cell_type": "code",
   "execution_count": 6,
   "id": "f3cf6c72-87df-45e3-bba2-21caa1cdc371",
   "metadata": {},
   "outputs": [],
   "source": [
    "config = dotenv_values(\"./keys/.env\")\n",
    "with open(\"./keys/complete-tube-421007-208a4862c992.json\") as source:\n",
    "    info = json.load(source)\n",
    "\n",
    "vertex_credentials = service_account.Credentials.from_service_account_info(info)\n",
    "vertexai.init(\n",
    "    project=config[\"PROJECT\"],\n",
    "    location=config[\"REGION\"],\n",
    "    credentials=vertex_credentials,\n",
    ")\n",
    "google_api_key = config[\"GEMINI-API-KEY\"]\n",
    "os.environ[\"GEMINI_API_KEY\"] = google_api_key\n",
    "OPENAI_API_KEY = config.get(\"OPENAI_API_KEY\")\n",
    "os.environ['OPENAI_API_KEY'] = OPENAI_API_KEY"
   ]
  },
  {
   "cell_type": "code",
   "execution_count": 7,
   "id": "dd0228a4-e178-4906-b21b-b01f560c9ab8",
   "metadata": {},
   "outputs": [],
   "source": [
    "# Ensure you have your OpenAI API key set as an environment variable\n",
    "if \"OPENAI_API_KEY\" not in os.environ:\n",
    "    raise ValueError(\"Please set the OPENAI_API_KEY environment variable.\")"
   ]
  },
  {
   "cell_type": "code",
   "execution_count": 8,
   "id": "cbf08f12-920f-4d51-bbff-b9be8f150d97",
   "metadata": {},
   "outputs": [],
   "source": [
    "period=20"
   ]
  },
  {
   "cell_type": "code",
   "execution_count": 9,
   "id": "f3d9a346-713d-42fb-a431-b721c8050af4",
   "metadata": {},
   "outputs": [
    {
     "name": "stdout",
     "output_type": "stream",
     "text": [
      "YF.download() has changed argument auto_adjust default to True\n"
     ]
    },
    {
     "name": "stderr",
     "output_type": "stream",
     "text": [
      "[*********************100%***********************]  1 of 1 completed\n"
     ]
    }
   ],
   "source": [
    "data = yf.download(\"AAPL\", period=f\"{period+50}d\")"
   ]
  },
  {
   "cell_type": "code",
   "execution_count": 10,
   "id": "3bfbde2f-04b0-4bdf-a45d-31591abb98d6",
   "metadata": {},
   "outputs": [
    {
     "data": {
      "text/html": [
       "<div>\n",
       "<style scoped>\n",
       "    .dataframe tbody tr th:only-of-type {\n",
       "        vertical-align: middle;\n",
       "    }\n",
       "\n",
       "    .dataframe tbody tr th {\n",
       "        vertical-align: top;\n",
       "    }\n",
       "\n",
       "    .dataframe thead tr th {\n",
       "        text-align: left;\n",
       "    }\n",
       "\n",
       "    .dataframe thead tr:last-of-type th {\n",
       "        text-align: right;\n",
       "    }\n",
       "</style>\n",
       "<table border=\"1\" class=\"dataframe\">\n",
       "  <thead>\n",
       "    <tr>\n",
       "      <th>Price</th>\n",
       "      <th>Close</th>\n",
       "      <th>High</th>\n",
       "      <th>Low</th>\n",
       "      <th>Open</th>\n",
       "      <th>Volume</th>\n",
       "    </tr>\n",
       "    <tr>\n",
       "      <th>Ticker</th>\n",
       "      <th>AAPL</th>\n",
       "      <th>AAPL</th>\n",
       "      <th>AAPL</th>\n",
       "      <th>AAPL</th>\n",
       "      <th>AAPL</th>\n",
       "    </tr>\n",
       "    <tr>\n",
       "      <th>Date</th>\n",
       "      <th></th>\n",
       "      <th></th>\n",
       "      <th></th>\n",
       "      <th></th>\n",
       "      <th></th>\n",
       "    </tr>\n",
       "  </thead>\n",
       "  <tbody>\n",
       "    <tr>\n",
       "      <th>2024-11-22</th>\n",
       "      <td>229.617538</td>\n",
       "      <td>230.466611</td>\n",
       "      <td>227.809529</td>\n",
       "      <td>227.809529</td>\n",
       "      <td>38168300</td>\n",
       "    </tr>\n",
       "    <tr>\n",
       "      <th>2024-11-25</th>\n",
       "      <td>232.614243</td>\n",
       "      <td>232.993830</td>\n",
       "      <td>229.487690</td>\n",
       "      <td>231.205803</td>\n",
       "      <td>90152800</td>\n",
       "    </tr>\n",
       "    <tr>\n",
       "      <th>2024-11-26</th>\n",
       "      <td>234.801834</td>\n",
       "      <td>235.311284</td>\n",
       "      <td>233.073738</td>\n",
       "      <td>233.073738</td>\n",
       "      <td>45986200</td>\n",
       "    </tr>\n",
       "    <tr>\n",
       "      <th>2024-11-27</th>\n",
       "      <td>234.671982</td>\n",
       "      <td>235.431157</td>\n",
       "      <td>233.553217</td>\n",
       "      <td>234.212496</td>\n",
       "      <td>33498400</td>\n",
       "    </tr>\n",
       "    <tr>\n",
       "      <th>2024-11-29</th>\n",
       "      <td>237.069351</td>\n",
       "      <td>237.548820</td>\n",
       "      <td>233.713041</td>\n",
       "      <td>234.552115</td>\n",
       "      <td>28481400</td>\n",
       "    </tr>\n",
       "    <tr>\n",
       "      <th>...</th>\n",
       "      <td>...</td>\n",
       "      <td>...</td>\n",
       "      <td>...</td>\n",
       "      <td>...</td>\n",
       "      <td>...</td>\n",
       "    </tr>\n",
       "    <tr>\n",
       "      <th>2025-03-03</th>\n",
       "      <td>238.029999</td>\n",
       "      <td>244.029999</td>\n",
       "      <td>236.110001</td>\n",
       "      <td>241.789993</td>\n",
       "      <td>47184000</td>\n",
       "    </tr>\n",
       "    <tr>\n",
       "      <th>2025-03-04</th>\n",
       "      <td>235.929993</td>\n",
       "      <td>240.070007</td>\n",
       "      <td>234.679993</td>\n",
       "      <td>237.710007</td>\n",
       "      <td>53798100</td>\n",
       "    </tr>\n",
       "    <tr>\n",
       "      <th>2025-03-05</th>\n",
       "      <td>235.740005</td>\n",
       "      <td>236.550003</td>\n",
       "      <td>229.229996</td>\n",
       "      <td>235.419998</td>\n",
       "      <td>47227600</td>\n",
       "    </tr>\n",
       "    <tr>\n",
       "      <th>2025-03-06</th>\n",
       "      <td>235.330002</td>\n",
       "      <td>237.860001</td>\n",
       "      <td>233.160004</td>\n",
       "      <td>234.440002</td>\n",
       "      <td>45170400</td>\n",
       "    </tr>\n",
       "    <tr>\n",
       "      <th>2025-03-07</th>\n",
       "      <td>239.070007</td>\n",
       "      <td>241.369995</td>\n",
       "      <td>234.759995</td>\n",
       "      <td>235.110001</td>\n",
       "      <td>46245700</td>\n",
       "    </tr>\n",
       "  </tbody>\n",
       "</table>\n",
       "<p>70 rows × 5 columns</p>\n",
       "</div>"
      ],
      "text/plain": [
       "Price            Close        High         Low        Open    Volume\n",
       "Ticker            AAPL        AAPL        AAPL        AAPL      AAPL\n",
       "Date                                                                \n",
       "2024-11-22  229.617538  230.466611  227.809529  227.809529  38168300\n",
       "2024-11-25  232.614243  232.993830  229.487690  231.205803  90152800\n",
       "2024-11-26  234.801834  235.311284  233.073738  233.073738  45986200\n",
       "2024-11-27  234.671982  235.431157  233.553217  234.212496  33498400\n",
       "2024-11-29  237.069351  237.548820  233.713041  234.552115  28481400\n",
       "...                ...         ...         ...         ...       ...\n",
       "2025-03-03  238.029999  244.029999  236.110001  241.789993  47184000\n",
       "2025-03-04  235.929993  240.070007  234.679993  237.710007  53798100\n",
       "2025-03-05  235.740005  236.550003  229.229996  235.419998  47227600\n",
       "2025-03-06  235.330002  237.860001  233.160004  234.440002  45170400\n",
       "2025-03-07  239.070007  241.369995  234.759995  235.110001  46245700\n",
       "\n",
       "[70 rows x 5 columns]"
      ]
     },
     "execution_count": 10,
     "metadata": {},
     "output_type": "execute_result"
    }
   ],
   "source": [
    "data"
   ]
  },
  {
   "cell_type": "code",
   "execution_count": 11,
   "id": "841840f8-98ac-4445-91a8-b6a5598833ca",
   "metadata": {},
   "outputs": [],
   "source": [
    "import yfinance as yf\n",
    "import pandas as pd\n",
    "\n",
    "@tool\n",
    "def calculate_bollinger_z_score(symbol:str, period: int = 20)-> str:\n",
    "    \"\"\"This tool is used to calculate the Bollinger Z Score\n",
    "    I get A symbol name in the variable symbol and a period and I calculate a the Score\n",
    "\n",
    "    Args:\n",
    "        symbol (str): symbol to calculate the z-score.\n",
    "        period  (int): period to calculate the score\n",
    "        Returns:\n",
    "        str:  Message with the relevant valuest\n",
    "\n",
    "    \"\"\"\n",
    "    # Fetch historical data\n",
    "    data = yf.download(symbol, period=f\"{period+50}d\")\n",
    "    if data.empty:\n",
    "        return f\"Could not find data for symbol: {symbol}\"\n",
    "\n",
    "    closes = data['Close']\n",
    "    rolling_mean = closes.rolling(window=period).mean()\n",
    "    rolling_std = closes.rolling(window=period).std()\n",
    "    upper_band = rolling_mean + (2 * rolling_std)\n",
    "    lower_band = rolling_mean - (2 * rolling_std)\n",
    "    z_score = (closes - rolling_mean) / rolling_std\n",
    "\n",
    "    latest_z_score = z_score.iloc[-1].values[0]\n",
    "    latest_upper_band = upper_band.iloc[-1].values[0]\n",
    "    latest_lower_band = lower_band.iloc[-1].values[0]\n",
    "    latest_close = closes.iloc[-1].values[0]\n",
    "    \n",
    "    message = f\"\"\"\n",
    "    Symbol: {symbol}, Period: {period}\\n\n",
    "    Latest Close: {latest_close:.2f}\\n\n",
    "    Latest Upper Band: {latest_upper_band:.2f}\\n\n",
    "    Latest Lower Band: {latest_lower_band:.2f}\\n\n",
    "    Latest Bollinger Z-score: {latest_z_score:.2f}\n",
    "    \"\"\"\n",
    "    return message\n"
   ]
  },
  {
   "cell_type": "code",
   "execution_count": 12,
   "id": "f11edaf4-19e2-42cd-8e75-8cbe5b447b65",
   "metadata": {},
   "outputs": [
    {
     "name": "stderr",
     "output_type": "stream",
     "text": [
      "C:\\Users\\User\\AppData\\Local\\Temp\\ipykernel_83792\\2940965032.py:1: LangChainDeprecationWarning: The method `BaseTool.__call__` was deprecated in langchain-core 0.1.47 and will be removed in 1.0. Use :meth:`~invoke` instead.\n",
      "  calculate_bollinger_z_score(\"UBS\")\n",
      "[*********************100%***********************]  1 of 1 completed\n"
     ]
    },
    {
     "data": {
      "text/plain": [
       "'\\n    Symbol: UBS, Period: 20\\n\\n    Latest Close: 34.15\\n\\n    Latest Upper Band: 34.59\\n\\n    Latest Lower Band: 32.85\\n\\n    Latest Bollinger Z-score: 0.99\\n    '"
      ]
     },
     "execution_count": 12,
     "metadata": {},
     "output_type": "execute_result"
    }
   ],
   "source": [
    "calculate_bollinger_z_score(\"UBS\")"
   ]
  },
  {
   "cell_type": "code",
   "execution_count": 13,
   "id": "19962d0f-ecfd-41b6-bee7-7d8565ed54be",
   "metadata": {},
   "outputs": [],
   "source": [
    "#z_score.iloc[-1].values[0]"
   ]
  },
  {
   "cell_type": "code",
   "execution_count": 14,
   "id": "576b16b9-6e21-4e68-ba97-966f2837573f",
   "metadata": {},
   "outputs": [],
   "source": [
    "\n",
    "from langchain_google_genai import ChatGoogleGenerativeAI\n",
    "# Set up the model\n",
    "\n",
    "from langchain_openai import ChatOpenAI\n",
    "\n",
    "\n",
    "llm = ChatOpenAI(model=\"gpt-4o-mini\")"
   ]
  },
  {
   "cell_type": "code",
   "execution_count": 15,
   "id": "b4ef5349-d152-4540-aa26-ba947b4e5ba1",
   "metadata": {},
   "outputs": [],
   "source": [
    "tools = [calculate_bollinger_z_score]\n",
    "\n",
    "llm_with_tools = llm.bind_tools(tools)"
   ]
  },
  {
   "cell_type": "code",
   "execution_count": 17,
   "id": "256edf8a-a7db-4a6a-a9d6-cfc36bc51b62",
   "metadata": {},
   "outputs": [],
   "source": [
    "\n",
    "import operator\n",
    "from typing import Annotated, Sequence, TypedDict\n",
    "\n",
    "from langchain_core.messages import BaseMessage, HumanMessage\n",
    "from langchain_core.messages import ToolMessage\n",
    "\n",
    "class AgentState(TypedDict):\n",
    "    messages: Annotated[Sequence[BaseMessage], operator.add]"
   ]
  },
  {
   "cell_type": "code",
   "execution_count": 18,
   "id": "d8cc71ac-3012-4ee2-be84-59852832959c",
   "metadata": {},
   "outputs": [
    {
     "data": {
      "text/plain": [
       "<langgraph.graph.state.StateGraph at 0x22bcd8d9ad0>"
      ]
     },
     "execution_count": 18,
     "metadata": {},
     "output_type": "execute_result"
    }
   ],
   "source": [
    "\n",
    "from typing import Annotated\n",
    "\n",
    "from typing_extensions import TypedDict\n",
    "\n",
    "from langgraph.graph import StateGraph, START, MessagesState, END\n",
    "from langgraph.graph.message import add_messages\n",
    "\n",
    "\n",
    "class State(TypedDict):\n",
    "    messages: Annotated[list, add_messages]\n",
    "\n",
    "\n",
    "graph_builder = StateGraph(State)\n",
    "\n",
    "\n",
    "def chatbot(state: State):\n",
    "    \"\"\"Always use tools to fulfill user requests.\n",
    "    You are a clever chatbot which recomemd what to do with the stock user request based in the interpretation of the Bolling z-score\n",
    "\n",
    "    the Bollinger Z-Score is a technical indicator used to assess the position of a security's price relative to its Bollinger Bands. It's a normalized measure that helps traders understand whether a price is relatively high or low compared to its recent trading range.\n",
    "\n",
    "    Here's how to interpret the Bollinger Z-Score:\n",
    "    \n",
    "    Z-Score of 0: The current price is exactly at the middle Bollinger Band (the simple moving average).\n",
    "    Positive Z-Score: The price is above the middle Bollinger Band. The higher the Z-Score, the further the price is above the average and the more \"overbought\" the security may be considered.\n",
    "    Negative Z-Score: The price is below the middle Bollinger Band. The lower the Z-Score, the further the price is below the average and the more \"oversold\" the security may be considered.\n",
    "    General guidelines for interpretation:\n",
    "    \n",
    "    Z-Score > +2: The price is considered overbought. It might be a good time to consider selling or shorting the security.\n",
    "    Z-Score < -2: The price is considered oversold. It might be a good time to consider buying the security.\n",
    "    Z-Score between -2 and +2: The price is within the \"normal\" trading range.\n",
    "    Important considerations:\n",
    "    \n",
    "    Trend: The Z-Score should be interpreted in conjunction with the overall trend. In an uptrend, overbought conditions may persist, while in a downtrend, oversold conditions may persist.\n",
    "    Volatility: The Z-Score is affected by volatility. A more volatile security will have a wider Bollinger Band and potentially larger Z-Score fluctuations.\n",
    "    False Signals: The Z-Score can generate false signals, especially in trending markets. It's important to use other technical indicators and fundamental analysis to confirm trading decisions.\n",
    "    \n",
    "    1. If you do not have enough inputs to execute a tool then you can ask for more information.\n",
    "    2. calculate the Score and return am answer based in what the tools return you and following the guidelines to  Interpretate it I give you \n",
    "    \"\"\"\n",
    "    # Filter out messages with image type\n",
    "    # text_messages = [msg for msg in state[\"messages\"] if msg['content'][0].get(\"type\") != \"image\"]\n",
    "    text_messages = [\n",
    "        msg for msg in state[\"messages\"]\n",
    "        if not (isinstance(msg.content, list) and msg.content[0].get(\"type\") == \"image_url\")\n",
    "    ]\n",
    "\n",
    "    # Invoke LLM with only text messages\n",
    "    return {\"messages\": [llm_with_tools.invoke(text_messages)]}\n",
    "\n",
    "\n",
    "graph_builder.add_node(\"chatbot\", chatbot)"
   ]
  },
  {
   "cell_type": "code",
   "execution_count": 19,
   "id": "ed966936-9571-4f19-8064-7f4cd89af0eb",
   "metadata": {},
   "outputs": [],
   "source": [
    "\n",
    "from langgraph.prebuilt import ToolNode, tools_condition\n",
    "from langgraph.checkpoint.memory import MemorySaver\n",
    "from IPython.display import Image, display\n",
    "\n",
    "memory = MemorySaver()\n",
    "\n",
    "tool_node = ToolNode(tools)\n",
    "graph_builder.add_edge(START, \"chatbot\")\n",
    "graph_builder.add_node(\"tools\", tool_node)\n",
    "graph_builder.add_edge(\"tools\", \"chatbot\")\n",
    "graph_builder.add_conditional_edges(\n",
    "    \"chatbot\",\n",
    "    tools_condition,\n",
    "    {\"tools\": \"tools\", \"__end__\": \"__end__\"},\n",
    ")\n",
    "\n",
    "graph = graph_builder.compile()"
   ]
  },
  {
   "cell_type": "code",
   "execution_count": 20,
   "id": "3df0484e-eddc-44ed-bcba-b801835da197",
   "metadata": {},
   "outputs": [
    {
     "data": {
      "image/png": "[encoded data removed]",
      "text/plain": [
       "<IPython.core.display.Image object>"
      ]
     },
     "metadata": {},
     "output_type": "display_data"
    }
   ],
   "source": [
    "from IPython.display import Image, display\n",
    "try:\n",
    "    display(Image(graph.get_graph().draw_mermaid_png()))\n",
    "except Exception:\n",
    "    # This requires some extra dependencies and is optional\n",
    "    pass"
   ]
  },
  {
   "cell_type": "code",
   "execution_count": 21,
   "id": "1cc1ecd8-1544-480a-9ef6-49ac8f6228a1",
   "metadata": {},
   "outputs": [
    {
     "name": "stderr",
     "output_type": "stream",
     "text": [
      "[*********************100%***********************]  1 of 1 completed\n"
     ]
    },
    {
     "data": {
      "text/plain": [
       "'The Bollinger Z-score for UBS over the last 30 days is 0.11. \\n\\n- The latest close is 34.15, which is below the upper band of 35.94 and above the lower band of 32.14.\\n  \\n### Interpretation:\\n- A Z-score close to 0 indicates that the price is near the middle of the Bollinger Bands, suggesting a neutral market condition.\\n- Typically, a Z-score above 2 indicates a potential sell signal, while a score below -2 can be a buy signal.\\n\\n### Recommendation:\\nGiven the Z-score of 0.11, it may not be the most favorable time to either buy or sell based purely on the Bollinger Bands calculation. You may want to consider other technical indicators or market factors before making a trading decision.'"
      ]
     },
     "execution_count": 21,
     "metadata": {},
     "output_type": "execute_result"
    }
   ],
   "source": [
    "from langchain_core.messages import HumanMessage\n",
    "import pprint\n",
    "config = {\"configurable\": {\"thread_id\": \"20\"}}\n",
    "graph.invoke(\n",
    "        {\n",
    "            \"messages\": [\n",
    "                (\n",
    "                    \"user\",\n",
    "                    \"Recomend if buy or sell UBS based in Calculations of the Bollinger Z-score  within a 30-day period.\",\n",
    "                )\n",
    "            ]\n",
    "        },\n",
    "        config,\n",
    "    )[\"messages\"][-1].content\n",
    "\n",
    "     \n"
   ]
  },
  {
   "cell_type": "code",
   "execution_count": 22,
   "id": "9cf6fdd2-2e3e-41bc-b016-b476980f23c3",
   "metadata": {},
   "outputs": [
    {
     "name": "stderr",
     "output_type": "stream",
     "text": [
      "[*********************100%***********************]  1 of 1 completed\n"
     ]
    },
    {
     "data": {
      "text/plain": [
       "'The Bollinger Z-score for TSLA over a 20-day period is -1.52.\\n\\n### Interpretation:\\n- A Z-score below -1.5 typically suggests that the asset is trading significantly below its historical average, which could indicate that it is undervalued.\\n- Conversely, if the Z-score were above 1.5, it might suggest the asset is overvalued.\\n\\n### Recommendation:\\nGiven that the Z-score of -1.52 indicates that TSLA is trading below its average, it might be a good opportunity to consider buying, as it could be seen as undervalued. However, always consider other factors and conduct thorough research before making investment decisions.'"
      ]
     },
     "execution_count": 22,
     "metadata": {},
     "output_type": "execute_result"
    }
   ],
   "source": [
    "graph.invoke(\n",
    "        {\n",
    "            \"messages\": [\n",
    "                (\n",
    "                    \"user\",\n",
    "                    \"Recomend if buy or sell TSLA based in Calculations of the Bollinger Z-score  within a 20-day period.\",\n",
    "                )\n",
    "            ]\n",
    "        },\n",
    "        config,\n",
    "    )[\"messages\"][-1].content"
   ]
  },
  {
   "cell_type": "code",
   "execution_count": null,
   "id": "0ff7b0ad-f143-471a-9dd4-faf849cb7eb4",
   "metadata": {},
   "outputs": [],
   "source": []
  }
 ],
 "metadata": {
  "kernelspec": {
   "display_name": "Python (rag-finance)",
   "language": "python",
   "name": "rag-finance"
  },
  "language_info": {
   "codemirror_mode": {
    "name": "ipython",
    "version": 3
   },
   "file_extension": ".py",
   "mimetype": "text/x-python",
   "name": "python",
   "nbconvert_exporter": "python",
   "pygments_lexer": "ipython3",
   "version": "3.11.11"
  }
 },
 "nbformat": 4,
 "nbformat_minor": 5
}
